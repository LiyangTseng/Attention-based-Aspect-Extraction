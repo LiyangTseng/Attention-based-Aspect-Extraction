{
 "metadata": {
  "language_info": {
   "codemirror_mode": {
    "name": "ipython",
    "version": 3
   },
   "file_extension": ".py",
   "mimetype": "text/x-python",
   "name": "python",
   "nbconvert_exporter": "python",
   "pygments_lexer": "ipython3",
   "version": "3.8.3"
  },
  "orig_nbformat": 2,
  "kernelspec": {
   "name": "python3",
   "display_name": "Python 3.8.3 64-bit ('base': conda)"
  },
  "interpreter": {
   "hash": "92bfc3548baa6bf47056a68e0b67ae206554386d09af1748009e58de9bd0f0fe"
  }
 },
 "nbformat": 4,
 "nbformat_minor": 2,
 "cells": [
  {
   "cell_type": "code",
   "execution_count": 13,
   "metadata": {},
   "outputs": [
    {
     "output_type": "stream",
     "name": "stdout",
     "text": [
      "The autoreload extension is already loaded. To reload it, use:\n  %reload_ext autoreload\n"
     ]
    }
   ],
   "source": [
    "%load_ext autoreload\n",
    "%autoreload 2"
   ]
  },
  {
   "cell_type": "code",
   "execution_count": 14,
   "metadata": {},
   "outputs": [],
   "source": [
    "import warnings\n",
    "warnings.filterwarnings(\"ignore\")\n",
    "import numpy as np\n",
    "import pandas as pd\n",
    "import seaborn as sns\n",
    "import matplotlib.pyplot as plt\n",
    "from tqdm.notebook import tqdm\n",
    "\n",
    "\n",
    "import torch\n",
    "from torch.autograd import Variable\n",
    "from torch.utils.data import DataLoader\n",
    "\n",
    "from flair.data import Sentence\n",
    "from flair.embeddings import WordEmbeddings\n",
    "\n",
    "from sklearn.cluster import KMeans\n",
    "from sklearn.metrics.pairwise import cosine_similarity, cosine_distances, euclidean_distances\n",
    "\n",
    "from gensim.models import KeyedVectors, word2vec\n",
    "\n",
    "from dataset import BibleDataset, custom_collate_fn\n",
    "from model import AspectAutoencoder\n",
    "from loss import TripletMarginCosineLoss, OrthogonalityLoss\n",
    "from train_wv import get_wv"
   ]
  },
  {
   "cell_type": "code",
   "execution_count": 15,
   "metadata": {},
   "outputs": [],
   "source": [
    "import nltk\n",
    "home_path = os.path.expanduser('~')\n",
    "if not os.path.exists(os.path.join(home_path, 'nltk_data/corpora/stopwords')):\n",
    "    nltk.download('stopwords')"
   ]
  },
  {
   "cell_type": "code",
   "execution_count": 16,
   "metadata": {},
   "outputs": [],
   "source": [
    "dataset = BibleDataset(\"./t_kjv.csv\", word_to_index=True)\n",
    "dataloader = DataLoader(dataset, batch_size=50, shuffle=True, collate_fn=custom_collate_fn)"
   ]
  },
  {
   "cell_type": "code",
   "execution_count": 37,
   "metadata": {},
   "outputs": [],
   "source": [
    "verses = [verse_tuple[0] for verse_tuple in dataset]"
   ]
  },
  {
   "cell_type": "code",
   "execution_count": 65,
   "metadata": {},
   "outputs": [],
   "source": [
    "bible_kjv_sents = []\n",
    "for verse in verses:\n",
    "    verse_list = [dataset.id2word[verse_idx] for verse_idx in verse]\n",
    "    bible_kjv_sents.append(verse_list)"
   ]
  },
  {
   "cell_type": "code",
   "execution_count": 67,
   "metadata": {},
   "outputs": [
    {
     "output_type": "stream",
     "name": "stdout",
     "text": [
      "bible word embeddings generated and stored at w2v/bible_word2vec_org\n"
     ]
    }
   ],
   "source": [
    "bible_wv = get_wv(bible_kjv_sents)"
   ]
  },
  {
   "cell_type": "code",
   "execution_count": 68,
   "metadata": {
    "tags": []
   },
   "outputs": [
    {
     "output_type": "display_data",
     "data": {
      "text/plain": "  0%|          | 0/12530 [00:00<?, ?it/s]",
      "application/vnd.jupyter.widget-view+json": {
       "version_major": 2,
       "version_minor": 0,
       "model_id": "389a69509f0649009091af39a03ccf2e"
      }
     },
     "metadata": {}
    }
   ],
   "source": [
    "\"\"\" Generate Word Vectors for a Given Dataset \"\"\"\n",
    "\n",
    "embed_size = bible_wv.vector_size\n",
    "vocab_size = len(dataset.word2id.keys())\n",
    "wv = KeyedVectors(vector_size=embed_size)\n",
    "\n",
    "embeddings = torch.empty(vocab_size, embed_size)\n",
    "\n",
    "for word, id in tqdm(dataset.word2id.items()):\n",
    "    embeddings[id] = torch.from_numpy(bible_wv[word]).to(embeddings)\n",
    "\n"
   ]
  },
  {
   "cell_type": "code",
   "execution_count": 69,
   "metadata": {},
   "outputs": [
    {
     "output_type": "stream",
     "name": "stdout",
     "text": [
      "Initial aspects via K means:\nAspect 01:  ['overlaid', 'spoons', 'hooks', 'dishes', 'knops', 'pins', 'hanging', 'skins', 'crisping', 'chapiters']\nAspect 02:  ['shuham', 'kibzaim', 'dimnah', 'mahali', 'shuhamites', 'masrekah', 'camon', 'jezerites', 'nahalal', 'archevites']\nAspect 03:  ['maaseiah', 'aziel', 'asaiah', 'uzzi', 'jashobeam', 'jehonathan', 'azaziah', 'shemiramoth', 'shelemiah', 'shimri']\nAspect 04:  ['jews', 'astrologers', 'paul', 'antioch', 'rehoboam', 'pharisees', 'junia', 'daniel', 'andronicus', 'governor']\nAspect 05:  ['zebina', 'nahath', 'zithri', 'muppim', 'abihud', 'addar', 'rosh', 'jashubites', 'allon', 'sharar']\nAspect 06:  ['year', 'seventh', 'month', 'eighth', 'thirtieth', 'fortieth', 'eighteenth', 'evilmerodach', 'months', 'expired']\nAspect 07:  ['trespassed', 'transgression', 'wickedly', 'punished', 'lewdness', 'erred', 'wickedness', 'witchcraft', 'sinned', 'thefts']\nAspect 08:  ['gave', 'took', 'followed', 'saw', 'slew', 'smote', 'sat', 'arose', 'ran', 'returned']\nAspect 09:  ['grape', 'baked', 'barrel', 'grapes', 'wheat', 'unsavoury', 'vine', 'parched', 'flour', 'butter']\nAspect 10:  ['dishes', 'greaves', 'swan', \"badgers'\", 'deer', 'inflammation', 'gier', 'flanks', 'pygarg', 'pelican']\nAspect 11:  ['ran', 'hasted', 'sat', 'arose', 'beheld', 'passed', 'met', 'kissed', 'returned', 'entered']\nAspect 12:  ['syrians', 'pursued', 'jericho', 'overtook', 'bethshittah', 'hit', 'garrison', 'overturned', 'along', 'landed']\nAspect 13:  ['pedahel', 'zebulunites', 'shuhamites', 'shiloni', 'asherites', 'azzan', 'landing', 'masrekah', 'mahali', 'shuham']\nAspect 14:  ['pharah', 'avim', 'hod', 'shilshah', 'remeth', 'beera', 'shamma', 'enhaddah', 'bethpazzez', 'amam']\nAspect 15:  ['rebekah', 'companion', 'rizpah', 'tamar', 'naomi', 'aiah', 'wife', 'sister', 'conceived', 'abigail']\nAspect 16:  ['escape', 'depart', 'flee', 'abide', 'get', 'enter', 'remain', 'swallow', 'bring', 'drive']\nAspect 17:  ['asswaged', 'interpreting', 'performing', 'wraths', 'shamhuth', 'uncorruptness', 'appeaseth', 'izrahite', 'asswage', 'zebulunites']\nAspect 18:  ['dreams', 'read', 'seer', 'learned', 'sayings', 'prophecy', 'understand', 'misused', 'answer', 'words']\nAspect 19:  ['sheweth', 'gentleness', 'saviour', 'glorious', 'longsuffering', 'unrighteousness', 'majesty', 'salvation', 'goodness', 'honour']\nAspect 20:  ['thirteen', 'zephon', 'phuvah', 'gadites', 'shuni', 'pahathmoab', 'issachar', 'shunites', 'shobai', 'talmon']\nAspect 21:  ['fatherless', 'poor', 'needy', 'widow', 'rich', 'stranger', 'taker', 'oppress', 'widows', 'giver']\nAspect 22:  ['clouds', 'heat', 'cloud', 'floods', 'tempest', 'smoke', 'overflowing', 'dark', 'thunder', 'waterspouts']\nAspect 23:  ['geshurites', 'amalekites', 'overtook', 'archi', 'coast', 'maachathites', 'bethjeshimoth', 'hamath', 'aroer', 'heshbon']\nAspect 24:  ['art', 'doest', 'heardest', 'sayest', 'spakest', 'wast', 'seest', 'sawest', 'saidst', 'knowest']\nAspect 25:  ['solemn', 'feasts', 'sacrifice', 'offer', 'sabbaths', 'hallow', 'thanksgiving', 'ordinance', 'sanctify', 'incense']\nAspect 26:  ['battle', 'war', 'fight', 'armed', 'syrians', 'armies', 'smelleth', 'fought', 'weapons', 'paweth']\nAspect 27:  ['robe', 'girded', 'mantle', 'beard', 'hem', 'fetters', 'towel', 'breeches', 'legs', 'purple']\nAspect 28:  ['magnify', 'prosper', 'rather', 'enemy', 'magnified', 'honor', 'thee', 'ashamed', 'preserve', 'saved']\nAspect 29:  ['killeth', 'hateth', 'gender', 'departeth', 'whoso', 'forecast', 'strifes', 'robbery', 'sinneth', 'brutish']\nAspect 30:  ['ignorance', 'falsely', 'perform', 'accept', 'hearers', 'justify', 'advantage', 'uncircumcision', 'observe', 'scythian']\n"
     ]
    }
   ],
   "source": [
    "\"\"\" Find K aspects in a Given Dataset using K-Means \"\"\"\n",
    "\n",
    "n_clusters = 30\n",
    "kmeans = KMeans(n_clusters=n_clusters, random_state=0).fit(bible_wv.vectors)\n",
    "centers = kmeans.cluster_centers_\n",
    "print('Initial aspects via K means:')\n",
    "for i in range(n_clusters):\n",
    "    print('Aspect {:02}: '.format(i+1), [word for word, _ in bible_wv.similar_by_vector(centers[i])])"
   ]
  },
  {
   "cell_type": "code",
   "execution_count": 70,
   "metadata": {},
   "outputs": [],
   "source": [
    "def coverage(data, dist=\"cosine\"):\n",
    "    if dist == \"cosine\":\n",
    "        mins = (cosine_distances(data) + np.eye(len(data)) * 1e5).min(axis=1)\n",
    "    elif dist == \"euclidean\":\n",
    "        mins = (euclidean_distances(data) + np.eye(len(data)) * 1e5).min(axis=1)\n",
    "    return np.square(np.var(mins)) / mins.mean()"
   ]
  },
  {
   "cell_type": "code",
   "execution_count": 78,
   "metadata": {},
   "outputs": [],
   "source": [
    "w_emb = torch.from_numpy(bible_wv.vectors)\n",
    "a_emb = torch.from_numpy(centers)\n",
    "seed_w = None\n",
    "num_seeds = None\n",
    "lr = 0.02\n",
    "epochs = 50\n",
    "min_len = 1\n",
    "l = 0.1\n",
    "fix_a_emb = False\n",
    "\n",
    "net = AspectAutoencoder(vocab_size, embed_size, num_aspects=n_clusters, neg_samples=10, w_emb=w_emb, a_emb=a_emb, recon_method=\"centr\", seed_w=seed_w, num_seeds=num_seeds, attention=True, fix_w_emb=True, fix_a_emb=fix_a_emb)\n",
    "\n",
    "if torch.cuda.is_available():\n",
    "    os.environ['CUDA_VISIBLE_DEVICES'] = '0'\n",
    "    net = net.cuda()\n",
    "\n",
    "rec_loss = TripletMarginCosineLoss()\n",
    "orth_loss = OrthogonalityLoss()\n",
    "\n",
    "params = filter(lambda p: p.requires_grad, net.parameters())\n",
    "optimizer = torch.optim.Adam(params, lr=lr)"
   ]
  },
  {
   "cell_type": "code",
   "execution_count": 79,
   "metadata": {},
   "outputs": [
    {
     "output_type": "display_data",
     "data": {
      "text/plain": "Total Epoch:   0%|          | 0/50 [00:00<?, ?it/s]",
      "application/vnd.jupyter.widget-view+json": {
       "version_major": 2,
       "version_minor": 0,
       "model_id": "4d05b00a3ba74a2b95dae0563a147a96"
      }
     },
     "metadata": {}
    },
    {
     "output_type": "display_data",
     "data": {
      "text/plain": "Epoch 0:   0%|          | 0/623 [00:00<?, ?it/s]",
      "application/vnd.jupyter.widget-view+json": {
       "version_major": 2,
       "version_minor": 0,
       "model_id": "b739b71b517343198faeccf799fe6e26"
      }
     },
     "metadata": {}
    },
    {
     "output_type": "display_data",
     "data": {
      "text/plain": "Epoch 1:   0%|          | 0/623 [00:00<?, ?it/s]",
      "application/vnd.jupyter.widget-view+json": {
       "version_major": 2,
       "version_minor": 0,
       "model_id": "0a5bd5f33f1a41c08d89835f7333fa4b"
      }
     },
     "metadata": {}
    },
    {
     "output_type": "display_data",
     "data": {
      "text/plain": "Epoch 2:   0%|          | 0/623 [00:00<?, ?it/s]",
      "application/vnd.jupyter.widget-view+json": {
       "version_major": 2,
       "version_minor": 0,
       "model_id": "2d13d0d55d8e4d969c789c641fb5280e"
      }
     },
     "metadata": {}
    },
    {
     "output_type": "display_data",
     "data": {
      "text/plain": "Epoch 3:   0%|          | 0/623 [00:00<?, ?it/s]",
      "application/vnd.jupyter.widget-view+json": {
       "version_major": 2,
       "version_minor": 0,
       "model_id": "e47ee6b1136a4618a55d9e101d5b479a"
      }
     },
     "metadata": {}
    },
    {
     "output_type": "display_data",
     "data": {
      "text/plain": "Epoch 4:   0%|          | 0/623 [00:00<?, ?it/s]",
      "application/vnd.jupyter.widget-view+json": {
       "version_major": 2,
       "version_minor": 0,
       "model_id": "b7ed54dd723048a6afc5a83d7ec00193"
      }
     },
     "metadata": {}
    },
    {
     "output_type": "display_data",
     "data": {
      "text/plain": "Epoch 5:   0%|          | 0/623 [00:00<?, ?it/s]",
      "application/vnd.jupyter.widget-view+json": {
       "version_major": 2,
       "version_minor": 0,
       "model_id": "0d4135c3349d4c20b84694de52c88444"
      }
     },
     "metadata": {}
    },
    {
     "output_type": "display_data",
     "data": {
      "text/plain": "Epoch 6:   0%|          | 0/623 [00:00<?, ?it/s]",
      "application/vnd.jupyter.widget-view+json": {
       "version_major": 2,
       "version_minor": 0,
       "model_id": "7d8d721a089048adbceb8101a7c6e156"
      }
     },
     "metadata": {}
    },
    {
     "output_type": "display_data",
     "data": {
      "text/plain": "Epoch 7:   0%|          | 0/623 [00:00<?, ?it/s]",
      "application/vnd.jupyter.widget-view+json": {
       "version_major": 2,
       "version_minor": 0,
       "model_id": "066d76982d564db2b7ced31298ed2704"
      }
     },
     "metadata": {}
    },
    {
     "output_type": "display_data",
     "data": {
      "text/plain": "Epoch 8:   0%|          | 0/623 [00:00<?, ?it/s]",
      "application/vnd.jupyter.widget-view+json": {
       "version_major": 2,
       "version_minor": 0,
       "model_id": "af70e82fda7d43fc94630d3305c9f70b"
      }
     },
     "metadata": {}
    },
    {
     "output_type": "display_data",
     "data": {
      "text/plain": "Epoch 9:   0%|          | 0/623 [00:00<?, ?it/s]",
      "application/vnd.jupyter.widget-view+json": {
       "version_major": 2,
       "version_minor": 0,
       "model_id": "a60c7bdd945d46618a96cd8877563c58"
      }
     },
     "metadata": {}
    },
    {
     "output_type": "display_data",
     "data": {
      "text/plain": "Epoch 10:   0%|          | 0/623 [00:00<?, ?it/s]",
      "application/vnd.jupyter.widget-view+json": {
       "version_major": 2,
       "version_minor": 0,
       "model_id": "d4007c367b964d86a37f496359cb203d"
      }
     },
     "metadata": {}
    },
    {
     "output_type": "display_data",
     "data": {
      "text/plain": "Epoch 11:   0%|          | 0/623 [00:00<?, ?it/s]",
      "application/vnd.jupyter.widget-view+json": {
       "version_major": 2,
       "version_minor": 0,
       "model_id": "e933d5be688c4697a6d3e0a10a04585e"
      }
     },
     "metadata": {}
    },
    {
     "output_type": "display_data",
     "data": {
      "text/plain": "Epoch 12:   0%|          | 0/623 [00:00<?, ?it/s]",
      "application/vnd.jupyter.widget-view+json": {
       "version_major": 2,
       "version_minor": 0,
       "model_id": "d6b170f3ef36451993121afeefb3e0dd"
      }
     },
     "metadata": {}
    },
    {
     "output_type": "display_data",
     "data": {
      "text/plain": "Epoch 13:   0%|          | 0/623 [00:00<?, ?it/s]",
      "application/vnd.jupyter.widget-view+json": {
       "version_major": 2,
       "version_minor": 0,
       "model_id": "dbb11567077e4a9a95ba89b7a13f4921"
      }
     },
     "metadata": {}
    },
    {
     "output_type": "display_data",
     "data": {
      "text/plain": "Epoch 14:   0%|          | 0/623 [00:00<?, ?it/s]",
      "application/vnd.jupyter.widget-view+json": {
       "version_major": 2,
       "version_minor": 0,
       "model_id": "314d4d5260f344faa1a3f6244fbe2571"
      }
     },
     "metadata": {}
    },
    {
     "output_type": "display_data",
     "data": {
      "text/plain": "Epoch 15:   0%|          | 0/623 [00:00<?, ?it/s]",
      "application/vnd.jupyter.widget-view+json": {
       "version_major": 2,
       "version_minor": 0,
       "model_id": "db2e276e1093447e95433c983fa0a24a"
      }
     },
     "metadata": {}
    },
    {
     "output_type": "display_data",
     "data": {
      "text/plain": "Epoch 16:   0%|          | 0/623 [00:00<?, ?it/s]",
      "application/vnd.jupyter.widget-view+json": {
       "version_major": 2,
       "version_minor": 0,
       "model_id": "513d854fe5974e99a5a164c8e4747c89"
      }
     },
     "metadata": {}
    },
    {
     "output_type": "display_data",
     "data": {
      "text/plain": "Epoch 17:   0%|          | 0/623 [00:00<?, ?it/s]",
      "application/vnd.jupyter.widget-view+json": {
       "version_major": 2,
       "version_minor": 0,
       "model_id": "19f1b96417334dbdbb696af32f886761"
      }
     },
     "metadata": {}
    },
    {
     "output_type": "display_data",
     "data": {
      "text/plain": "Epoch 18:   0%|          | 0/623 [00:00<?, ?it/s]",
      "application/vnd.jupyter.widget-view+json": {
       "version_major": 2,
       "version_minor": 0,
       "model_id": "0889175d1dd14f409b6825f9df454385"
      }
     },
     "metadata": {}
    },
    {
     "output_type": "display_data",
     "data": {
      "text/plain": "Epoch 19:   0%|          | 0/623 [00:00<?, ?it/s]",
      "application/vnd.jupyter.widget-view+json": {
       "version_major": 2,
       "version_minor": 0,
       "model_id": "5c253176785a42f7b2a4486bb5acd8e8"
      }
     },
     "metadata": {}
    },
    {
     "output_type": "display_data",
     "data": {
      "text/plain": "Epoch 20:   0%|          | 0/623 [00:00<?, ?it/s]",
      "application/vnd.jupyter.widget-view+json": {
       "version_major": 2,
       "version_minor": 0,
       "model_id": "c585ff9b9559447cb8c6f685ab13ad32"
      }
     },
     "metadata": {}
    },
    {
     "output_type": "display_data",
     "data": {
      "text/plain": "Epoch 21:   0%|          | 0/623 [00:00<?, ?it/s]",
      "application/vnd.jupyter.widget-view+json": {
       "version_major": 2,
       "version_minor": 0,
       "model_id": "c97bbccf933446e0b48a9b279a2919ff"
      }
     },
     "metadata": {}
    },
    {
     "output_type": "display_data",
     "data": {
      "text/plain": "Epoch 22:   0%|          | 0/623 [00:00<?, ?it/s]",
      "application/vnd.jupyter.widget-view+json": {
       "version_major": 2,
       "version_minor": 0,
       "model_id": "a74d8a7f06364f488a5517c4a9625fe2"
      }
     },
     "metadata": {}
    },
    {
     "output_type": "display_data",
     "data": {
      "text/plain": "Epoch 23:   0%|          | 0/623 [00:00<?, ?it/s]",
      "application/vnd.jupyter.widget-view+json": {
       "version_major": 2,
       "version_minor": 0,
       "model_id": "646ba72265df4239902432573ad70dcf"
      }
     },
     "metadata": {}
    },
    {
     "output_type": "display_data",
     "data": {
      "text/plain": "Epoch 24:   0%|          | 0/623 [00:00<?, ?it/s]",
      "application/vnd.jupyter.widget-view+json": {
       "version_major": 2,
       "version_minor": 0,
       "model_id": "6bcb965cdfe347f480fd0cf319b5bc7a"
      }
     },
     "metadata": {}
    },
    {
     "output_type": "display_data",
     "data": {
      "text/plain": "Epoch 25:   0%|          | 0/623 [00:00<?, ?it/s]",
      "application/vnd.jupyter.widget-view+json": {
       "version_major": 2,
       "version_minor": 0,
       "model_id": "c39dbe73cb4b4217b869b3c32ebf9a53"
      }
     },
     "metadata": {}
    },
    {
     "output_type": "display_data",
     "data": {
      "text/plain": "Epoch 26:   0%|          | 0/623 [00:00<?, ?it/s]",
      "application/vnd.jupyter.widget-view+json": {
       "version_major": 2,
       "version_minor": 0,
       "model_id": "6b06151c8d4d4e149f39abe3341a9646"
      }
     },
     "metadata": {}
    },
    {
     "output_type": "display_data",
     "data": {
      "text/plain": "Epoch 27:   0%|          | 0/623 [00:00<?, ?it/s]",
      "application/vnd.jupyter.widget-view+json": {
       "version_major": 2,
       "version_minor": 0,
       "model_id": "7a4d8821df384dbbba981f48c8d155c5"
      }
     },
     "metadata": {}
    },
    {
     "output_type": "display_data",
     "data": {
      "text/plain": "Epoch 28:   0%|          | 0/623 [00:00<?, ?it/s]",
      "application/vnd.jupyter.widget-view+json": {
       "version_major": 2,
       "version_minor": 0,
       "model_id": "a13bafaf0d064ec894d57894b9dadcc5"
      }
     },
     "metadata": {}
    },
    {
     "output_type": "display_data",
     "data": {
      "text/plain": "Epoch 29:   0%|          | 0/623 [00:00<?, ?it/s]",
      "application/vnd.jupyter.widget-view+json": {
       "version_major": 2,
       "version_minor": 0,
       "model_id": "112448e5b7fd43098c2ead5857f1cd30"
      }
     },
     "metadata": {}
    },
    {
     "output_type": "display_data",
     "data": {
      "text/plain": "Epoch 30:   0%|          | 0/623 [00:00<?, ?it/s]",
      "application/vnd.jupyter.widget-view+json": {
       "version_major": 2,
       "version_minor": 0,
       "model_id": "ec8b1be1c8a147c09a7b5eb25fe36c17"
      }
     },
     "metadata": {}
    },
    {
     "output_type": "display_data",
     "data": {
      "text/plain": "Epoch 31:   0%|          | 0/623 [00:00<?, ?it/s]",
      "application/vnd.jupyter.widget-view+json": {
       "version_major": 2,
       "version_minor": 0,
       "model_id": "ad58d64764dc4ae7b207283eb74fb61a"
      }
     },
     "metadata": {}
    },
    {
     "output_type": "display_data",
     "data": {
      "text/plain": "Epoch 32:   0%|          | 0/623 [00:00<?, ?it/s]",
      "application/vnd.jupyter.widget-view+json": {
       "version_major": 2,
       "version_minor": 0,
       "model_id": "0d9d462d33564c098073d002a0f3a616"
      }
     },
     "metadata": {}
    },
    {
     "output_type": "display_data",
     "data": {
      "text/plain": "Epoch 33:   0%|          | 0/623 [00:00<?, ?it/s]",
      "application/vnd.jupyter.widget-view+json": {
       "version_major": 2,
       "version_minor": 0,
       "model_id": "fd9092d3d86f49e0b6f40b5607fe56dc"
      }
     },
     "metadata": {}
    },
    {
     "output_type": "display_data",
     "data": {
      "text/plain": "Epoch 34:   0%|          | 0/623 [00:00<?, ?it/s]",
      "application/vnd.jupyter.widget-view+json": {
       "version_major": 2,
       "version_minor": 0,
       "model_id": "7936c7dd77354776aa6b9acfb7d9fb6a"
      }
     },
     "metadata": {}
    },
    {
     "output_type": "display_data",
     "data": {
      "text/plain": "Epoch 35:   0%|          | 0/623 [00:00<?, ?it/s]",
      "application/vnd.jupyter.widget-view+json": {
       "version_major": 2,
       "version_minor": 0,
       "model_id": "7c266c9e92d54a54a4a41e2708808472"
      }
     },
     "metadata": {}
    },
    {
     "output_type": "display_data",
     "data": {
      "text/plain": "Epoch 36:   0%|          | 0/623 [00:00<?, ?it/s]",
      "application/vnd.jupyter.widget-view+json": {
       "version_major": 2,
       "version_minor": 0,
       "model_id": "2c37a9a5961b42f49431dcb0054f5fb7"
      }
     },
     "metadata": {}
    },
    {
     "output_type": "display_data",
     "data": {
      "text/plain": "Epoch 37:   0%|          | 0/623 [00:00<?, ?it/s]",
      "application/vnd.jupyter.widget-view+json": {
       "version_major": 2,
       "version_minor": 0,
       "model_id": "0eabe08912564cec88fb95ae09eaca60"
      }
     },
     "metadata": {}
    },
    {
     "output_type": "display_data",
     "data": {
      "text/plain": "Epoch 38:   0%|          | 0/623 [00:00<?, ?it/s]",
      "application/vnd.jupyter.widget-view+json": {
       "version_major": 2,
       "version_minor": 0,
       "model_id": "e9aa5a977d9146bfbe948b5204418ee5"
      }
     },
     "metadata": {}
    },
    {
     "output_type": "display_data",
     "data": {
      "text/plain": "Epoch 39:   0%|          | 0/623 [00:00<?, ?it/s]",
      "application/vnd.jupyter.widget-view+json": {
       "version_major": 2,
       "version_minor": 0,
       "model_id": "a150687a9c094c59b73507b2e2c4c178"
      }
     },
     "metadata": {}
    },
    {
     "output_type": "display_data",
     "data": {
      "text/plain": "Epoch 40:   0%|          | 0/623 [00:00<?, ?it/s]",
      "application/vnd.jupyter.widget-view+json": {
       "version_major": 2,
       "version_minor": 0,
       "model_id": "49738b5f9c994f6689b4b0cb3e185c87"
      }
     },
     "metadata": {}
    },
    {
     "output_type": "display_data",
     "data": {
      "text/plain": "Epoch 41:   0%|          | 0/623 [00:00<?, ?it/s]",
      "application/vnd.jupyter.widget-view+json": {
       "version_major": 2,
       "version_minor": 0,
       "model_id": "7dda17bdf64142db8d316584abfa173e"
      }
     },
     "metadata": {}
    },
    {
     "output_type": "display_data",
     "data": {
      "text/plain": "Epoch 42:   0%|          | 0/623 [00:00<?, ?it/s]",
      "application/vnd.jupyter.widget-view+json": {
       "version_major": 2,
       "version_minor": 0,
       "model_id": "48d82bb40f5549b682e9ae2549f37087"
      }
     },
     "metadata": {}
    },
    {
     "output_type": "display_data",
     "data": {
      "text/plain": "Epoch 43:   0%|          | 0/623 [00:00<?, ?it/s]",
      "application/vnd.jupyter.widget-view+json": {
       "version_major": 2,
       "version_minor": 0,
       "model_id": "3d9dc5e61e42410b8857187373b6d36e"
      }
     },
     "metadata": {}
    },
    {
     "output_type": "display_data",
     "data": {
      "text/plain": "Epoch 44:   0%|          | 0/623 [00:00<?, ?it/s]",
      "application/vnd.jupyter.widget-view+json": {
       "version_major": 2,
       "version_minor": 0,
       "model_id": "15ff92631ddd418bab77dd3b11402f8c"
      }
     },
     "metadata": {}
    },
    {
     "output_type": "display_data",
     "data": {
      "text/plain": "Epoch 45:   0%|          | 0/623 [00:00<?, ?it/s]",
      "application/vnd.jupyter.widget-view+json": {
       "version_major": 2,
       "version_minor": 0,
       "model_id": "67de901ac0ff4ede8bf120b3a3786e21"
      }
     },
     "metadata": {}
    },
    {
     "output_type": "display_data",
     "data": {
      "text/plain": "Epoch 46:   0%|          | 0/623 [00:00<?, ?it/s]",
      "application/vnd.jupyter.widget-view+json": {
       "version_major": 2,
       "version_minor": 0,
       "model_id": "bbc19ceadb39438d9c2634e1ee5aa374"
      }
     },
     "metadata": {}
    },
    {
     "output_type": "display_data",
     "data": {
      "text/plain": "Epoch 47:   0%|          | 0/623 [00:00<?, ?it/s]",
      "application/vnd.jupyter.widget-view+json": {
       "version_major": 2,
       "version_minor": 0,
       "model_id": "8e388754720042aa8b9608082b529e01"
      }
     },
     "metadata": {}
    },
    {
     "output_type": "display_data",
     "data": {
      "text/plain": "Epoch 48:   0%|          | 0/623 [00:00<?, ?it/s]",
      "application/vnd.jupyter.widget-view+json": {
       "version_major": 2,
       "version_minor": 0,
       "model_id": "592c54ea3dbb4658bd66c9822e40c437"
      }
     },
     "metadata": {}
    },
    {
     "output_type": "display_data",
     "data": {
      "text/plain": "Epoch 49:   0%|          | 0/623 [00:00<?, ?it/s]",
      "application/vnd.jupyter.widget-view+json": {
       "version_major": 2,
       "version_minor": 0,
       "model_id": "ccd0b0ebd8284675a17ed0f8c04e6f0f"
      }
     },
     "metadata": {}
    }
   ],
   "source": [
    "net.train()\n",
    "for epoch in tqdm(range(epochs), desc='Total Epoch'):\n",
    "\n",
    "    for lines, ids in tqdm(dataloader, position=0, leave=False, desc='Epoch {}'.format(epoch)):\n",
    "        inputs = Variable(torch.Tensor(lines).long())\n",
    "\n",
    "        if inputs.shape[1] < min_len:\n",
    "            continue\n",
    "\n",
    "        if torch.cuda.is_available():\n",
    "            inputs = inputs.cuda()\n",
    "\n",
    "        out, a_probs = net(inputs)\n",
    "\n",
    "        positives, negatives = net.get_targets()\n",
    "        loss = rec_loss(out, positives, negatives)\n",
    "\n",
    "        if not fix_a_emb:\n",
    "            aspects = net.get_aspects()\n",
    "            loss += l * orth_loss(aspects)\n",
    "\n",
    "        optimizer.zero_grad()\n",
    "        loss.backward()\n",
    "        optimizer.step()"
   ]
  },
  {
   "cell_type": "code",
   "execution_count": 80,
   "metadata": {},
   "outputs": [
    {
     "output_type": "stream",
     "name": "stdout",
     "text": [
      "Trained aspects via ABAE:\nAspect 01:  ['beryl', 'blue', 'spoons', 'sapphire', 'jasper', 'overlaid', 'scarlet', 'skins', 'nails', \"badgers'\"]\nAspect 02:  ['achmetha', 'darius', 'agagite', 'chancellor', 'shimshai', 'arioch', 'jericho', 'bishlam', 'elamites', 'hadarezer']\nAspect 03:  ['ahikam', 'gedaliah', 'jether', 'jediael', 'tizite', 'eliab', 'zabad', 'benaiah', 'maaseiah', 'joha']\nAspect 04:  ['many', 'rejoiced', 'neither', 'understood', 'solomon', 'crying', 'exceedest', 'searched', 'prepared', 'scorners']\nAspect 05:  ['cause', 'mercy', 'mercies', 'ceasing', 'pleadeth', 'speedily', 'harped', 'keepest', 'patiently', 'lovingkindnesses']\nAspect 06:  ['years', 'prolong', 'baptized', 'straitened', 'age', 'patience', 'cares', 'sem', 'faith', 'gladly']\nAspect 07:  ['sodomites', 'destroyed', 'polluted', 'whoredom', 'abolish', 'planted', 'rezeph', 'abominations', 'stoopeth', 'committed']\nAspect 08:  ['saw', 'shaked', 'followed', 'sat', 'beholding', 'ran', 'passed', 'looked', 'sitting', 'arose']\nAspect 09:  ['wine', 'drank', 'presses', 'corn', 'dainties', 'flagon', 'firstfruits', 'provision', 'honey', 'victual']\nAspect 10:  ['cracknels', 'divideth', 'lading', 'homers', 'wings', 'bend', 'boat', 'beateth', 'feathers', 'locusts']\nAspect 11:  ['departed', 'shallecheth', 'bethel', 'entered', 'know', 'gone', 'sheepfold', 'climbeth', 'met', 'lodged']\nAspect 12:  ['surely', 'else', 'die', 'behold', 'diest', 'preserve', 'abideth', 'doth', 'ah', 'cursed']\nAspect 13:  ['baptized', 'edifieth', 'speaking', 'haggai', 'misused', 'seers', 'john', 'marvelled', 'gaius', 'wrote']\nAspect 14:  ['methuselah', 'begat', 'arphaxad', 'lehabim', 'ludim', 'naphtuhim', 'henoch', 'anamim', 'serug', 'kallai']\nAspect 15:  ['daughter', 'virgin', 'mahalath', 'maachah', 'barzillai', 'sister', 'shilhi', 'tamar', 'wife', 'jochebed']\nAspect 16:  ['judah', 'inherit', 'inhabit', 'built', 'take', 'multiply', 'wastes', 'kartah', 'build', 'abide']\nAspect 17:  ['conscience', 'uncleanness', 'villany', 'thefts', 'guile', 'error', 'provoked', 'deceitfully', 'whisperers', 'wickedness']\nAspect 18:  ['commandeth', 'behold', 'seeth', 'cutteth', 'creeping', 'jesharelah', 'seventeenth', 'rolling', 'fourth', 'thick']\nAspect 19:  ['whose', 'mighty', 'excellency', 'glorious', 'express', 'sceptres', 'delighteth', 'honour', 'majesty', 'exalted']\nAspect 20:  ['two', 'three', 'leaved', 'five', 'doorkeeper', 'fifty', 'fourscore', 'six', 'edged', 'sped']\nAspect 21:  ['slayer', 'murderer', 'openeth', 'plea', 'dulcimer', 'vinedressers', 'kohath', 'fatherless', 'innocent', 'oppress']\nAspect 22:  ['blast', 'mantle', 'decketh', 'countenance', 'quivered', 'dew', 'smoke', 'knees', 'loins', 'sackcloth']\nAspect 23:  ['mount', 'mountain', 'hill', 'standard', 'seir', 'perazim', 'gerizim', 'ambushments', 'olives', 'sinai']\nAspect 24:  ['unto', 'many', 'support', 'sustain', 'haste', 'temptations', 'feebleminded', 'lest', 'preventest', 'chastisement']\nAspect 25:  ['year', 'feast', 'heated', 'winterhouse', 'tiberius', 'passover', 'leaven', 'month', 'solemn', 'evilmerodach']\nAspect 26:  ['destroyed', 'pursued', 'fought', 'edrei', 'archers', 'destroying', 'chased', 'ai', 'heshbon', 'rabbah']\nAspect 27:  ['hand', 'entappuah', 'threshingplace', 'shoulder', 'arm', 'snatch', 'exchangers', 'sight', 'sceptre', 'oweth']\nAspect 28:  ['accept', 'unto', 'sort', 'tradition', 'performeth', 'know', 'counsel', 'understand', 'perform', 'singular']\nAspect 29:  ['man', 'eloquent', 'hadlai', 'whose', 'tenderhearted', 'feareth', 'woman', 'adulterous', 'lefthanded', 'fool']\nAspect 30:  ['even', 'beauties', 'watchful', 'admired', 'servant', 'first', 'brokenhearted', 'pertaining', 'unto', 'raise']\n"
     ]
    }
   ],
   "source": [
    "abae_centers = net.get_aspects().detach().cpu().numpy()\n",
    "\n",
    "print('Trained aspects via ABAE:')\n",
    "for i in range(n_clusters):\n",
    "    print('Aspect {:02}: '.format(i+1), [word for word, _ in bible_wv.similar_by_vector(abae_centers[i])])"
   ]
  },
  {
   "cell_type": "code",
   "execution_count": 81,
   "metadata": {},
   "outputs": [
    {
     "output_type": "execute_result",
     "data": {
      "text/plain": [
       "(0.0024269191469682015, 3.3899455187188926e-09)"
      ]
     },
     "metadata": {},
     "execution_count": 81
    }
   ],
   "source": [
    "coverage(centers), coverage(abae_centers)"
   ]
  },
  {
   "cell_type": "code",
   "execution_count": 82,
   "metadata": {},
   "outputs": [
    {
     "output_type": "stream",
     "name": "stdout",
     "text": [
      "10633.582313716412 0.3418828509698875\n",
      "[63, 1913, 10344, 22690, 29754, 31037, 31103, 31103, 31103, 31103]\n",
      "[1721, 817, 1110, 423, 1858, 2317, 555, 836, 367, 564, 780, 2691, 1257, 1599, 1732, 867, 480, 449, 501, 632, 259, 724, 1436, 406, 451, 544, 824, 720, 1059, 3124]\n",
      "Epoch 50 recon:  0.0003222474188958832 orign:  0.00036409886481093986\n"
     ]
    }
   ],
   "source": [
    "outs = list()\n",
    "poss = list()\n",
    "aspects = list()\n",
    "recon_embedding = list()\n",
    "orign_embedding = list()\n",
    "for lines, ids in dataloader:\n",
    "    inputs = Variable(torch.Tensor(lines).long())\n",
    "\n",
    "    if inputs.shape[1] < min_len:\n",
    "        continue\n",
    "\n",
    "    if torch.cuda.is_available():\n",
    "        inputs = inputs.cuda()\n",
    "\n",
    "    out, a_probs = net(inputs)\n",
    "\n",
    "    positives, negatives = net.get_targets()\n",
    "\n",
    "    outs.append(out.detach().cpu().numpy())\n",
    "    poss.append(positives.detach().cpu().numpy())\n",
    "    aspects.append(a_probs.detach().cpu().numpy())\n",
    "\n",
    "    recon_embedding.append(out.detach().cpu().numpy())\n",
    "    orign_embedding.append(positives.detach().cpu().numpy())\n",
    "\n",
    "outs = np.concatenate(outs, axis=0)\n",
    "poss = np.concatenate(poss, axis=0)\n",
    "aspects = np.concatenate(aspects, axis=0)\n",
    "\n",
    "cos_dis = list()\n",
    "for a, b in zip(outs, poss):\n",
    "    cos_dis.append(cosine_distances(a.reshape(1, -1), b.reshape(1, -1))[0, 0])\n",
    "print(sum(cos_dis), sum(cos_dis) / len(cos_dis))\n",
    "\n",
    "cos_dis_stat = [np.sum(np.array(cos_dis) <= i * 0.1) for i in range(1, 11)]\n",
    "print(cos_dis_stat)\n",
    "\n",
    "aspects_embedding = aspects.copy()\n",
    "aspects = np.argmax(aspects, axis=1)\n",
    "aspects_stat = [np.sum(aspects == i) for i in range(n_clusters)]\n",
    "print(aspects_stat)\n",
    "\n",
    "recon_embedding = np.concatenate(recon_embedding, axis=0)\n",
    "orign_embedding = np.concatenate(orign_embedding, axis=0)\n",
    "print(f\"Epoch {epoch+1}\", \"recon: \", coverage(recon_embedding, \"cosine\"), \"orign: \", coverage(orign_embedding, \"cosine\"))"
   ]
  },
  {
   "cell_type": "code",
   "execution_count": 83,
   "metadata": {},
   "outputs": [
    {
     "output_type": "display_data",
     "data": {
      "text/plain": "<Figure size 576x288 with 1 Axes>",
      "image/svg+xml": "<?xml version=\"1.0\" encoding=\"utf-8\" standalone=\"no\"?>\n<!DOCTYPE svg PUBLIC \"-//W3C//DTD SVG 1.1//EN\"\n  \"http://www.w3.org/Graphics/SVG/1.1/DTD/svg11.dtd\">\n<!-- Created with matplotlib (https://matplotlib.org/) -->\n<svg height=\"280.8pt\" version=\"1.1\" viewBox=\"0 0 568.762848 280.8\" width=\"568.762848pt\" xmlns=\"http://www.w3.org/2000/svg\" xmlns:xlink=\"http://www.w3.org/1999/xlink\">\n <metadata>\n  <rdf:RDF xmlns:cc=\"http://creativecommons.org/ns#\" xmlns:dc=\"http://purl.org/dc/elements/1.1/\" xmlns:rdf=\"http://www.w3.org/1999/02/22-rdf-syntax-ns#\">\n   <cc:Work>\n    <dc:type rdf:resource=\"http://purl.org/dc/dcmitype/StillImage\"/>\n    <dc:date>2021-06-16T09:13:10.901353</dc:date>\n    <dc:format>image/svg+xml</dc:format>\n    <dc:creator>\n     <cc:Agent>\n      <dc:title>Matplotlib v3.3.4, https://matplotlib.org/</dc:title>\n     </cc:Agent>\n    </dc:creator>\n   </cc:Work>\n  </rdf:RDF>\n </metadata>\n <defs>\n  <style type=\"text/css\">*{stroke-linecap:butt;stroke-linejoin:round;}</style>\n </defs>\n <g id=\"figure_1\">\n  <g id=\"patch_1\">\n   <path d=\"M 0 280.8 \nL 568.762848 280.8 \nL 568.762848 0 \nL 0 0 \nz\n\" style=\"fill:none;\"/>\n  </g>\n  <g id=\"axes_1\">\n   <g id=\"patch_2\">\n    <path d=\"M 59.690625 243.24375 \nL 553.994639 243.24375 \nL 553.994639 22.318125 \nL 59.690625 22.318125 \nz\n\" style=\"fill:#ffffff;\"/>\n   </g>\n   <g id=\"patch_3\">\n    <path clip-path=\"url(#pc20c5e9ca0)\" d=\"M 82.158989 243.24375 \nL 104.627354 243.24375 \nL 104.627354 243.142278 \nL 82.158989 243.142278 \nz\n\" style=\"fill:#1f77b4;fill-opacity:0.5;stroke:#000000;stroke-linejoin:miter;\"/>\n   </g>\n   <g id=\"patch_4\">\n    <path clip-path=\"url(#pc20c5e9ca0)\" d=\"M 104.627354 243.24375 \nL 127.095718 243.24375 \nL 127.095718 242.810803 \nL 104.627354 242.810803 \nz\n\" style=\"fill:#1f77b4;fill-opacity:0.5;stroke:#000000;stroke-linejoin:miter;\"/>\n   </g>\n   <g id=\"patch_5\">\n    <path clip-path=\"url(#pc20c5e9ca0)\" d=\"M 127.095718 243.24375 \nL 149.564082 243.24375 \nL 149.564082 241.823143 \nL 127.095718 241.823143 \nz\n\" style=\"fill:#1f77b4;fill-opacity:0.5;stroke:#000000;stroke-linejoin:miter;\"/>\n   </g>\n   <g id=\"patch_6\">\n    <path clip-path=\"url(#pc20c5e9ca0)\" d=\"M 149.564082 243.24375 \nL 172.032446 243.24375 \nL 172.032446 238.941342 \nL 149.564082 238.941342 \nz\n\" style=\"fill:#1f77b4;fill-opacity:0.5;stroke:#000000;stroke-linejoin:miter;\"/>\n   </g>\n   <g id=\"patch_7\">\n    <path clip-path=\"url(#pc20c5e9ca0)\" d=\"M 172.032446 243.24375 \nL 194.500811 243.24375 \nL 194.500811 231.560952 \nL 172.032446 231.560952 \nz\n\" style=\"fill:#1f77b4;fill-opacity:0.5;stroke:#000000;stroke-linejoin:miter;\"/>\n   </g>\n   <g id=\"patch_8\">\n    <path clip-path=\"url(#pc20c5e9ca0)\" d=\"M 194.500811 243.24375 \nL 216.969175 243.24375 \nL 216.969175 219.364031 \nL 194.500811 219.364031 \nz\n\" style=\"fill:#1f77b4;fill-opacity:0.5;stroke:#000000;stroke-linejoin:miter;\"/>\n   </g>\n   <g id=\"patch_9\">\n    <path clip-path=\"url(#pc20c5e9ca0)\" d=\"M 216.969175 243.24375 \nL 239.437539 243.24375 \nL 239.437539 202.100279 \nL 216.969175 202.100279 \nz\n\" style=\"fill:#1f77b4;fill-opacity:0.5;stroke:#000000;stroke-linejoin:miter;\"/>\n   </g>\n   <g id=\"patch_10\">\n    <path clip-path=\"url(#pc20c5e9ca0)\" d=\"M 239.437539 243.24375 \nL 261.905904 243.24375 \nL 261.905904 180.906182 \nL 239.437539 180.906182 \nz\n\" style=\"fill:#1f77b4;fill-opacity:0.5;stroke:#000000;stroke-linejoin:miter;\"/>\n   </g>\n   <g id=\"patch_11\">\n    <path clip-path=\"url(#pc20c5e9ca0)\" d=\"M 261.905904 243.24375 \nL 284.374268 243.24375 \nL 284.374268 155.294676 \nL 261.905904 155.294676 \nz\n\" style=\"fill:#1f77b4;fill-opacity:0.5;stroke:#000000;stroke-linejoin:miter;\"/>\n   </g>\n   <g id=\"patch_12\">\n    <path clip-path=\"url(#pc20c5e9ca0)\" d=\"M 284.374268 243.24375 \nL 306.842632 243.24375 \nL 306.842632 128.005501 \nL 284.374268 128.005501 \nz\n\" style=\"fill:#1f77b4;fill-opacity:0.5;stroke:#000000;stroke-linejoin:miter;\"/>\n   </g>\n   <g id=\"patch_13\">\n    <path clip-path=\"url(#pc20c5e9ca0)\" d=\"M 306.842632 243.24375 \nL 329.310996 243.24375 \nL 329.310996 101.304863 \nL 306.842632 101.304863 \nz\n\" style=\"fill:#1f77b4;fill-opacity:0.5;stroke:#000000;stroke-linejoin:miter;\"/>\n   </g>\n   <g id=\"patch_14\">\n    <path clip-path=\"url(#pc20c5e9ca0)\" d=\"M 329.310996 243.24375 \nL 351.779361 243.24375 \nL 351.779361 78.115153 \nL 329.310996 78.115153 \nz\n\" style=\"fill:#1f77b4;fill-opacity:0.5;stroke:#000000;stroke-linejoin:miter;\"/>\n   </g>\n   <g id=\"patch_15\">\n    <path clip-path=\"url(#pc20c5e9ca0)\" d=\"M 351.779361 243.24375 \nL 374.247725 243.24375 \nL 374.247725 59.701386 \nL 351.779361 59.701386 \nz\n\" style=\"fill:#1f77b4;fill-opacity:0.5;stroke:#000000;stroke-linejoin:miter;\"/>\n   </g>\n   <g id=\"patch_16\">\n    <path clip-path=\"url(#pc20c5e9ca0)\" d=\"M 374.247725 243.24375 \nL 396.716089 243.24375 \nL 396.716089 47.504464 \nL 374.247725 47.504464 \nz\n\" style=\"fill:#1f77b4;fill-opacity:0.5;stroke:#000000;stroke-linejoin:miter;\"/>\n   </g>\n   <g id=\"patch_17\">\n    <path clip-path=\"url(#pc20c5e9ca0)\" d=\"M 396.716089 243.24375 \nL 419.184454 243.24375 \nL 419.184454 39.765541 \nL 396.716089 39.765541 \nz\n\" style=\"fill:#1f77b4;fill-opacity:0.5;stroke:#000000;stroke-linejoin:miter;\"/>\n   </g>\n   <g id=\"patch_18\">\n    <path clip-path=\"url(#pc20c5e9ca0)\" d=\"M 419.184454 243.24375 \nL 441.652818 243.24375 \nL 441.652818 35.848726 \nL 419.184454 35.848726 \nz\n\" style=\"fill:#1f77b4;fill-opacity:0.5;stroke:#000000;stroke-linejoin:miter;\"/>\n   </g>\n   <g id=\"patch_19\">\n    <path clip-path=\"url(#pc20c5e9ca0)\" d=\"M 441.652818 243.24375 \nL 464.121182 243.24375 \nL 464.121182 34.028996 \nL 441.652818 34.028996 \nz\n\" style=\"fill:#1f77b4;fill-opacity:0.5;stroke:#000000;stroke-linejoin:miter;\"/>\n   </g>\n   <g id=\"patch_20\">\n    <path clip-path=\"url(#pc20c5e9ca0)\" d=\"M 464.121182 243.24375 \nL 486.589546 243.24375 \nL 486.589546 33.203692 \nL 464.121182 33.203692 \nz\n\" style=\"fill:#1f77b4;fill-opacity:0.5;stroke:#000000;stroke-linejoin:miter;\"/>\n   </g>\n   <g id=\"patch_21\">\n    <path clip-path=\"url(#pc20c5e9ca0)\" d=\"M 486.589546 243.24375 \nL 509.057911 243.24375 \nL 509.057911 32.939865 \nL 486.589546 32.939865 \nz\n\" style=\"fill:#1f77b4;fill-opacity:0.5;stroke:#000000;stroke-linejoin:miter;\"/>\n   </g>\n   <g id=\"patch_22\">\n    <path clip-path=\"url(#pc20c5e9ca0)\" d=\"M 509.057911 243.24375 \nL 531.526275 243.24375 \nL 531.526275 32.838393 \nL 509.057911 32.838393 \nz\n\" style=\"fill:#1f77b4;fill-opacity:0.5;stroke:#000000;stroke-linejoin:miter;\"/>\n   </g>\n   <g id=\"matplotlib.axis_1\">\n    <g id=\"xtick_1\">\n     <g id=\"line2d_1\">\n      <defs>\n       <path d=\"M 0 0 \nL 0 3.5 \n\" id=\"m3b0b98bfad\" style=\"stroke:#000000;stroke-width:0.8;\"/>\n      </defs>\n      <g>\n       <use style=\"stroke:#000000;stroke-width:0.8;\" x=\"126.494116\" xlink:href=\"#m3b0b98bfad\" y=\"243.24375\"/>\n      </g>\n     </g>\n     <g id=\"text_1\">\n      <!-- 0.1 -->\n      <g transform=\"translate(118.542553 257.842188)scale(0.1 -0.1)\">\n       <defs>\n        <path d=\"M 31.78125 66.40625 \nQ 24.171875 66.40625 20.328125 58.90625 \nQ 16.5 51.421875 16.5 36.375 \nQ 16.5 21.390625 20.328125 13.890625 \nQ 24.171875 6.390625 31.78125 6.390625 \nQ 39.453125 6.390625 43.28125 13.890625 \nQ 47.125 21.390625 47.125 36.375 \nQ 47.125 51.421875 43.28125 58.90625 \nQ 39.453125 66.40625 31.78125 66.40625 \nz\nM 31.78125 74.21875 \nQ 44.046875 74.21875 50.515625 64.515625 \nQ 56.984375 54.828125 56.984375 36.375 \nQ 56.984375 17.96875 50.515625 8.265625 \nQ 44.046875 -1.421875 31.78125 -1.421875 \nQ 19.53125 -1.421875 13.0625 8.265625 \nQ 6.59375 17.96875 6.59375 36.375 \nQ 6.59375 54.828125 13.0625 64.515625 \nQ 19.53125 74.21875 31.78125 74.21875 \nz\n\" id=\"DejaVuSans-48\"/>\n        <path d=\"M 10.6875 12.40625 \nL 21 12.40625 \nL 21 0 \nL 10.6875 0 \nz\n\" id=\"DejaVuSans-46\"/>\n        <path d=\"M 12.40625 8.296875 \nL 28.515625 8.296875 \nL 28.515625 63.921875 \nL 10.984375 60.40625 \nL 10.984375 69.390625 \nL 28.421875 72.90625 \nL 38.28125 72.90625 \nL 38.28125 8.296875 \nL 54.390625 8.296875 \nL 54.390625 0 \nL 12.40625 0 \nz\n\" id=\"DejaVuSans-49\"/>\n       </defs>\n       <use xlink:href=\"#DejaVuSans-48\"/>\n       <use x=\"63.623047\" xlink:href=\"#DejaVuSans-46\"/>\n       <use x=\"95.410156\" xlink:href=\"#DejaVuSans-49\"/>\n      </g>\n     </g>\n    </g>\n    <g id=\"xtick_2\">\n     <g id=\"line2d_2\">\n      <g>\n       <use style=\"stroke:#000000;stroke-width:0.8;\" x=\"197.680311\" xlink:href=\"#m3b0b98bfad\" y=\"243.24375\"/>\n      </g>\n     </g>\n     <g id=\"text_2\">\n      <!-- 0.2 -->\n      <g transform=\"translate(189.728748 257.842188)scale(0.1 -0.1)\">\n       <defs>\n        <path d=\"M 19.1875 8.296875 \nL 53.609375 8.296875 \nL 53.609375 0 \nL 7.328125 0 \nL 7.328125 8.296875 \nQ 12.9375 14.109375 22.625 23.890625 \nQ 32.328125 33.6875 34.8125 36.53125 \nQ 39.546875 41.84375 41.421875 45.53125 \nQ 43.3125 49.21875 43.3125 52.78125 \nQ 43.3125 58.59375 39.234375 62.25 \nQ 35.15625 65.921875 28.609375 65.921875 \nQ 23.96875 65.921875 18.8125 64.3125 \nQ 13.671875 62.703125 7.8125 59.421875 \nL 7.8125 69.390625 \nQ 13.765625 71.78125 18.9375 73 \nQ 24.125 74.21875 28.421875 74.21875 \nQ 39.75 74.21875 46.484375 68.546875 \nQ 53.21875 62.890625 53.21875 53.421875 \nQ 53.21875 48.921875 51.53125 44.890625 \nQ 49.859375 40.875 45.40625 35.40625 \nQ 44.1875 33.984375 37.640625 27.21875 \nQ 31.109375 20.453125 19.1875 8.296875 \nz\n\" id=\"DejaVuSans-50\"/>\n       </defs>\n       <use xlink:href=\"#DejaVuSans-48\"/>\n       <use x=\"63.623047\" xlink:href=\"#DejaVuSans-46\"/>\n       <use x=\"95.410156\" xlink:href=\"#DejaVuSans-50\"/>\n      </g>\n     </g>\n    </g>\n    <g id=\"xtick_3\">\n     <g id=\"line2d_3\">\n      <g>\n       <use style=\"stroke:#000000;stroke-width:0.8;\" x=\"268.866506\" xlink:href=\"#m3b0b98bfad\" y=\"243.24375\"/>\n      </g>\n     </g>\n     <g id=\"text_3\">\n      <!-- 0.3 -->\n      <g transform=\"translate(260.914943 257.842188)scale(0.1 -0.1)\">\n       <defs>\n        <path d=\"M 40.578125 39.3125 \nQ 47.65625 37.796875 51.625 33 \nQ 55.609375 28.21875 55.609375 21.1875 \nQ 55.609375 10.40625 48.1875 4.484375 \nQ 40.765625 -1.421875 27.09375 -1.421875 \nQ 22.515625 -1.421875 17.65625 -0.515625 \nQ 12.796875 0.390625 7.625 2.203125 \nL 7.625 11.71875 \nQ 11.71875 9.328125 16.59375 8.109375 \nQ 21.484375 6.890625 26.8125 6.890625 \nQ 36.078125 6.890625 40.9375 10.546875 \nQ 45.796875 14.203125 45.796875 21.1875 \nQ 45.796875 27.640625 41.28125 31.265625 \nQ 36.765625 34.90625 28.71875 34.90625 \nL 20.21875 34.90625 \nL 20.21875 43.015625 \nL 29.109375 43.015625 \nQ 36.375 43.015625 40.234375 45.921875 \nQ 44.09375 48.828125 44.09375 54.296875 \nQ 44.09375 59.90625 40.109375 62.90625 \nQ 36.140625 65.921875 28.71875 65.921875 \nQ 24.65625 65.921875 20.015625 65.03125 \nQ 15.375 64.15625 9.8125 62.3125 \nL 9.8125 71.09375 \nQ 15.4375 72.65625 20.34375 73.4375 \nQ 25.25 74.21875 29.59375 74.21875 \nQ 40.828125 74.21875 47.359375 69.109375 \nQ 53.90625 64.015625 53.90625 55.328125 \nQ 53.90625 49.265625 50.4375 45.09375 \nQ 46.96875 40.921875 40.578125 39.3125 \nz\n\" id=\"DejaVuSans-51\"/>\n       </defs>\n       <use xlink:href=\"#DejaVuSans-48\"/>\n       <use x=\"63.623047\" xlink:href=\"#DejaVuSans-46\"/>\n       <use x=\"95.410156\" xlink:href=\"#DejaVuSans-51\"/>\n      </g>\n     </g>\n    </g>\n    <g id=\"xtick_4\">\n     <g id=\"line2d_4\">\n      <g>\n       <use style=\"stroke:#000000;stroke-width:0.8;\" x=\"340.052701\" xlink:href=\"#m3b0b98bfad\" y=\"243.24375\"/>\n      </g>\n     </g>\n     <g id=\"text_4\">\n      <!-- 0.4 -->\n      <g transform=\"translate(332.101138 257.842188)scale(0.1 -0.1)\">\n       <defs>\n        <path d=\"M 37.796875 64.3125 \nL 12.890625 25.390625 \nL 37.796875 25.390625 \nz\nM 35.203125 72.90625 \nL 47.609375 72.90625 \nL 47.609375 25.390625 \nL 58.015625 25.390625 \nL 58.015625 17.1875 \nL 47.609375 17.1875 \nL 47.609375 0 \nL 37.796875 0 \nL 37.796875 17.1875 \nL 4.890625 17.1875 \nL 4.890625 26.703125 \nz\n\" id=\"DejaVuSans-52\"/>\n       </defs>\n       <use xlink:href=\"#DejaVuSans-48\"/>\n       <use x=\"63.623047\" xlink:href=\"#DejaVuSans-46\"/>\n       <use x=\"95.410156\" xlink:href=\"#DejaVuSans-52\"/>\n      </g>\n     </g>\n    </g>\n    <g id=\"xtick_5\">\n     <g id=\"line2d_5\">\n      <g>\n       <use style=\"stroke:#000000;stroke-width:0.8;\" x=\"411.238896\" xlink:href=\"#m3b0b98bfad\" y=\"243.24375\"/>\n      </g>\n     </g>\n     <g id=\"text_5\">\n      <!-- 0.5 -->\n      <g transform=\"translate(403.287333 257.842188)scale(0.1 -0.1)\">\n       <defs>\n        <path d=\"M 10.796875 72.90625 \nL 49.515625 72.90625 \nL 49.515625 64.59375 \nL 19.828125 64.59375 \nL 19.828125 46.734375 \nQ 21.96875 47.46875 24.109375 47.828125 \nQ 26.265625 48.1875 28.421875 48.1875 \nQ 40.625 48.1875 47.75 41.5 \nQ 54.890625 34.8125 54.890625 23.390625 \nQ 54.890625 11.625 47.5625 5.09375 \nQ 40.234375 -1.421875 26.90625 -1.421875 \nQ 22.3125 -1.421875 17.546875 -0.640625 \nQ 12.796875 0.140625 7.71875 1.703125 \nL 7.71875 11.625 \nQ 12.109375 9.234375 16.796875 8.0625 \nQ 21.484375 6.890625 26.703125 6.890625 \nQ 35.15625 6.890625 40.078125 11.328125 \nQ 45.015625 15.765625 45.015625 23.390625 \nQ 45.015625 31 40.078125 35.4375 \nQ 35.15625 39.890625 26.703125 39.890625 \nQ 22.75 39.890625 18.8125 39.015625 \nQ 14.890625 38.140625 10.796875 36.28125 \nz\n\" id=\"DejaVuSans-53\"/>\n       </defs>\n       <use xlink:href=\"#DejaVuSans-48\"/>\n       <use x=\"63.623047\" xlink:href=\"#DejaVuSans-46\"/>\n       <use x=\"95.410156\" xlink:href=\"#DejaVuSans-53\"/>\n      </g>\n     </g>\n    </g>\n    <g id=\"xtick_6\">\n     <g id=\"line2d_6\">\n      <g>\n       <use style=\"stroke:#000000;stroke-width:0.8;\" x=\"482.425091\" xlink:href=\"#m3b0b98bfad\" y=\"243.24375\"/>\n      </g>\n     </g>\n     <g id=\"text_6\">\n      <!-- 0.6 -->\n      <g transform=\"translate(474.473528 257.842188)scale(0.1 -0.1)\">\n       <defs>\n        <path d=\"M 33.015625 40.375 \nQ 26.375 40.375 22.484375 35.828125 \nQ 18.609375 31.296875 18.609375 23.390625 \nQ 18.609375 15.53125 22.484375 10.953125 \nQ 26.375 6.390625 33.015625 6.390625 \nQ 39.65625 6.390625 43.53125 10.953125 \nQ 47.40625 15.53125 47.40625 23.390625 \nQ 47.40625 31.296875 43.53125 35.828125 \nQ 39.65625 40.375 33.015625 40.375 \nz\nM 52.59375 71.296875 \nL 52.59375 62.3125 \nQ 48.875 64.0625 45.09375 64.984375 \nQ 41.3125 65.921875 37.59375 65.921875 \nQ 27.828125 65.921875 22.671875 59.328125 \nQ 17.53125 52.734375 16.796875 39.40625 \nQ 19.671875 43.65625 24.015625 45.921875 \nQ 28.375 48.1875 33.59375 48.1875 \nQ 44.578125 48.1875 50.953125 41.515625 \nQ 57.328125 34.859375 57.328125 23.390625 \nQ 57.328125 12.15625 50.6875 5.359375 \nQ 44.046875 -1.421875 33.015625 -1.421875 \nQ 20.359375 -1.421875 13.671875 8.265625 \nQ 6.984375 17.96875 6.984375 36.375 \nQ 6.984375 53.65625 15.1875 63.9375 \nQ 23.390625 74.21875 37.203125 74.21875 \nQ 40.921875 74.21875 44.703125 73.484375 \nQ 48.484375 72.75 52.59375 71.296875 \nz\n\" id=\"DejaVuSans-54\"/>\n       </defs>\n       <use xlink:href=\"#DejaVuSans-48\"/>\n       <use x=\"63.623047\" xlink:href=\"#DejaVuSans-46\"/>\n       <use x=\"95.410156\" xlink:href=\"#DejaVuSans-54\"/>\n      </g>\n     </g>\n    </g>\n    <g id=\"xtick_7\">\n     <g id=\"line2d_7\">\n      <g>\n       <use style=\"stroke:#000000;stroke-width:0.8;\" x=\"553.611286\" xlink:href=\"#m3b0b98bfad\" y=\"243.24375\"/>\n      </g>\n     </g>\n     <g id=\"text_7\">\n      <!-- 0.7 -->\n      <g transform=\"translate(545.659723 257.842188)scale(0.1 -0.1)\">\n       <defs>\n        <path d=\"M 8.203125 72.90625 \nL 55.078125 72.90625 \nL 55.078125 68.703125 \nL 28.609375 0 \nL 18.3125 0 \nL 43.21875 64.59375 \nL 8.203125 64.59375 \nz\n\" id=\"DejaVuSans-55\"/>\n       </defs>\n       <use xlink:href=\"#DejaVuSans-48\"/>\n       <use x=\"63.623047\" xlink:href=\"#DejaVuSans-46\"/>\n       <use x=\"95.410156\" xlink:href=\"#DejaVuSans-55\"/>\n      </g>\n     </g>\n    </g>\n    <g id=\"text_8\">\n     <!-- Cosine Distance -->\n     <g transform=\"translate(266.601226 271.520312)scale(0.1 -0.1)\">\n      <defs>\n       <path d=\"M 64.40625 67.28125 \nL 64.40625 56.890625 \nQ 59.421875 61.53125 53.78125 63.8125 \nQ 48.140625 66.109375 41.796875 66.109375 \nQ 29.296875 66.109375 22.65625 58.46875 \nQ 16.015625 50.828125 16.015625 36.375 \nQ 16.015625 21.96875 22.65625 14.328125 \nQ 29.296875 6.6875 41.796875 6.6875 \nQ 48.140625 6.6875 53.78125 8.984375 \nQ 59.421875 11.28125 64.40625 15.921875 \nL 64.40625 5.609375 \nQ 59.234375 2.09375 53.4375 0.328125 \nQ 47.65625 -1.421875 41.21875 -1.421875 \nQ 24.65625 -1.421875 15.125 8.703125 \nQ 5.609375 18.84375 5.609375 36.375 \nQ 5.609375 53.953125 15.125 64.078125 \nQ 24.65625 74.21875 41.21875 74.21875 \nQ 47.75 74.21875 53.53125 72.484375 \nQ 59.328125 70.75 64.40625 67.28125 \nz\n\" id=\"DejaVuSans-67\"/>\n       <path d=\"M 30.609375 48.390625 \nQ 23.390625 48.390625 19.1875 42.75 \nQ 14.984375 37.109375 14.984375 27.296875 \nQ 14.984375 17.484375 19.15625 11.84375 \nQ 23.34375 6.203125 30.609375 6.203125 \nQ 37.796875 6.203125 41.984375 11.859375 \nQ 46.1875 17.53125 46.1875 27.296875 \nQ 46.1875 37.015625 41.984375 42.703125 \nQ 37.796875 48.390625 30.609375 48.390625 \nz\nM 30.609375 56 \nQ 42.328125 56 49.015625 48.375 \nQ 55.71875 40.765625 55.71875 27.296875 \nQ 55.71875 13.875 49.015625 6.21875 \nQ 42.328125 -1.421875 30.609375 -1.421875 \nQ 18.84375 -1.421875 12.171875 6.21875 \nQ 5.515625 13.875 5.515625 27.296875 \nQ 5.515625 40.765625 12.171875 48.375 \nQ 18.84375 56 30.609375 56 \nz\n\" id=\"DejaVuSans-111\"/>\n       <path d=\"M 44.28125 53.078125 \nL 44.28125 44.578125 \nQ 40.484375 46.53125 36.375 47.5 \nQ 32.28125 48.484375 27.875 48.484375 \nQ 21.1875 48.484375 17.84375 46.4375 \nQ 14.5 44.390625 14.5 40.28125 \nQ 14.5 37.15625 16.890625 35.375 \nQ 19.28125 33.59375 26.515625 31.984375 \nL 29.59375 31.296875 \nQ 39.15625 29.25 43.1875 25.515625 \nQ 47.21875 21.78125 47.21875 15.09375 \nQ 47.21875 7.46875 41.1875 3.015625 \nQ 35.15625 -1.421875 24.609375 -1.421875 \nQ 20.21875 -1.421875 15.453125 -0.5625 \nQ 10.6875 0.296875 5.421875 2 \nL 5.421875 11.28125 \nQ 10.40625 8.6875 15.234375 7.390625 \nQ 20.0625 6.109375 24.8125 6.109375 \nQ 31.15625 6.109375 34.5625 8.28125 \nQ 37.984375 10.453125 37.984375 14.40625 \nQ 37.984375 18.0625 35.515625 20.015625 \nQ 33.0625 21.96875 24.703125 23.78125 \nL 21.578125 24.515625 \nQ 13.234375 26.265625 9.515625 29.90625 \nQ 5.8125 33.546875 5.8125 39.890625 \nQ 5.8125 47.609375 11.28125 51.796875 \nQ 16.75 56 26.8125 56 \nQ 31.78125 56 36.171875 55.265625 \nQ 40.578125 54.546875 44.28125 53.078125 \nz\n\" id=\"DejaVuSans-115\"/>\n       <path d=\"M 9.421875 54.6875 \nL 18.40625 54.6875 \nL 18.40625 0 \nL 9.421875 0 \nz\nM 9.421875 75.984375 \nL 18.40625 75.984375 \nL 18.40625 64.59375 \nL 9.421875 64.59375 \nz\n\" id=\"DejaVuSans-105\"/>\n       <path d=\"M 54.890625 33.015625 \nL 54.890625 0 \nL 45.90625 0 \nL 45.90625 32.71875 \nQ 45.90625 40.484375 42.875 44.328125 \nQ 39.84375 48.1875 33.796875 48.1875 \nQ 26.515625 48.1875 22.3125 43.546875 \nQ 18.109375 38.921875 18.109375 30.90625 \nL 18.109375 0 \nL 9.078125 0 \nL 9.078125 54.6875 \nL 18.109375 54.6875 \nL 18.109375 46.1875 \nQ 21.34375 51.125 25.703125 53.5625 \nQ 30.078125 56 35.796875 56 \nQ 45.21875 56 50.046875 50.171875 \nQ 54.890625 44.34375 54.890625 33.015625 \nz\n\" id=\"DejaVuSans-110\"/>\n       <path d=\"M 56.203125 29.59375 \nL 56.203125 25.203125 \nL 14.890625 25.203125 \nQ 15.484375 15.921875 20.484375 11.0625 \nQ 25.484375 6.203125 34.421875 6.203125 \nQ 39.59375 6.203125 44.453125 7.46875 \nQ 49.3125 8.734375 54.109375 11.28125 \nL 54.109375 2.78125 \nQ 49.265625 0.734375 44.1875 -0.34375 \nQ 39.109375 -1.421875 33.890625 -1.421875 \nQ 20.796875 -1.421875 13.15625 6.1875 \nQ 5.515625 13.8125 5.515625 26.8125 \nQ 5.515625 40.234375 12.765625 48.109375 \nQ 20.015625 56 32.328125 56 \nQ 43.359375 56 49.78125 48.890625 \nQ 56.203125 41.796875 56.203125 29.59375 \nz\nM 47.21875 32.234375 \nQ 47.125 39.59375 43.09375 43.984375 \nQ 39.0625 48.390625 32.421875 48.390625 \nQ 24.90625 48.390625 20.390625 44.140625 \nQ 15.875 39.890625 15.1875 32.171875 \nz\n\" id=\"DejaVuSans-101\"/>\n       <path id=\"DejaVuSans-32\"/>\n       <path d=\"M 19.671875 64.796875 \nL 19.671875 8.109375 \nL 31.59375 8.109375 \nQ 46.6875 8.109375 53.6875 14.9375 \nQ 60.6875 21.78125 60.6875 36.53125 \nQ 60.6875 51.171875 53.6875 57.984375 \nQ 46.6875 64.796875 31.59375 64.796875 \nz\nM 9.8125 72.90625 \nL 30.078125 72.90625 \nQ 51.265625 72.90625 61.171875 64.09375 \nQ 71.09375 55.28125 71.09375 36.53125 \nQ 71.09375 17.671875 61.125 8.828125 \nQ 51.171875 0 30.078125 0 \nL 9.8125 0 \nz\n\" id=\"DejaVuSans-68\"/>\n       <path d=\"M 18.3125 70.21875 \nL 18.3125 54.6875 \nL 36.8125 54.6875 \nL 36.8125 47.703125 \nL 18.3125 47.703125 \nL 18.3125 18.015625 \nQ 18.3125 11.328125 20.140625 9.421875 \nQ 21.96875 7.515625 27.59375 7.515625 \nL 36.8125 7.515625 \nL 36.8125 0 \nL 27.59375 0 \nQ 17.1875 0 13.234375 3.875 \nQ 9.28125 7.765625 9.28125 18.015625 \nL 9.28125 47.703125 \nL 2.6875 47.703125 \nL 2.6875 54.6875 \nL 9.28125 54.6875 \nL 9.28125 70.21875 \nz\n\" id=\"DejaVuSans-116\"/>\n       <path d=\"M 34.28125 27.484375 \nQ 23.390625 27.484375 19.1875 25 \nQ 14.984375 22.515625 14.984375 16.5 \nQ 14.984375 11.71875 18.140625 8.90625 \nQ 21.296875 6.109375 26.703125 6.109375 \nQ 34.1875 6.109375 38.703125 11.40625 \nQ 43.21875 16.703125 43.21875 25.484375 \nL 43.21875 27.484375 \nz\nM 52.203125 31.203125 \nL 52.203125 0 \nL 43.21875 0 \nL 43.21875 8.296875 \nQ 40.140625 3.328125 35.546875 0.953125 \nQ 30.953125 -1.421875 24.3125 -1.421875 \nQ 15.921875 -1.421875 10.953125 3.296875 \nQ 6 8.015625 6 15.921875 \nQ 6 25.140625 12.171875 29.828125 \nQ 18.359375 34.515625 30.609375 34.515625 \nL 43.21875 34.515625 \nL 43.21875 35.40625 \nQ 43.21875 41.609375 39.140625 45 \nQ 35.0625 48.390625 27.6875 48.390625 \nQ 23 48.390625 18.546875 47.265625 \nQ 14.109375 46.140625 10.015625 43.890625 \nL 10.015625 52.203125 \nQ 14.9375 54.109375 19.578125 55.046875 \nQ 24.21875 56 28.609375 56 \nQ 40.484375 56 46.34375 49.84375 \nQ 52.203125 43.703125 52.203125 31.203125 \nz\n\" id=\"DejaVuSans-97\"/>\n       <path d=\"M 48.78125 52.59375 \nL 48.78125 44.1875 \nQ 44.96875 46.296875 41.140625 47.34375 \nQ 37.3125 48.390625 33.40625 48.390625 \nQ 24.65625 48.390625 19.8125 42.84375 \nQ 14.984375 37.3125 14.984375 27.296875 \nQ 14.984375 17.28125 19.8125 11.734375 \nQ 24.65625 6.203125 33.40625 6.203125 \nQ 37.3125 6.203125 41.140625 7.25 \nQ 44.96875 8.296875 48.78125 10.40625 \nL 48.78125 2.09375 \nQ 45.015625 0.34375 40.984375 -0.53125 \nQ 36.96875 -1.421875 32.421875 -1.421875 \nQ 20.0625 -1.421875 12.78125 6.34375 \nQ 5.515625 14.109375 5.515625 27.296875 \nQ 5.515625 40.671875 12.859375 48.328125 \nQ 20.21875 56 33.015625 56 \nQ 37.15625 56 41.109375 55.140625 \nQ 45.0625 54.296875 48.78125 52.59375 \nz\n\" id=\"DejaVuSans-99\"/>\n      </defs>\n      <use xlink:href=\"#DejaVuSans-67\"/>\n      <use x=\"69.824219\" xlink:href=\"#DejaVuSans-111\"/>\n      <use x=\"131.005859\" xlink:href=\"#DejaVuSans-115\"/>\n      <use x=\"183.105469\" xlink:href=\"#DejaVuSans-105\"/>\n      <use x=\"210.888672\" xlink:href=\"#DejaVuSans-110\"/>\n      <use x=\"274.267578\" xlink:href=\"#DejaVuSans-101\"/>\n      <use x=\"335.791016\" xlink:href=\"#DejaVuSans-32\"/>\n      <use x=\"367.578125\" xlink:href=\"#DejaVuSans-68\"/>\n      <use x=\"444.580078\" xlink:href=\"#DejaVuSans-105\"/>\n      <use x=\"472.363281\" xlink:href=\"#DejaVuSans-115\"/>\n      <use x=\"524.462891\" xlink:href=\"#DejaVuSans-116\"/>\n      <use x=\"563.671875\" xlink:href=\"#DejaVuSans-97\"/>\n      <use x=\"624.951172\" xlink:href=\"#DejaVuSans-110\"/>\n      <use x=\"688.330078\" xlink:href=\"#DejaVuSans-99\"/>\n      <use x=\"743.310547\" xlink:href=\"#DejaVuSans-101\"/>\n     </g>\n    </g>\n   </g>\n   <g id=\"matplotlib.axis_2\">\n    <g id=\"ytick_1\">\n     <g id=\"line2d_8\">\n      <defs>\n       <path d=\"M 0 0 \nL -3.5 0 \n\" id=\"m90f936d67e\" style=\"stroke:#000000;stroke-width:0.8;\"/>\n      </defs>\n      <g>\n       <use style=\"stroke:#000000;stroke-width:0.8;\" x=\"59.690625\" xlink:href=\"#m90f936d67e\" y=\"243.24375\"/>\n      </g>\n     </g>\n     <g id=\"text_9\">\n      <!-- 0 -->\n      <g transform=\"translate(46.328125 247.042969)scale(0.1 -0.1)\">\n       <use xlink:href=\"#DejaVuSans-48\"/>\n      </g>\n     </g>\n    </g>\n    <g id=\"ytick_2\">\n     <g id=\"line2d_9\">\n      <g>\n       <use style=\"stroke:#000000;stroke-width:0.8;\" x=\"59.690625\" xlink:href=\"#m90f936d67e\" y=\"209.419785\"/>\n      </g>\n     </g>\n     <g id=\"text_10\">\n      <!-- 5000 -->\n      <g transform=\"translate(27.240625 213.219004)scale(0.1 -0.1)\">\n       <use xlink:href=\"#DejaVuSans-53\"/>\n       <use x=\"63.623047\" xlink:href=\"#DejaVuSans-48\"/>\n       <use x=\"127.246094\" xlink:href=\"#DejaVuSans-48\"/>\n       <use x=\"190.869141\" xlink:href=\"#DejaVuSans-48\"/>\n      </g>\n     </g>\n    </g>\n    <g id=\"ytick_3\">\n     <g id=\"line2d_10\">\n      <g>\n       <use style=\"stroke:#000000;stroke-width:0.8;\" x=\"59.690625\" xlink:href=\"#m90f936d67e\" y=\"175.59582\"/>\n      </g>\n     </g>\n     <g id=\"text_11\">\n      <!-- 10000 -->\n      <g transform=\"translate(20.878125 179.395039)scale(0.1 -0.1)\">\n       <use xlink:href=\"#DejaVuSans-49\"/>\n       <use x=\"63.623047\" xlink:href=\"#DejaVuSans-48\"/>\n       <use x=\"127.246094\" xlink:href=\"#DejaVuSans-48\"/>\n       <use x=\"190.869141\" xlink:href=\"#DejaVuSans-48\"/>\n       <use x=\"254.492188\" xlink:href=\"#DejaVuSans-48\"/>\n      </g>\n     </g>\n    </g>\n    <g id=\"ytick_4\">\n     <g id=\"line2d_11\">\n      <g>\n       <use style=\"stroke:#000000;stroke-width:0.8;\" x=\"59.690625\" xlink:href=\"#m90f936d67e\" y=\"141.771855\"/>\n      </g>\n     </g>\n     <g id=\"text_12\">\n      <!-- 15000 -->\n      <g transform=\"translate(20.878125 145.571074)scale(0.1 -0.1)\">\n       <use xlink:href=\"#DejaVuSans-49\"/>\n       <use x=\"63.623047\" xlink:href=\"#DejaVuSans-53\"/>\n       <use x=\"127.246094\" xlink:href=\"#DejaVuSans-48\"/>\n       <use x=\"190.869141\" xlink:href=\"#DejaVuSans-48\"/>\n       <use x=\"254.492188\" xlink:href=\"#DejaVuSans-48\"/>\n      </g>\n     </g>\n    </g>\n    <g id=\"ytick_5\">\n     <g id=\"line2d_12\">\n      <g>\n       <use style=\"stroke:#000000;stroke-width:0.8;\" x=\"59.690625\" xlink:href=\"#m90f936d67e\" y=\"107.94789\"/>\n      </g>\n     </g>\n     <g id=\"text_13\">\n      <!-- 20000 -->\n      <g transform=\"translate(20.878125 111.747108)scale(0.1 -0.1)\">\n       <use xlink:href=\"#DejaVuSans-50\"/>\n       <use x=\"63.623047\" xlink:href=\"#DejaVuSans-48\"/>\n       <use x=\"127.246094\" xlink:href=\"#DejaVuSans-48\"/>\n       <use x=\"190.869141\" xlink:href=\"#DejaVuSans-48\"/>\n       <use x=\"254.492188\" xlink:href=\"#DejaVuSans-48\"/>\n      </g>\n     </g>\n    </g>\n    <g id=\"ytick_6\">\n     <g id=\"line2d_13\">\n      <g>\n       <use style=\"stroke:#000000;stroke-width:0.8;\" x=\"59.690625\" xlink:href=\"#m90f936d67e\" y=\"74.123925\"/>\n      </g>\n     </g>\n     <g id=\"text_14\">\n      <!-- 25000 -->\n      <g transform=\"translate(20.878125 77.923143)scale(0.1 -0.1)\">\n       <use xlink:href=\"#DejaVuSans-50\"/>\n       <use x=\"63.623047\" xlink:href=\"#DejaVuSans-53\"/>\n       <use x=\"127.246094\" xlink:href=\"#DejaVuSans-48\"/>\n       <use x=\"190.869141\" xlink:href=\"#DejaVuSans-48\"/>\n       <use x=\"254.492188\" xlink:href=\"#DejaVuSans-48\"/>\n      </g>\n     </g>\n    </g>\n    <g id=\"ytick_7\">\n     <g id=\"line2d_14\">\n      <g>\n       <use style=\"stroke:#000000;stroke-width:0.8;\" x=\"59.690625\" xlink:href=\"#m90f936d67e\" y=\"40.29996\"/>\n      </g>\n     </g>\n     <g id=\"text_15\">\n      <!-- 30000 -->\n      <g transform=\"translate(20.878125 44.099178)scale(0.1 -0.1)\">\n       <use xlink:href=\"#DejaVuSans-51\"/>\n       <use x=\"63.623047\" xlink:href=\"#DejaVuSans-48\"/>\n       <use x=\"127.246094\" xlink:href=\"#DejaVuSans-48\"/>\n       <use x=\"190.869141\" xlink:href=\"#DejaVuSans-48\"/>\n       <use x=\"254.492188\" xlink:href=\"#DejaVuSans-48\"/>\n      </g>\n     </g>\n    </g>\n    <g id=\"text_16\">\n     <!-- Count -->\n     <g transform=\"translate(14.798438 147.629375)rotate(-90)scale(0.1 -0.1)\">\n      <defs>\n       <path d=\"M 8.5 21.578125 \nL 8.5 54.6875 \nL 17.484375 54.6875 \nL 17.484375 21.921875 \nQ 17.484375 14.15625 20.5 10.265625 \nQ 23.53125 6.390625 29.59375 6.390625 \nQ 36.859375 6.390625 41.078125 11.03125 \nQ 45.3125 15.671875 45.3125 23.6875 \nL 45.3125 54.6875 \nL 54.296875 54.6875 \nL 54.296875 0 \nL 45.3125 0 \nL 45.3125 8.40625 \nQ 42.046875 3.421875 37.71875 1 \nQ 33.40625 -1.421875 27.6875 -1.421875 \nQ 18.265625 -1.421875 13.375 4.4375 \nQ 8.5 10.296875 8.5 21.578125 \nz\nM 31.109375 56 \nz\n\" id=\"DejaVuSans-117\"/>\n      </defs>\n      <use xlink:href=\"#DejaVuSans-67\"/>\n      <use x=\"69.824219\" xlink:href=\"#DejaVuSans-111\"/>\n      <use x=\"131.005859\" xlink:href=\"#DejaVuSans-117\"/>\n      <use x=\"194.384766\" xlink:href=\"#DejaVuSans-110\"/>\n      <use x=\"257.763672\" xlink:href=\"#DejaVuSans-116\"/>\n     </g>\n    </g>\n   </g>\n   <g id=\"line2d_15\">\n    <path clip-path=\"url(#pc20c5e9ca0)\" d=\"M 82.158989 243.24375 \nL 109.256514 243.091021 \nL 127.321531 242.78106 \nL 138.612166 242.377041 \nL 147.644674 241.849319 \nL 154.419055 241.287055 \nL 161.193437 240.505308 \nL 165.709691 239.810768 \nL 170.225945 238.949004 \nL 174.742199 237.915561 \nL 179.258453 236.716636 \nL 183.774707 235.351354 \nL 188.290961 233.808541 \nL 192.807215 232.078112 \nL 197.32347 230.152491 \nL 201.839724 228.015769 \nL 206.355978 225.645166 \nL 210.872232 223.029288 \nL 215.388486 220.177701 \nL 219.90474 217.110693 \nL 226.679121 212.151102 \nL 233.453503 206.828206 \nL 240.227884 201.192804 \nL 247.002265 195.200912 \nL 253.776646 188.781672 \nL 260.551027 181.940338 \nL 267.325409 174.715999 \nL 274.09979 167.143822 \nL 283.132298 156.61134 \nL 296.68106 140.348939 \nL 319.262331 113.117716 \nL 326.036712 105.292516 \nL 332.811093 97.747654 \nL 339.585475 90.507678 \nL 346.359856 83.623805 \nL 353.134237 77.144618 \nL 357.650491 73.072739 \nL 362.166745 69.22199 \nL 366.682999 65.61212 \nL 371.199253 62.25593 \nL 375.715508 59.158104 \nL 380.231762 56.31438 \nL 384.748016 53.710531 \nL 389.26427 51.325431 \nL 393.780524 49.137263 \nL 398.296778 47.128934 \nL 402.813032 45.291793 \nL 407.329286 43.626135 \nL 411.845541 42.135034 \nL 416.361795 40.814719 \nL 423.136176 39.124335 \nL 429.910557 37.740724 \nL 436.684938 36.634312 \nL 443.459319 35.762776 \nL 452.491828 34.883002 \nL 461.524336 34.244377 \nL 472.814971 33.672853 \nL 484.105607 33.307833 \nL 499.912496 33.038906 \nL 524.751894 32.888109 \nL 531.526275 32.866812 \nL 531.526275 32.866812 \n\" style=\"fill:none;stroke:#1f77b4;stroke-linecap:square;stroke-width:1.5;\"/>\n   </g>\n   <g id=\"patch_23\">\n    <path d=\"M 59.690625 243.24375 \nL 59.690625 22.318125 \n\" style=\"fill:none;stroke:#000000;stroke-linecap:square;stroke-linejoin:miter;stroke-width:0.8;\"/>\n   </g>\n   <g id=\"patch_24\">\n    <path d=\"M 553.994639 243.24375 \nL 553.994639 22.318125 \n\" style=\"fill:none;stroke:#000000;stroke-linecap:square;stroke-linejoin:miter;stroke-width:0.8;\"/>\n   </g>\n   <g id=\"patch_25\">\n    <path d=\"M 59.690625 243.24375 \nL 553.994639 243.24375 \n\" style=\"fill:none;stroke:#000000;stroke-linecap:square;stroke-linejoin:miter;stroke-width:0.8;\"/>\n   </g>\n   <g id=\"patch_26\">\n    <path d=\"M 59.690625 22.318125 \nL 553.994639 22.318125 \n\" style=\"fill:none;stroke:#000000;stroke-linecap:square;stroke-linejoin:miter;stroke-width:0.8;\"/>\n   </g>\n   <g id=\"text_17\">\n    <!-- Cumulative Count -->\n    <g transform=\"translate(252.872632 16.318125)scale(0.12 -0.12)\">\n     <defs>\n      <path d=\"M 52 44.1875 \nQ 55.375 50.25 60.0625 53.125 \nQ 64.75 56 71.09375 56 \nQ 79.640625 56 84.28125 50.015625 \nQ 88.921875 44.046875 88.921875 33.015625 \nL 88.921875 0 \nL 79.890625 0 \nL 79.890625 32.71875 \nQ 79.890625 40.578125 77.09375 44.375 \nQ 74.3125 48.1875 68.609375 48.1875 \nQ 61.625 48.1875 57.5625 43.546875 \nQ 53.515625 38.921875 53.515625 30.90625 \nL 53.515625 0 \nL 44.484375 0 \nL 44.484375 32.71875 \nQ 44.484375 40.625 41.703125 44.40625 \nQ 38.921875 48.1875 33.109375 48.1875 \nQ 26.21875 48.1875 22.15625 43.53125 \nQ 18.109375 38.875 18.109375 30.90625 \nL 18.109375 0 \nL 9.078125 0 \nL 9.078125 54.6875 \nL 18.109375 54.6875 \nL 18.109375 46.1875 \nQ 21.1875 51.21875 25.484375 53.609375 \nQ 29.78125 56 35.6875 56 \nQ 41.65625 56 45.828125 52.96875 \nQ 50 49.953125 52 44.1875 \nz\n\" id=\"DejaVuSans-109\"/>\n      <path d=\"M 9.421875 75.984375 \nL 18.40625 75.984375 \nL 18.40625 0 \nL 9.421875 0 \nz\n\" id=\"DejaVuSans-108\"/>\n      <path d=\"M 2.984375 54.6875 \nL 12.5 54.6875 \nL 29.59375 8.796875 \nL 46.6875 54.6875 \nL 56.203125 54.6875 \nL 35.6875 0 \nL 23.484375 0 \nz\n\" id=\"DejaVuSans-118\"/>\n     </defs>\n     <use xlink:href=\"#DejaVuSans-67\"/>\n     <use x=\"69.824219\" xlink:href=\"#DejaVuSans-117\"/>\n     <use x=\"133.203125\" xlink:href=\"#DejaVuSans-109\"/>\n     <use x=\"230.615234\" xlink:href=\"#DejaVuSans-117\"/>\n     <use x=\"293.994141\" xlink:href=\"#DejaVuSans-108\"/>\n     <use x=\"321.777344\" xlink:href=\"#DejaVuSans-97\"/>\n     <use x=\"383.056641\" xlink:href=\"#DejaVuSans-116\"/>\n     <use x=\"422.265625\" xlink:href=\"#DejaVuSans-105\"/>\n     <use x=\"450.048828\" xlink:href=\"#DejaVuSans-118\"/>\n     <use x=\"509.228516\" xlink:href=\"#DejaVuSans-101\"/>\n     <use x=\"570.751953\" xlink:href=\"#DejaVuSans-32\"/>\n     <use x=\"602.539062\" xlink:href=\"#DejaVuSans-67\"/>\n     <use x=\"672.363281\" xlink:href=\"#DejaVuSans-111\"/>\n     <use x=\"733.544922\" xlink:href=\"#DejaVuSans-117\"/>\n     <use x=\"796.923828\" xlink:href=\"#DejaVuSans-110\"/>\n     <use x=\"860.302734\" xlink:href=\"#DejaVuSans-116\"/>\n    </g>\n   </g>\n  </g>\n </g>\n <defs>\n  <clipPath id=\"pc20c5e9ca0\">\n   <rect height=\"220.925625\" width=\"494.304014\" x=\"59.690625\" y=\"22.318125\"/>\n  </clipPath>\n </defs>\n</svg>\n",
      "image/png": "[encoded data removed]"
     },
     "metadata": {
      "needs_background": "light"
     }
    }
   ],
   "source": [
    "plt.figure(figsize=(8,4), tight_layout=True)\n",
    "ax = sns.histplot(cos_dis, cumulative=True, bins=20, kde=True)\n",
    "ax.set(title=\"Cumulative Count\", xlabel=\"Cosine Distance\", ylabel=\"Count\")\n",
    "plt.show()"
   ]
  },
  {
   "cell_type": "code",
   "execution_count": null,
   "metadata": {},
   "outputs": [],
   "source": []
  }
 ]
}