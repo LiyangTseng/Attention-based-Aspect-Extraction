{
 "cells": [
  {
   "cell_type": "code",
   "execution_count": 1,
   "metadata": {},
   "outputs": [],
   "source": [
    "%load_ext autoreload\n",
    "%autoreload 2"
   ]
  },
  {
   "cell_type": "code",
   "execution_count": 2,
   "metadata": {},
   "outputs": [],
   "source": [
    "import warnings\n",
    "warnings.filterwarnings(\"ignore\")\n",
    "import numpy as np\n",
    "import pandas as pd\n",
    "import seaborn as sns\n",
    "import matplotlib.pyplot as plt\n",
    "from tqdm.notebook import tqdm\n",
    "\n",
    "\n",
    "import torch\n",
    "from torch.autograd import Variable\n",
    "from torch.utils.data import DataLoader\n",
    "\n",
    "from flair.data import Sentence\n",
    "from flair.embeddings import WordEmbeddings\n",
    "\n",
    "from sklearn.cluster import KMeans\n",
    "from sklearn.metrics.pairwise import cosine_similarity, cosine_distances, euclidean_distances\n",
    "\n",
    "from gensim.models import KeyedVectors, word2vec\n",
    "\n",
    "from dataset import BibleDataset, custom_collate_fn\n",
    "from model import AspectAutoencoder\n",
    "from loss import TripletMarginCosineLoss, OrthogonalityLoss\n",
    "from train_wv import get_wv"
   ]
  },
  {
   "cell_type": "code",
   "execution_count": 3,
   "metadata": {},
   "outputs": [],
   "source": [
    "import nltk\n",
    "home_path = os.path.expanduser('~')\n",
    "if not os.path.exists(os.path.join(home_path, 'nltk_data/corpora/stopwords')):\n",
    "    nltk.download('stopwords')"
   ]
  },
  {
   "cell_type": "code",
   "execution_count": 4,
   "metadata": {},
   "outputs": [],
   "source": [
    "dataset = BibleDataset(\"./t_kjv.csv\", word_to_index=True)\n",
    "dataloader = DataLoader(dataset, batch_size=50, shuffle=True, collate_fn=custom_collate_fn)"
   ]
  },
  {
   "cell_type": "code",
   "execution_count": 5,
   "metadata": {},
   "outputs": [],
   "source": [
    "verses = [verse_tuple[0] for verse_tuple in dataset]"
   ]
  },
  {
   "cell_type": "code",
   "execution_count": 6,
   "metadata": {},
   "outputs": [],
   "source": [
    "bible_kjv_sents = []\n",
    "for verse in verses:\n",
    "    verse_list = [dataset.id2word[verse_idx] for verse_idx in verse]\n",
    "    bible_kjv_sents.append(verse_list)"
   ]
  },
  {
   "cell_type": "code",
   "execution_count": 7,
   "metadata": {},
   "outputs": [
    {
     "name": "stdout",
     "output_type": "stream",
     "text": [
      "Loading pretrained bible embeddings from w2v/bible_word2vec_org ...\n"
     ]
    }
   ],
   "source": [
    "bible_wv = get_wv(bible_kjv_sents)"
   ]
  },
  {
   "cell_type": "code",
   "execution_count": 8,
   "metadata": {},
   "outputs": [
    {
     "data": {
      "text/plain": [
       "(200,)"
      ]
     },
     "execution_count": 8,
     "metadata": {},
     "output_type": "execute_result"
    }
   ],
   "source": [
    "bible_wv['jesus'].shape"
   ]
  },
  {
   "cell_type": "code",
   "execution_count": 9,
   "metadata": {
    "tags": []
   },
   "outputs": [
    {
     "data": {
      "application/vnd.jupyter.widget-view+json": {
       "model_id": "7dfcebbbebc84c3bac350c5386742034",
       "version_major": 2,
       "version_minor": 0
      },
      "text/plain": [
       "HBox(children=(HTML(value=''), FloatProgress(value=0.0, max=12530.0), HTML(value='')))"
      ]
     },
     "metadata": {},
     "output_type": "display_data"
    },
    {
     "name": "stdout",
     "output_type": "stream",
     "text": [
      "\n"
     ]
    }
   ],
   "source": [
    "\"\"\" Generate Word Vectors for a Given Dataset \"\"\"\n",
    "\n",
    "embed_size = bible_wv.vector_size\n",
    "vocab_size = len(dataset.word2id.keys())\n",
    "wv = KeyedVectors(vector_size=embed_size)\n",
    "\n",
    "embeddings = torch.empty(vocab_size, embed_size)\n",
    "\n",
    "for word, id in tqdm(dataset.word2id.items()):\n",
    "    embeddings[id] = torch.from_numpy(bible_wv[word]).to(embeddings)\n",
    "\n"
   ]
  },
  {
   "cell_type": "code",
   "execution_count": 10,
   "metadata": {},
   "outputs": [
    {
     "name": "stdout",
     "output_type": "stream",
     "text": [
      "Initial aspects via K means:\n",
      "Aspect 01:  ['mantle', 'girded', 'hem', 'robe', 'towel', 'knees', 'beard', 'garment', 'legs', 'forehead']\n",
      "Aspect 02:  ['mahali', 'shuham', 'camon', 'gunites', 'jezerites', 'archevites', 'kibzaim', 'mushites', 'humtah', 'shillemites']\n",
      "Aspect 03:  ['month', 'year', 'ninth', 'seventh', 'eighth', 'thirteenth', 'chrysoprasus', 'hakkoz', 'evilmerodach', 'fourteenth']\n",
      "Aspect 04:  ['dost', 'overtake', 'tell', 'sayest', 'wouldest', 'mayest', 'wilt', 'shouldest', 'arise', 'hidest']\n",
      "Aspect 05:  ['clouds', 'heat', 'overflowing', 'floods', 'waves', 'storm', 'tempest', 'channels', 'stormy', 'thick']\n",
      "Aspect 06:  ['gender', 'deceiving', 'asswaged', 'murders', 'strifes', 'hearers', 'answers', 'interpreting', 'wraths', 'proclaimeth']\n",
      "Aspect 07:  ['commandments', 'statutes', 'precepts', 'mercies', 'lovingkindness', 'ways', 'paths', 'integrity', 'testimonies', 'sins']\n",
      "Aspect 08:  ['followed', 'went', 'returned', 'arose', 'ran', 'met', 'fled', 'sat', 'slew', 'rose']\n",
      "Aspect 09:  ['pharah', 'remeth', 'avim', 'enhaddah', 'bethpazzez', 'engannim', 'enam', 'jiphtah', 'socoh', 'taralah']\n",
      "Aspect 10:  ['aiah', 'rizpah', 'companion', 'naomi', 'tamar', 'rebekah', 'abigail', 'abihail', 'caleb', 'wife']\n",
      "Aspect 11:  ['nahath', 'asaiah', 'shamer', 'shimri', 'joha', 'azaziah', 'zebina', 'ibnijah', 'zabad', 'jashobeam']\n",
      "Aspect 12:  ['escape', 'remain', 'drive', 'consume', 'flee', 'depart', 'leave', 'fall', 'booties', 'consumed']\n",
      "Aspect 13:  ['suddenly', 'incurable', 'oppression', 'destruction', 'grief', 'trial', 'sore', 'wound', 'sorrows', 'distributeth']\n",
      "Aspect 14:  ['dishes', 'greaves', \"badgers'\", 'deer', 'swan', 'frying', \"potters'\", 'pygarg', 'chamois', 'inflammation']\n",
      "Aspect 15:  ['posts', 'top', 'porch', 'inner', 'threshold', 'doors', 'locked', 'hinges', 'court', 'tent']\n",
      "Aspect 16:  ['amorites', 'countries', 'hittites', 'ammonites', 'edom', 'canaanites', 'amalekites', 'cappadocia', 'perizzites', 'hivites']\n",
      "Aspect 17:  ['meshach', 'shadrach', 'governor', 'abednego', 'astrologers', 'darius', 'pharisees', 'copy', 'hilkiah', \"augustus'\"]\n",
      "Aspect 18:  ['hateth', 'deceitful', 'transgression', 'person', 'thefts', 'whoso', 'innocent', 'lies', 'falsehood', 'ignorance']\n",
      "Aspect 19:  ['rebelled', 'transgressed', 'provoked', 'wroth', 'displeased', 'forgat', 'served', 'despised', 'greatly', 'hearkened']\n",
      "Aspect 20:  ['twenty', 'fourscore', 'eight', 'fifteen', 'six', 'threescore', 'ninety', 'fourteen', 'nine', 'fifty']\n",
      "Aspect 21:  ['overtook', 'geshurites', 'michmash', 'bethjeshimoth', 'ashdothpisgah', 'maachathites', 'bethpeor', 'archi', 'jeshimon', 'hali']\n",
      "Aspect 22:  ['bani', 'mattenai', 'aziel', 'shemiramoth', 'azaziah', 'jerimoth', 'zaccur', 'uzzi', 'hanan', 'jeiel']\n",
      "Aspect 23:  ['baked', 'grape', 'unsavoury', 'vine', 'grapes', 'morsel', 'hungry', 'barrel', 'herb', 'flagon']\n",
      "Aspect 24:  ['spoons', 'overlaid', 'hooks', 'skins', 'dishes', 'overlay', \"badgers'\", 'ouches', 'blue', 'crisping']\n",
      "Aspect 25:  ['christ', 'martyrs', 'nazareth', 'finisher', 'answering', 'adjure', 'superstition', 'betrayest', 'instantly', 'guiltless']\n",
      "Aspect 26:  ['dreams', 'learned', 'understand', 'understood', 'believe', 'wondrous', 'sayings', 'talk', 'wonderful', 'believed']\n",
      "Aspect 27:  ['sopater', 'secundus', 'thessalonians', 'persuadest', 'workfellow', 'consorted', 'sosipater', 'prisca', 'philemon', 'christian']\n",
      "Aspect 28:  ['evermore', 'establish', 'everlasting', 'saviour', 'sheweth', 'ever', 'acceptable', 'bless', 'thank', 'belong']\n",
      "Aspect 29:  ['rebel', 'observe', 'perform', 'thanksgiving', 'accept', 'serve', 'vow', 'vows', 'accepted', 'sacrifice']\n",
      "Aspect 30:  ['pedahel', 'zebulunites', 'shuhamites', 'shiloni', 'dimnah', 'asherites', 'azzan', 'sebat', 'masrekah', 'kibzaim']\n"
     ]
    }
   ],
   "source": [
    "\"\"\" Find K aspects in a Given Dataset using K-Means \"\"\"\n",
    "\n",
    "n_clusters = 30\n",
    "kmeans = KMeans(n_clusters=n_clusters, random_state=0).fit(bible_wv.vectors)\n",
    "centers = kmeans.cluster_centers_\n",
    "print('Initial aspects via K means:')\n",
    "for i in range(n_clusters):\n",
    "    print('Aspect {:02}: '.format(i+1), [word for word, _ in bible_wv.similar_by_vector(centers[i])])"
   ]
  },
  {
   "cell_type": "code",
   "execution_count": 11,
   "metadata": {},
   "outputs": [],
   "source": [
    "def coverage(data, dist=\"cosine\"):\n",
    "    if dist == \"cosine\":\n",
    "        mins = (cosine_distances(data) + np.eye(len(data)) * 1e5).min(axis=1)\n",
    "    elif dist == \"euclidean\":\n",
    "        mins = (euclidean_distances(data) + np.eye(len(data)) * 1e5).min(axis=1)\n",
    "    return np.square(np.var(mins)) / mins.mean()"
   ]
  },
  {
   "cell_type": "code",
   "execution_count": 12,
   "metadata": {},
   "outputs": [],
   "source": [
    "w_emb = torch.from_numpy(bible_wv.vectors)\n",
    "a_emb = torch.from_numpy(centers)\n",
    "seed_w = None\n",
    "num_seeds = None\n",
    "lr = 0.005\n",
    "epochs = 50\n",
    "min_len = 1\n",
    "l = 0.1\n",
    "fix_a_emb = False\n",
    "\n",
    "net = AspectAutoencoder(vocab_size, embed_size, num_aspects=n_clusters, neg_samples=10, w_emb=w_emb, a_emb=a_emb, recon_method=\"centr\", seed_w=seed_w, num_seeds=num_seeds, attention=True, fix_w_emb=True, fix_a_emb=fix_a_emb)\n",
    "\n",
    "if torch.cuda.is_available():\n",
    "    os.environ['CUDA_VISIBLE_DEVICES'] = '0'\n",
    "    net = net.cuda()\n",
    "\n",
    "rec_loss = TripletMarginCosineLoss()\n",
    "orth_loss = OrthogonalityLoss()\n",
    "\n",
    "params = filter(lambda p: p.requires_grad, net.parameters())\n",
    "optimizer = torch.optim.Adam(params, lr=lr)"
   ]
  },
  {
   "cell_type": "code",
   "execution_count": 13,
   "metadata": {},
   "outputs": [
    {
     "data": {
      "application/vnd.jupyter.widget-view+json": {
       "model_id": "3e58ea32e63f478b84ac00e1ef145b80",
       "version_major": 2,
       "version_minor": 0
      },
      "text/plain": [
       "HBox(children=(HTML(value='Total Epoch'), FloatProgress(value=0.0, max=50.0), HTML(value='')))"
      ]
     },
     "metadata": {},
     "output_type": "display_data"
    },
    {
     "data": {
      "application/vnd.jupyter.widget-view+json": {
       "model_id": "f28a5088e9e14feba091be95f58a5cca",
       "version_major": 2,
       "version_minor": 0
      },
      "text/plain": [
       "HBox(children=(HTML(value='Epoch 0'), FloatProgress(value=0.0, max=623.0), HTML(value='')))"
      ]
     },
     "metadata": {},
     "output_type": "display_data"
    },
    {
     "data": {
      "application/vnd.jupyter.widget-view+json": {
       "model_id": "a3b18b3b2f944f268a0c370dffdbffc1",
       "version_major": 2,
       "version_minor": 0
      },
      "text/plain": [
       "HBox(children=(HTML(value='Epoch 1'), FloatProgress(value=0.0, max=623.0), HTML(value='')))"
      ]
     },
     "metadata": {},
     "output_type": "display_data"
    },
    {
     "data": {
      "application/vnd.jupyter.widget-view+json": {
       "model_id": "e9cdc11a87384b75b9b3020bf48206c0",
       "version_major": 2,
       "version_minor": 0
      },
      "text/plain": [
       "HBox(children=(HTML(value='Epoch 2'), FloatProgress(value=0.0, max=623.0), HTML(value='')))"
      ]
     },
     "metadata": {},
     "output_type": "display_data"
    },
    {
     "data": {
      "application/vnd.jupyter.widget-view+json": {
       "model_id": "7798e6ecedbe4695b3147519f8d32463",
       "version_major": 2,
       "version_minor": 0
      },
      "text/plain": [
       "HBox(children=(HTML(value='Epoch 3'), FloatProgress(value=0.0, max=623.0), HTML(value='')))"
      ]
     },
     "metadata": {},
     "output_type": "display_data"
    },
    {
     "data": {
      "application/vnd.jupyter.widget-view+json": {
       "model_id": "2ac8ff94accf4356b9297d13f0f03903",
       "version_major": 2,
       "version_minor": 0
      },
      "text/plain": [
       "HBox(children=(HTML(value='Epoch 4'), FloatProgress(value=0.0, max=623.0), HTML(value='')))"
      ]
     },
     "metadata": {},
     "output_type": "display_data"
    },
    {
     "data": {
      "application/vnd.jupyter.widget-view+json": {
       "model_id": "a1f1a6dca50c4472bad15ed29db26b44",
       "version_major": 2,
       "version_minor": 0
      },
      "text/plain": [
       "HBox(children=(HTML(value='Epoch 5'), FloatProgress(value=0.0, max=623.0), HTML(value='')))"
      ]
     },
     "metadata": {},
     "output_type": "display_data"
    },
    {
     "data": {
      "application/vnd.jupyter.widget-view+json": {
       "model_id": "0b2274bba6394e61a8480ceb17ae5a68",
       "version_major": 2,
       "version_minor": 0
      },
      "text/plain": [
       "HBox(children=(HTML(value='Epoch 6'), FloatProgress(value=0.0, max=623.0), HTML(value='')))"
      ]
     },
     "metadata": {},
     "output_type": "display_data"
    },
    {
     "data": {
      "application/vnd.jupyter.widget-view+json": {
       "model_id": "fa623f7da9944f3d99b278657b3eadfb",
       "version_major": 2,
       "version_minor": 0
      },
      "text/plain": [
       "HBox(children=(HTML(value='Epoch 7'), FloatProgress(value=0.0, max=623.0), HTML(value='')))"
      ]
     },
     "metadata": {},
     "output_type": "display_data"
    },
    {
     "data": {
      "application/vnd.jupyter.widget-view+json": {
       "model_id": "dedf8bb886c44b4d91ebd7dc5012dda0",
       "version_major": 2,
       "version_minor": 0
      },
      "text/plain": [
       "HBox(children=(HTML(value='Epoch 8'), FloatProgress(value=0.0, max=623.0), HTML(value='')))"
      ]
     },
     "metadata": {},
     "output_type": "display_data"
    },
    {
     "data": {
      "application/vnd.jupyter.widget-view+json": {
       "model_id": "1486a5c88dd64d53a0b554c55b72b59f",
       "version_major": 2,
       "version_minor": 0
      },
      "text/plain": [
       "HBox(children=(HTML(value='Epoch 9'), FloatProgress(value=0.0, max=623.0), HTML(value='')))"
      ]
     },
     "metadata": {},
     "output_type": "display_data"
    },
    {
     "data": {
      "application/vnd.jupyter.widget-view+json": {
       "model_id": "a1acb1c4e6f14e548135201133199b2e",
       "version_major": 2,
       "version_minor": 0
      },
      "text/plain": [
       "HBox(children=(HTML(value='Epoch 10'), FloatProgress(value=0.0, max=623.0), HTML(value='')))"
      ]
     },
     "metadata": {},
     "output_type": "display_data"
    },
    {
     "data": {
      "application/vnd.jupyter.widget-view+json": {
       "model_id": "dd7b1f59b8534dea8842fcf70c9ba611",
       "version_major": 2,
       "version_minor": 0
      },
      "text/plain": [
       "HBox(children=(HTML(value='Epoch 11'), FloatProgress(value=0.0, max=623.0), HTML(value='')))"
      ]
     },
     "metadata": {},
     "output_type": "display_data"
    },
    {
     "data": {
      "application/vnd.jupyter.widget-view+json": {
       "model_id": "78c9d5d97f5c4b3cb29ff32800490281",
       "version_major": 2,
       "version_minor": 0
      },
      "text/plain": [
       "HBox(children=(HTML(value='Epoch 12'), FloatProgress(value=0.0, max=623.0), HTML(value='')))"
      ]
     },
     "metadata": {},
     "output_type": "display_data"
    },
    {
     "data": {
      "application/vnd.jupyter.widget-view+json": {
       "model_id": "ebf31eba63f845b2b9f33985499de495",
       "version_major": 2,
       "version_minor": 0
      },
      "text/plain": [
       "HBox(children=(HTML(value='Epoch 13'), FloatProgress(value=0.0, max=623.0), HTML(value='')))"
      ]
     },
     "metadata": {},
     "output_type": "display_data"
    },
    {
     "data": {
      "application/vnd.jupyter.widget-view+json": {
       "model_id": "048f94d9e699497ca2bc43e22ac6e920",
       "version_major": 2,
       "version_minor": 0
      },
      "text/plain": [
       "HBox(children=(HTML(value='Epoch 14'), FloatProgress(value=0.0, max=623.0), HTML(value='')))"
      ]
     },
     "metadata": {},
     "output_type": "display_data"
    },
    {
     "data": {
      "application/vnd.jupyter.widget-view+json": {
       "model_id": "4712d9a5480347e58eb89e904112adea",
       "version_major": 2,
       "version_minor": 0
      },
      "text/plain": [
       "HBox(children=(HTML(value='Epoch 15'), FloatProgress(value=0.0, max=623.0), HTML(value='')))"
      ]
     },
     "metadata": {},
     "output_type": "display_data"
    },
    {
     "data": {
      "application/vnd.jupyter.widget-view+json": {
       "model_id": "daf070cdc6bb4699a04688bc9a0b9749",
       "version_major": 2,
       "version_minor": 0
      },
      "text/plain": [
       "HBox(children=(HTML(value='Epoch 16'), FloatProgress(value=0.0, max=623.0), HTML(value='')))"
      ]
     },
     "metadata": {},
     "output_type": "display_data"
    },
    {
     "data": {
      "application/vnd.jupyter.widget-view+json": {
       "model_id": "6abf950af49d473b9f16df4f07dffd06",
       "version_major": 2,
       "version_minor": 0
      },
      "text/plain": [
       "HBox(children=(HTML(value='Epoch 17'), FloatProgress(value=0.0, max=623.0), HTML(value='')))"
      ]
     },
     "metadata": {},
     "output_type": "display_data"
    },
    {
     "data": {
      "application/vnd.jupyter.widget-view+json": {
       "model_id": "17afc1a3fac64685a47a5ad99d724653",
       "version_major": 2,
       "version_minor": 0
      },
      "text/plain": [
       "HBox(children=(HTML(value='Epoch 18'), FloatProgress(value=0.0, max=623.0), HTML(value='')))"
      ]
     },
     "metadata": {},
     "output_type": "display_data"
    },
    {
     "data": {
      "application/vnd.jupyter.widget-view+json": {
       "model_id": "f8b0e514bbb444cf83d5e220c4081529",
       "version_major": 2,
       "version_minor": 0
      },
      "text/plain": [
       "HBox(children=(HTML(value='Epoch 19'), FloatProgress(value=0.0, max=623.0), HTML(value='')))"
      ]
     },
     "metadata": {},
     "output_type": "display_data"
    },
    {
     "data": {
      "application/vnd.jupyter.widget-view+json": {
       "model_id": "ea492abcaecc4329be5f1dc78fa61df0",
       "version_major": 2,
       "version_minor": 0
      },
      "text/plain": [
       "HBox(children=(HTML(value='Epoch 20'), FloatProgress(value=0.0, max=623.0), HTML(value='')))"
      ]
     },
     "metadata": {},
     "output_type": "display_data"
    },
    {
     "data": {
      "application/vnd.jupyter.widget-view+json": {
       "model_id": "4f96297b69a344508707bcc7792efd93",
       "version_major": 2,
       "version_minor": 0
      },
      "text/plain": [
       "HBox(children=(HTML(value='Epoch 21'), FloatProgress(value=0.0, max=623.0), HTML(value='')))"
      ]
     },
     "metadata": {},
     "output_type": "display_data"
    },
    {
     "data": {
      "application/vnd.jupyter.widget-view+json": {
       "model_id": "a5969c0054a447ccafedebec2915cf1b",
       "version_major": 2,
       "version_minor": 0
      },
      "text/plain": [
       "HBox(children=(HTML(value='Epoch 22'), FloatProgress(value=0.0, max=623.0), HTML(value='')))"
      ]
     },
     "metadata": {},
     "output_type": "display_data"
    },
    {
     "data": {
      "application/vnd.jupyter.widget-view+json": {
       "model_id": "96c95039262f4e1d83429b4dfb0f3139",
       "version_major": 2,
       "version_minor": 0
      },
      "text/plain": [
       "HBox(children=(HTML(value='Epoch 23'), FloatProgress(value=0.0, max=623.0), HTML(value='')))"
      ]
     },
     "metadata": {},
     "output_type": "display_data"
    },
    {
     "data": {
      "application/vnd.jupyter.widget-view+json": {
       "model_id": "3e334f2cfa5d47bea008d55ad40f6070",
       "version_major": 2,
       "version_minor": 0
      },
      "text/plain": [
       "HBox(children=(HTML(value='Epoch 24'), FloatProgress(value=0.0, max=623.0), HTML(value='')))"
      ]
     },
     "metadata": {},
     "output_type": "display_data"
    },
    {
     "data": {
      "application/vnd.jupyter.widget-view+json": {
       "model_id": "c23e64a76e4048b5a6d08c0d516282b2",
       "version_major": 2,
       "version_minor": 0
      },
      "text/plain": [
       "HBox(children=(HTML(value='Epoch 25'), FloatProgress(value=0.0, max=623.0), HTML(value='')))"
      ]
     },
     "metadata": {},
     "output_type": "display_data"
    },
    {
     "data": {
      "application/vnd.jupyter.widget-view+json": {
       "model_id": "6a00687e904a43b996ac4e5881db57f6",
       "version_major": 2,
       "version_minor": 0
      },
      "text/plain": [
       "HBox(children=(HTML(value='Epoch 26'), FloatProgress(value=0.0, max=623.0), HTML(value='')))"
      ]
     },
     "metadata": {},
     "output_type": "display_data"
    },
    {
     "data": {
      "application/vnd.jupyter.widget-view+json": {
       "model_id": "bf50da78095b40e1a41dd7bf64943a6c",
       "version_major": 2,
       "version_minor": 0
      },
      "text/plain": [
       "HBox(children=(HTML(value='Epoch 27'), FloatProgress(value=0.0, max=623.0), HTML(value='')))"
      ]
     },
     "metadata": {},
     "output_type": "display_data"
    },
    {
     "data": {
      "application/vnd.jupyter.widget-view+json": {
       "model_id": "2d733b55b18948e2951b91daeb26dee0",
       "version_major": 2,
       "version_minor": 0
      },
      "text/plain": [
       "HBox(children=(HTML(value='Epoch 28'), FloatProgress(value=0.0, max=623.0), HTML(value='')))"
      ]
     },
     "metadata": {},
     "output_type": "display_data"
    },
    {
     "data": {
      "application/vnd.jupyter.widget-view+json": {
       "model_id": "713d6293ec9347d9a7674eacb08343fc",
       "version_major": 2,
       "version_minor": 0
      },
      "text/plain": [
       "HBox(children=(HTML(value='Epoch 29'), FloatProgress(value=0.0, max=623.0), HTML(value='')))"
      ]
     },
     "metadata": {},
     "output_type": "display_data"
    },
    {
     "data": {
      "application/vnd.jupyter.widget-view+json": {
       "model_id": "2166fd8a55984656ac7caddf73b3795a",
       "version_major": 2,
       "version_minor": 0
      },
      "text/plain": [
       "HBox(children=(HTML(value='Epoch 30'), FloatProgress(value=0.0, max=623.0), HTML(value='')))"
      ]
     },
     "metadata": {},
     "output_type": "display_data"
    },
    {
     "data": {
      "application/vnd.jupyter.widget-view+json": {
       "model_id": "8fa04f6ea14b4eedb3e82fe5e691db18",
       "version_major": 2,
       "version_minor": 0
      },
      "text/plain": [
       "HBox(children=(HTML(value='Epoch 31'), FloatProgress(value=0.0, max=623.0), HTML(value='')))"
      ]
     },
     "metadata": {},
     "output_type": "display_data"
    },
    {
     "data": {
      "application/vnd.jupyter.widget-view+json": {
       "model_id": "6222392330e54d9bb6c63488223ff584",
       "version_major": 2,
       "version_minor": 0
      },
      "text/plain": [
       "HBox(children=(HTML(value='Epoch 32'), FloatProgress(value=0.0, max=623.0), HTML(value='')))"
      ]
     },
     "metadata": {},
     "output_type": "display_data"
    },
    {
     "data": {
      "application/vnd.jupyter.widget-view+json": {
       "model_id": "0d90ffbf3e5649ab822764c8d4062022",
       "version_major": 2,
       "version_minor": 0
      },
      "text/plain": [
       "HBox(children=(HTML(value='Epoch 33'), FloatProgress(value=0.0, max=623.0), HTML(value='')))"
      ]
     },
     "metadata": {},
     "output_type": "display_data"
    },
    {
     "data": {
      "application/vnd.jupyter.widget-view+json": {
       "model_id": "dfc7bd3176ba412eb39ef61a00172652",
       "version_major": 2,
       "version_minor": 0
      },
      "text/plain": [
       "HBox(children=(HTML(value='Epoch 34'), FloatProgress(value=0.0, max=623.0), HTML(value='')))"
      ]
     },
     "metadata": {},
     "output_type": "display_data"
    },
    {
     "data": {
      "application/vnd.jupyter.widget-view+json": {
       "model_id": "f5ff90d29a904ee789112e753781bf6d",
       "version_major": 2,
       "version_minor": 0
      },
      "text/plain": [
       "HBox(children=(HTML(value='Epoch 35'), FloatProgress(value=0.0, max=623.0), HTML(value='')))"
      ]
     },
     "metadata": {},
     "output_type": "display_data"
    },
    {
     "data": {
      "application/vnd.jupyter.widget-view+json": {
       "model_id": "642493cf6885459da06ba8a398e653ee",
       "version_major": 2,
       "version_minor": 0
      },
      "text/plain": [
       "HBox(children=(HTML(value='Epoch 36'), FloatProgress(value=0.0, max=623.0), HTML(value='')))"
      ]
     },
     "metadata": {},
     "output_type": "display_data"
    },
    {
     "data": {
      "application/vnd.jupyter.widget-view+json": {
       "model_id": "314ce3b230c34a4083ca559a2edb7e59",
       "version_major": 2,
       "version_minor": 0
      },
      "text/plain": [
       "HBox(children=(HTML(value='Epoch 37'), FloatProgress(value=0.0, max=623.0), HTML(value='')))"
      ]
     },
     "metadata": {},
     "output_type": "display_data"
    },
    {
     "data": {
      "application/vnd.jupyter.widget-view+json": {
       "model_id": "5fa64c9ac8654881ae377a7d76404e38",
       "version_major": 2,
       "version_minor": 0
      },
      "text/plain": [
       "HBox(children=(HTML(value='Epoch 38'), FloatProgress(value=0.0, max=623.0), HTML(value='')))"
      ]
     },
     "metadata": {},
     "output_type": "display_data"
    },
    {
     "data": {
      "application/vnd.jupyter.widget-view+json": {
       "model_id": "3983396f491c4d27adb77f6810af0bd0",
       "version_major": 2,
       "version_minor": 0
      },
      "text/plain": [
       "HBox(children=(HTML(value='Epoch 39'), FloatProgress(value=0.0, max=623.0), HTML(value='')))"
      ]
     },
     "metadata": {},
     "output_type": "display_data"
    },
    {
     "data": {
      "application/vnd.jupyter.widget-view+json": {
       "model_id": "3020ea730f0a423e9ff71334ae7da75b",
       "version_major": 2,
       "version_minor": 0
      },
      "text/plain": [
       "HBox(children=(HTML(value='Epoch 40'), FloatProgress(value=0.0, max=623.0), HTML(value='')))"
      ]
     },
     "metadata": {},
     "output_type": "display_data"
    },
    {
     "data": {
      "application/vnd.jupyter.widget-view+json": {
       "model_id": "c7bd1c25558442aabb77ae928937f053",
       "version_major": 2,
       "version_minor": 0
      },
      "text/plain": [
       "HBox(children=(HTML(value='Epoch 41'), FloatProgress(value=0.0, max=623.0), HTML(value='')))"
      ]
     },
     "metadata": {},
     "output_type": "display_data"
    },
    {
     "data": {
      "application/vnd.jupyter.widget-view+json": {
       "model_id": "0382b9440e0046be997007e0dc97e25b",
       "version_major": 2,
       "version_minor": 0
      },
      "text/plain": [
       "HBox(children=(HTML(value='Epoch 42'), FloatProgress(value=0.0, max=623.0), HTML(value='')))"
      ]
     },
     "metadata": {},
     "output_type": "display_data"
    },
    {
     "data": {
      "application/vnd.jupyter.widget-view+json": {
       "model_id": "53fd2928b5da4c8b9f483a07828169f5",
       "version_major": 2,
       "version_minor": 0
      },
      "text/plain": [
       "HBox(children=(HTML(value='Epoch 43'), FloatProgress(value=0.0, max=623.0), HTML(value='')))"
      ]
     },
     "metadata": {},
     "output_type": "display_data"
    },
    {
     "data": {
      "application/vnd.jupyter.widget-view+json": {
       "model_id": "057eb761435446c2831d716ed741a79c",
       "version_major": 2,
       "version_minor": 0
      },
      "text/plain": [
       "HBox(children=(HTML(value='Epoch 44'), FloatProgress(value=0.0, max=623.0), HTML(value='')))"
      ]
     },
     "metadata": {},
     "output_type": "display_data"
    },
    {
     "data": {
      "application/vnd.jupyter.widget-view+json": {
       "model_id": "20aaf4c284444766846273f21f3411b3",
       "version_major": 2,
       "version_minor": 0
      },
      "text/plain": [
       "HBox(children=(HTML(value='Epoch 45'), FloatProgress(value=0.0, max=623.0), HTML(value='')))"
      ]
     },
     "metadata": {},
     "output_type": "display_data"
    },
    {
     "data": {
      "application/vnd.jupyter.widget-view+json": {
       "model_id": "ec573f8b6c424423aa95b9116e306b93",
       "version_major": 2,
       "version_minor": 0
      },
      "text/plain": [
       "HBox(children=(HTML(value='Epoch 46'), FloatProgress(value=0.0, max=623.0), HTML(value='')))"
      ]
     },
     "metadata": {},
     "output_type": "display_data"
    },
    {
     "data": {
      "application/vnd.jupyter.widget-view+json": {
       "model_id": "3d8c64b3df144041947dc0268ce39e37",
       "version_major": 2,
       "version_minor": 0
      },
      "text/plain": [
       "HBox(children=(HTML(value='Epoch 47'), FloatProgress(value=0.0, max=623.0), HTML(value='')))"
      ]
     },
     "metadata": {},
     "output_type": "display_data"
    },
    {
     "data": {
      "application/vnd.jupyter.widget-view+json": {
       "model_id": "9dbbc3a674834f478eb8408a9d889826",
       "version_major": 2,
       "version_minor": 0
      },
      "text/plain": [
       "HBox(children=(HTML(value='Epoch 48'), FloatProgress(value=0.0, max=623.0), HTML(value='')))"
      ]
     },
     "metadata": {},
     "output_type": "display_data"
    },
    {
     "data": {
      "application/vnd.jupyter.widget-view+json": {
       "model_id": "6af4e72c04f4492d8c2c0e509de0e791",
       "version_major": 2,
       "version_minor": 0
      },
      "text/plain": [
       "HBox(children=(HTML(value='Epoch 49'), FloatProgress(value=0.0, max=623.0), HTML(value='')))"
      ]
     },
     "metadata": {},
     "output_type": "display_data"
    },
    {
     "name": "stdout",
     "output_type": "stream",
     "text": [
      "\n"
     ]
    }
   ],
   "source": [
    "net.train()\n",
    "for epoch in tqdm(range(epochs), desc='Total Epoch'):\n",
    "\n",
    "    for lines, ids in tqdm(dataloader, position=0, leave=False, desc='Epoch {}'.format(epoch)):\n",
    "        inputs = Variable(torch.Tensor(lines).long())\n",
    "\n",
    "        if inputs.shape[1] < min_len:\n",
    "            continue\n",
    "\n",
    "        if torch.cuda.is_available():\n",
    "            inputs = inputs.cuda()\n",
    "\n",
    "        out, a_probs = net(inputs)\n",
    "\n",
    "        positives, negatives = net.get_targets()\n",
    "        loss = rec_loss(out, positives, negatives)\n",
    "\n",
    "        if not fix_a_emb:\n",
    "            aspects = net.get_aspects()\n",
    "            loss += l * orth_loss(aspects)\n",
    "\n",
    "        optimizer.zero_grad()\n",
    "        loss.backward()\n",
    "        optimizer.step()"
   ]
  },
  {
   "cell_type": "code",
   "execution_count": 14,
   "metadata": {},
   "outputs": [
    {
     "name": "stdout",
     "output_type": "stream",
     "text": [
      "Trained aspects via ABAE:\n",
      "Aspect 01:  ['purple', 'fetters', 'cloth', 'chains', 'cheeks', 'girdles', 'scarlet', 'wearing', 'ointment', 'girded']\n",
      "Aspect 02:  ['cause', 'destroyed', 'besides', 'openeth', 'teachers', 'perfumes', 'troubling', 'inherited', 'broughtest', 'naughty']\n",
      "Aspect 03:  ['years', 'months', \"years'\", 'greyheaded', 'days', 'age', 'thirtieth', 'kirjatharim', 'waxeth', 'proofs']\n",
      "Aspect 04:  ['servant', 'tell', 'master', 'said', 'bid', 'cumbered', 'thee', 'strive', 'reprove', 'fetch']\n",
      "Aspect 05:  ['dew', 'clouds', 'cloud', 'depths', 'fleece', 'child', 'heat', 'quails', \"eagles'\", 'waterspouts']\n",
      "Aspect 06:  ['descendeth', 'devilish', 'spun', 'conceal', 'understanding', 'fretteth', 'likeminded', 'earthly', 'honour', 'queen']\n",
      "Aspect 07:  ['law', 'commandments', 'testimonies', 'precepts', 'mind', 'servant', 'statutes', 'judgments', 'laws', 'ways']\n",
      "Aspect 08:  ['saw', 'fled', 'smote', 'passed', 'came', 'met', 'arose', 'slew', 'followed', 'gidom']\n",
      "Aspect 09:  ['bethmarcaboth', 'jahaza', 'kedemoth', 'hormah', 'ashan', 'ether', 'zeboim', 'jarmuth', 'mephaath', 'eltolad']\n",
      "Aspect 10:  ['daughter', 'sister', 'maachah', 'mahalath', 'virgin', 'tamar', 'tahpenes', 'aiah', 'azubah', 'hadassah']\n",
      "Aspect 11:  ['hammelech', 'hamuel', 'esarhaddon', 'achan', 'adam', 'tikvath', 'armenia', 'zacchur', 'shilonite', 'harhas']\n",
      "Aspect 12:  ['escape', 'remain', 'satisfied', 'bring', 'kill', 'die', 'tread', 'drive', 'overtaketh', 'thine']\n",
      "Aspect 13:  ['short', 'breakings', 'purposes', 'hazael', 'mischiefs', 'slaughter', 'wounds', 'oppression', 'violent', 'grief']\n",
      "Aspect 14:  ['even', 'beauties', 'twinkling', 'first', 'deed', 'discharge', 'quietly', 'recompence', 'approach', 'third']\n",
      "Aspect 15:  ['dreadful', 'posts', 'higher', 'awaking', 'outside', 'doors', 'open', 'dissolved', 'watching', 'porch']\n",
      "Aspect 16:  ['cause', 'countries', 'dwell', 'publish', 'mercy', 'execute', 'houses', 'outcasts', 'habitation', 'lands']\n",
      "Aspect 17:  ['officers', 'copy', 'hilkiah', 'hundreds', 'ebedmelech', 'provinces', 'scribe', 'chief', 'letter', 'jehudi']\n",
      "Aspect 18:  ['whoremongers', 'walketh', 'menstealers', 'adultery', 'robbery', 'falsehood', 'robbed', 'stock', 'deceit', 'lying']\n",
      "Aspect 19:  ['baal', 'wroth', 'idol', 'images', 'baalim', 'idols', 'provoked', 'grove', 'sacrificed', 'reproaches']\n",
      "Aspect 20:  ['two', 'eighteen', 'doorkeeper', 'base', 'threescore', 'sixteen', 'fifty', 'menservants', 'basons', 'eznite']\n",
      "Aspect 21:  ['mount', 'hill', 'bethel', 'along', 'east', 'west', 'plain', 'south', 'sarid', 'migdol']\n",
      "Aspect 22:  ['korhites', 'jediael', 'shoham', 'shebaniah', 'mattaniah', 'jahath', 'sherebiah', 'jeriel', 'uzziel', 'jamin']\n",
      "Aspect 23:  ['hoof', 'monuments', 'cud', 'bittern', 'air', 'cheweth', 'vintage', 'pastures', 'fowl', 'vine']\n",
      "Aspect 24:  ['masons', 'timber', 'ivory', 'skins', 'beryl', 'jasper', 'spoons', 'blue', 'carving', 'bricks']\n",
      "Aspect 25:  ['highminded', 'christ', 'waiteth', 'weakness', 'epaphras', 'liveth', 'delighteth', 'adjure', 'sufferings', 'baptized']\n",
      "Aspect 26:  ['wars', 'rumours', 'wisdom', 'check', 'dreams', 'understand', 'folly', 'taunt', 'acts', 'belly']\n",
      "Aspect 27:  ['baptized', 'marvelled', 'pressed', 'frequent', 'running', 'john', 'wondered', 'exhortation', 'touched', 'crispus']\n",
      "Aspect 28:  ['servant', 'advanced', 'promises', 'blessedness', 'sheweth', 'achmetha', 'respected', 'describeth', 'oath', 'creator']\n",
      "Aspect 29:  ['sacrifice', 'vows', 'solemn', 'sacrificed', 'proclaim', 'doctrines', 'serve', 'thanksgiving', 'freewill', 'sacrifices']\n",
      "Aspect 30:  ['beginnings', 'accomplished', 'past', 'elisabeth', 'preparing', 'purifications', 'old', 'antiquity', 'expired', 'fortieth']\n"
     ]
    }
   ],
   "source": [
    "abae_centers = net.get_aspects().detach().cpu().numpy()\n",
    "\n",
    "print('Trained aspects via ABAE:')\n",
    "for i in range(n_clusters):\n",
    "    print('Aspect {:02}: '.format(i+1), [word for word, _ in bible_wv.similar_by_vector(abae_centers[i])])"
   ]
  },
  {
   "cell_type": "code",
   "execution_count": null,
   "metadata": {},
   "outputs": [],
   "source": []
  },
  {
   "cell_type": "code",
   "execution_count": 15,
   "metadata": {},
   "outputs": [
    {
     "data": {
      "text/plain": [
       "(0.002754966170756778, 1.7641805186035985e-10)"
      ]
     },
     "execution_count": 15,
     "metadata": {},
     "output_type": "execute_result"
    }
   ],
   "source": [
    "coverage(centers), coverage(abae_centers)"
   ]
  },
  {
   "cell_type": "code",
   "execution_count": 16,
   "metadata": {},
   "outputs": [
    {
     "name": "stdout",
     "output_type": "stream",
     "text": [
      "9000.765934884548 0.28938578062838144\n",
      "[126, 5270, 17451, 27560, 30680, 31082, 31102, 31103, 31103, 31103]\n",
      "[886, 363, 5024, 2518, 367, 615, 1865, 1542, 711, 1490, 252, 530, 473, 2381, 798, 1469, 538, 288, 650, 278, 2309, 1772, 510, 583, 188, 598, 337, 961, 545, 262]\n",
      "Epoch 50 recon:  0.0002612141388597844 orign:  0.00034723505087122904\n"
     ]
    }
   ],
   "source": [
    "outs = list()\n",
    "poss = list()\n",
    "aspects = list()\n",
    "recon_embedding = list()\n",
    "orign_embedding = list()\n",
    "for lines, ids in dataloader:\n",
    "    inputs = Variable(torch.Tensor(lines).long())\n",
    "\n",
    "    if inputs.shape[1] < min_len:\n",
    "        continue\n",
    "\n",
    "    if torch.cuda.is_available():\n",
    "        inputs = inputs.cuda()\n",
    "\n",
    "    out, a_probs = net(inputs)\n",
    "\n",
    "    positives, negatives = net.get_targets()\n",
    "\n",
    "    outs.append(out.detach().cpu().numpy())\n",
    "    poss.append(positives.detach().cpu().numpy())\n",
    "    aspects.append(a_probs.detach().cpu().numpy())\n",
    "\n",
    "    recon_embedding.append(out.detach().cpu().numpy())\n",
    "    orign_embedding.append(positives.detach().cpu().numpy())\n",
    "\n",
    "outs = np.concatenate(outs, axis=0)\n",
    "poss = np.concatenate(poss, axis=0)\n",
    "aspects = np.concatenate(aspects, axis=0)\n",
    "\n",
    "cos_dis = list()\n",
    "for a, b in zip(outs, poss):\n",
    "    cos_dis.append(cosine_distances(a.reshape(1, -1), b.reshape(1, -1))[0, 0])\n",
    "print(sum(cos_dis), sum(cos_dis) / len(cos_dis))\n",
    "\n",
    "cos_dis_stat = [np.sum(np.array(cos_dis) <= i * 0.1) for i in range(1, 11)]\n",
    "print(cos_dis_stat)\n",
    "\n",
    "aspects_probs = aspects.copy()\n",
    "aspects = np.argmax(aspects, axis=1)\n",
    "aspects_stat = [np.sum(aspects == i) for i in range(n_clusters)]\n",
    "print(aspects_stat)\n",
    "\n",
    "recon_embedding = np.concatenate(recon_embedding, axis=0)\n",
    "orign_embedding = np.concatenate(orign_embedding, axis=0)\n",
    "print(f\"Epoch {epoch+1}\", \"recon: \", coverage(recon_embedding, \"cosine\"), \"orign: \", coverage(orign_embedding, \"cosine\"))"
   ]
  },
  {
   "cell_type": "code",
   "execution_count": 17,
   "metadata": {},
   "outputs": [
    {
     "data": {
      "image/png": "[encoded data removed]",
      "text/plain": [
       "<Figure size 576x288 with 1 Axes>"
      ]
     },
     "metadata": {
      "needs_background": "light"
     },
     "output_type": "display_data"
    }
   ],
   "source": [
    "plt.figure(figsize=(8,4), tight_layout=True)\n",
    "ax = sns.histplot(cos_dis, cumulative=True, bins=20, kde=True)\n",
    "ax.set(title=\"Cumulative Count\", xlabel=\"Cosine Distance\", ylabel=\"Count\")\n",
    "plt.show()"
   ]
  },
  {
   "cell_type": "code",
   "execution_count": null,
   "metadata": {},
   "outputs": [],
   "source": []
  },
  {
   "cell_type": "code",
   "execution_count": 18,
   "metadata": {},
   "outputs": [],
   "source": [
    "np.save('verse2aspect.npy', aspects)"
   ]
  },
  {
   "cell_type": "code",
   "execution_count": null,
   "metadata": {},
   "outputs": [],
   "source": []
  },
  {
   "cell_type": "code",
   "execution_count": 19,
   "metadata": {},
   "outputs": [],
   "source": [
    "np.save('abae_centers.npy', abae_centers)"
   ]
  },
  {
   "cell_type": "code",
   "execution_count": 20,
   "metadata": {},
   "outputs": [
    {
     "name": "stdout",
     "output_type": "stream",
     "text": [
      "aspects_probs\n",
      "[0.03704353 0.0336345  0.04267082 0.02952187 0.01710337]\n"
     ]
    }
   ],
   "source": [
    "np.save('aspects_probs', aspects_probs)\n",
    "print(f'aspects_probs\\n{aspects_probs[0:5, 22]}')"
   ]
  }
 ],
 "metadata": {
  "interpreter": {
   "hash": "0a8facbd9eda8c90d5fb134f2abf3fbd1121eb6f624ae8f1476ece1be28366a8"
  },
  "kernelspec": {
   "display_name": "Python 3.8.5 64-bit ('Pytorch': conda)",
   "name": "python3"
  },
  "language_info": {
   "name": "python",
   "version": ""
  },
  "orig_nbformat": 2
 },
 "nbformat": 4,
 "nbformat_minor": 2
}