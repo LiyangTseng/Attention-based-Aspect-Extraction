{
 "metadata": {
  "language_info": {
   "codemirror_mode": {
    "name": "ipython",
    "version": 3
   },
   "file_extension": ".py",
   "mimetype": "text/x-python",
   "name": "python",
   "nbconvert_exporter": "python",
   "pygments_lexer": "ipython3",
   "version": "3.6.13"
  },
  "orig_nbformat": 2,
  "kernelspec": {
   "name": "python3613jvsc74a57bd00f807282278c6044d30c1571359e780a253ee355913fbf019258893f3accff02",
   "display_name": "Python 3.6.13 64-bit ('FakeNewsDetection': conda)"
  }
 },
 "nbformat": 4,
 "nbformat_minor": 2,
 "cells": [
  {
   "cell_type": "code",
   "execution_count": 1,
   "metadata": {},
   "outputs": [],
   "source": [
    "import torch\n",
    "from torch.autograd import Variable\n",
    "\n",
    "import numpy as np\n",
    "\n",
    "from tqdm import tqdm\n",
    "\n",
    "from torch.utils.data import DataLoader\n",
    "\n",
    "from flair.data import Sentence\n",
    "from flair.embeddings import WordEmbeddings\n",
    "\n",
    "from sklearn.cluster import KMeans\n",
    "from sklearn.metrics.pairwise import cosine_similarity, cosine_distances, euclidean_distances\n",
    "\n",
    "from gensim.models import KeyedVectors\n",
    "\n",
    "import pandas as pd\n",
    "import seaborn as sns\n",
    "import matplotlib.pyplot as plt\n",
    "\n",
    "from dataset import BibleDataset, custom_collate_fn\n",
    "from abae import AspectAutoencoder\n",
    "from loss import TripletMarginCosineLoss, OrthogonalityLoss"
   ]
  },
  {
   "cell_type": "code",
   "execution_count": 2,
   "metadata": {},
   "outputs": [
    {
     "output_type": "stream",
     "name": "stdout",
     "text": [
      "2021-06-12 21:36:05,705 Warning: An empty Sentence was created! Are there empty strings in your dataset?\n",
      "2021-06-12 21:36:06,492 Warning: An empty Sentence was created! Are there empty strings in your dataset?\n",
      "2021-06-12 21:36:06,760 Warning: An empty Sentence was created! Are there empty strings in your dataset?\n",
      "2021-06-12 21:36:08,197 Warning: An empty Sentence was created! Are there empty strings in your dataset?\n",
      "2021-06-12 21:36:08,200 Warning: An empty Sentence was created! Are there empty strings in your dataset?\n",
      "2021-06-12 21:36:08,201 Warning: An empty Sentence was created! Are there empty strings in your dataset?\n",
      "2021-06-12 21:36:08,201 Warning: An empty Sentence was created! Are there empty strings in your dataset?\n",
      "2021-06-12 21:36:08,203 Warning: An empty Sentence was created! Are there empty strings in your dataset?\n",
      "2021-06-12 21:36:08,215 Warning: An empty Sentence was created! Are there empty strings in your dataset?\n",
      "2021-06-12 21:36:08,215 Warning: An empty Sentence was created! Are there empty strings in your dataset?\n",
      "2021-06-12 21:36:08,216 Warning: An empty Sentence was created! Are there empty strings in your dataset?\n",
      "2021-06-12 21:36:08,216 Warning: An empty Sentence was created! Are there empty strings in your dataset?\n",
      "2021-06-12 21:36:08,217 Warning: An empty Sentence was created! Are there empty strings in your dataset?\n",
      "2021-06-12 21:36:08,248 Warning: An empty Sentence was created! Are there empty strings in your dataset?\n",
      "2021-06-12 21:36:08,707 Warning: An empty Sentence was created! Are there empty strings in your dataset?\n",
      "2021-06-12 21:36:09,531 Warning: An empty Sentence was created! Are there empty strings in your dataset?\n",
      "2021-06-12 21:36:10,069 Warning: An empty Sentence was created! Are there empty strings in your dataset?\n",
      "2021-06-12 21:36:10,784 Warning: An empty Sentence was created! Are there empty strings in your dataset?\n",
      "2021-06-12 21:36:11,040 Warning: An empty Sentence was created! Are there empty strings in your dataset?\n"
     ]
    }
   ],
   "source": [
    "dataset = BibleDataset(\"./t_bbe.csv\", word_to_index=True)\n",
    "dataloader = DataLoader(dataset, batch_size=50, shuffle=True, collate_fn=custom_collate_fn)"
   ]
  },
  {
   "cell_type": "code",
   "execution_count": 3,
   "metadata": {},
   "outputs": [
    {
     "output_type": "stream",
     "name": "stderr",
     "text": [
      "100%|██████████| 5914/5914 [00:07<00:00, 839.66it/s] \n"
     ]
    }
   ],
   "source": [
    "\"\"\" Generate Word Vectors for a Given Dataset \"\"\"\n",
    "\n",
    "glove_embedding = WordEmbeddings('glove')\n",
    "\n",
    "embed_size = glove_embedding.embedding_length\n",
    "vocab_size = dataset.vocab_size\n",
    "wv = KeyedVectors(vector_size=embed_size)\n",
    "\n",
    "embeddings = torch.empty(vocab_size, embed_size)\n",
    "\n",
    "for word, id in tqdm(dataset.word2id.items(), position=0, leave=True):\n",
    "    word = Sentence(word)\n",
    "    glove_embedding.embed(word)\n",
    "    for token in word:\n",
    "        embeddings[id] = token.embedding\n",
    "\n",
    "wv.add(list(dataset.word2id.keys()), embeddings.cpu().numpy())"
   ]
  },
  {
   "cell_type": "code",
   "execution_count": 12,
   "metadata": {},
   "outputs": [
    {
     "output_type": "stream",
     "name": "stdout",
     "text": [
      "['love', 'sense', 'mind', 'spirit', 'true', 'passion', 'life', 'thoughts', 'kind', 'feelings']\n\n['cleopas', 'arioch', 'kamon', 'adalia', 'eglon', 'crescens', 'machir', 'agur', 'kohath', 'baasha']\n\n['fifteen', 'twenty', 'thirty', 'forty', 'fourteen', 'fifty', 'sixteen', 'thirteen', 'twelve', 'eleven']\n\n['company', 'smyrna', 'builder', 'medan', 'boatmen', 'keystone', 'creditor', 'debtor', 'cos', 'valuing']\n\n['room', 'rooms', 'floor', 'floors', 'walls', 'window', 'roof', 'houses', 'doors', 'inside']\n\n['james', 'david', 'thomas', 'john', 'peter', 'michael', 'daniel', 'matthew', 'stephen', 'andrew']\n\n['even', 'something', 'nothing', 'know', 'going', 'come', 'everyone', 'get', 'things', 'way']\n\n['syria', 'egypt', 'lebanon', 'arab', 'israel', 'egyptian', 'gaza', 'syrian', 'damascus', 'rulers']\n\n['legs', 'chest', 'nose', 'neck', 'fingers', 'skin', 'stomach', 'throat', 'eyes', 'ear']\n\n['time', 'last', 'first', 'came', 'one', 'second', 'three', 'two', 'day', 'coming']\n\n['higher', 'price', 'market', 'profits', 'drop', 'increase', 'profit', 'interest', 'value', 'increased']\n\n['thirteenth', 'eleventh', 'fifteenth', 'tenth', 'twelfth', 'sixteenth', 'seventeenth', 'fourteenth', 'eighteenth', 'eighth']\n\n['christ', 'holy', 'jesus', 'worship', 'god', 'church', 'christians', 'apostles', 'disciples', 'apostle']\n\n['work', 'well', 'works', 'art', 'writing', 'addition', 'arts', 'working', 'best', 'music']\n\n['madmen', 'dreamers', 'footmen', 'seers', 'cloths', 'curses', 'philistines', 'doers', 'insides', 'scribes']\n\n['would', 'government', 'however', 'saying', 'well', 'though', 'part', 'decision', 'taken', 'support']\n\n['trees', 'tree', 'pine', 'grass', 'leaf', 'vines', 'vine', 'oak', 'fruit', 'plants']\n\n['black', 'blue', 'yellow', 'purple', 'dress', 'coat', 'dresses', 'red', 'dark', 'trousers']\n\n['questions', 'question', 'fact', 'answer', 'statements', 'answers', 'facts', 'details', 'reason', 'saying']\n\n['cruelly', 'sadly', 'disgusted', 'comforting', 'strangely', 'tired', 'seeming', 'comforted', 'pained', 'loudly']\n\n['butter', 'bread', 'cooked', 'milk', 'cheese', 'fruit', 'meat', 'soup', 'spices', 'taste']\n\n['eben', 'elisha', 'abi', 'asher', 'ishmael', 'eleazar', 'samson', 'dor', 'rebekah', 'bani']\n\n['valleys', 'mountains', 'valley', 'hills', 'river', 'mountain', 'slopes', 'overlooking', 'basin', 'rivers']\n\n['away', 'turning', 'taking', 'keep', 'putting', 'coming', 'back', 'turn', 'put', 'even']\n\n['snakes', 'birds', 'snake', 'sheep', 'dogs', 'animals', 'monkeys', 'goats', 'herd', 'foxes']\n\n['near', 'fire', 'train', 'attack', 'taken', 'outside', 'others', 'hundreds', 'police', 'two']\n\n['mother', 'child', 'daughter', 'children', 'wife', 'daughters', 'father', 'husband', 'woman', 'girl']\n\n['frames', 'metal', 'nails', 'blade', 'sticks', 'frame', 'pins', 'fingers', 'hand', 'wheels']\n\n['example', 'well', 'use', 'addition', 'different', 'certain', 'used', 'using', 'though', 'even']\n\n['rain', 'wind', 'clouds', 'dust', 'water', 'snow', 'waves', 'light', 'weather', 'heat']\n\n"
     ]
    }
   ],
   "source": [
    "\"\"\" Find K aspects in a Given Dataset using K-Means \"\"\"\n",
    "\n",
    "n_clusters = 30\n",
    "kmeans = KMeans(n_clusters=n_clusters, random_state=0).fit(wv.vectors)\n",
    "centers = kmeans.cluster_centers_\n",
    "\n",
    "for i in range(n_clusters):\n",
    "    print([word for word, _ in wv.similar_by_vector(centers[i])])\n",
    "    print()"
   ]
  },
  {
   "cell_type": "code",
   "execution_count": 13,
   "metadata": {},
   "outputs": [],
   "source": [
    "def coverage(data, dist=\"cosine\"):\n",
    "    if dist == \"cosine\":\n",
    "        mins = (cosine_distances(data) + np.eye(len(data)) * 1e5).min(axis=1)\n",
    "    elif dist == \"euclidean\":\n",
    "        mins = (euclidean_distances(data) + np.eye(len(data)) * 1e5).min(axis=1)\n",
    "    return np.square(np.var(mins)) / mins.mean()"
   ]
  },
  {
   "cell_type": "code",
   "execution_count": 14,
   "metadata": {},
   "outputs": [],
   "source": [
    "w_emb = torch.from_numpy(wv.vectors)\n",
    "a_emb = torch.from_numpy(centers)\n",
    "seed_w = None\n",
    "num_seeds = None\n",
    "lr = 0.01\n",
    "epochs = 50\n",
    "min_len = 1\n",
    "l = 0.1\n",
    "fix_a_emb = False\n",
    "\n",
    "net = AspectAutoencoder(vocab_size, embed_size, num_aspects=n_clusters, neg_samples=10, w_emb=w_emb, a_emb=a_emb, recon_method=\"centr\", seed_w=seed_w, num_seeds=num_seeds, attention=True, fix_w_emb=True, fix_a_emb=fix_a_emb)\n",
    "\n",
    "if torch.cuda.is_available():\n",
    "    os.environ['CUDA_VISIBLE_DEVICES'] = '1'\n",
    "    net = net.cuda()\n",
    "\n",
    "rec_loss = TripletMarginCosineLoss()\n",
    "orth_loss = OrthogonalityLoss()\n",
    "\n",
    "params = filter(lambda p: p.requires_grad, net.parameters())\n",
    "optimizer = torch.optim.Adam(params, lr=lr)"
   ]
  },
  {
   "cell_type": "code",
   "execution_count": 15,
   "metadata": {},
   "outputs": [
    {
     "output_type": "stream",
     "name": "stderr",
     "text": [
      "100%|██████████| 622/622 [00:03<00:00, 191.82it/s]\n",
      "100%|██████████| 622/622 [00:03<00:00, 196.48it/s]\n",
      "100%|██████████| 622/622 [00:03<00:00, 191.85it/s]\n",
      "100%|██████████| 622/622 [00:03<00:00, 188.23it/s]\n",
      "100%|██████████| 622/622 [00:03<00:00, 186.57it/s]\n",
      "100%|██████████| 622/622 [00:03<00:00, 176.46it/s]\n",
      "100%|██████████| 622/622 [00:03<00:00, 186.31it/s]\n",
      "100%|██████████| 622/622 [00:03<00:00, 199.27it/s]\n",
      "100%|██████████| 622/622 [00:03<00:00, 201.45it/s]\n",
      "100%|██████████| 622/622 [00:03<00:00, 184.28it/s]\n",
      "100%|██████████| 622/622 [00:03<00:00, 183.13it/s]\n",
      "100%|██████████| 622/622 [00:03<00:00, 189.18it/s]\n",
      "100%|██████████| 622/622 [00:03<00:00, 184.93it/s]\n",
      "100%|██████████| 622/622 [00:03<00:00, 172.25it/s]\n",
      "100%|██████████| 622/622 [00:03<00:00, 190.66it/s]\n",
      "100%|██████████| 622/622 [00:03<00:00, 195.31it/s]\n",
      "100%|██████████| 622/622 [00:03<00:00, 188.47it/s]\n",
      "100%|██████████| 622/622 [00:03<00:00, 187.40it/s]\n",
      "100%|██████████| 622/622 [00:03<00:00, 186.68it/s]\n",
      "100%|██████████| 622/622 [00:03<00:00, 181.72it/s]\n",
      "100%|██████████| 622/622 [00:03<00:00, 189.69it/s]\n",
      "100%|██████████| 622/622 [00:03<00:00, 177.10it/s]\n",
      "100%|██████████| 622/622 [00:03<00:00, 189.54it/s]\n",
      "100%|██████████| 622/622 [00:03<00:00, 183.98it/s]\n",
      "100%|██████████| 622/622 [00:03<00:00, 195.22it/s]\n",
      "100%|██████████| 622/622 [00:03<00:00, 190.61it/s]\n",
      "100%|██████████| 622/622 [00:03<00:00, 194.17it/s]\n",
      "100%|██████████| 622/622 [00:03<00:00, 196.66it/s]\n",
      "100%|██████████| 622/622 [00:03<00:00, 196.11it/s]\n",
      "100%|██████████| 622/622 [00:03<00:00, 203.73it/s]\n",
      "100%|██████████| 622/622 [00:03<00:00, 199.27it/s]\n",
      "100%|██████████| 622/622 [00:03<00:00, 205.70it/s]\n",
      "100%|██████████| 622/622 [00:03<00:00, 195.80it/s]\n",
      "100%|██████████| 622/622 [00:03<00:00, 191.47it/s]\n",
      "100%|██████████| 622/622 [00:03<00:00, 193.00it/s]\n",
      "100%|██████████| 622/622 [00:03<00:00, 191.79it/s]\n",
      "100%|██████████| 622/622 [00:03<00:00, 189.12it/s]\n",
      "100%|██████████| 622/622 [00:03<00:00, 202.87it/s]\n",
      "100%|██████████| 622/622 [00:03<00:00, 187.34it/s]\n",
      "100%|██████████| 622/622 [00:03<00:00, 176.87it/s]\n",
      "100%|██████████| 622/622 [00:03<00:00, 197.51it/s]\n",
      "100%|██████████| 622/622 [00:03<00:00, 177.43it/s]\n",
      "100%|██████████| 622/622 [00:03<00:00, 192.73it/s]\n",
      "100%|██████████| 622/622 [00:03<00:00, 189.94it/s]\n",
      "100%|██████████| 622/622 [00:03<00:00, 197.61it/s]\n",
      "100%|██████████| 622/622 [00:03<00:00, 196.21it/s]\n",
      "100%|██████████| 622/622 [00:03<00:00, 195.23it/s]\n",
      "100%|██████████| 622/622 [00:03<00:00, 191.24it/s]\n",
      "100%|██████████| 622/622 [00:03<00:00, 184.21it/s]\n",
      "100%|██████████| 622/622 [00:03<00:00, 186.41it/s]\n"
     ]
    }
   ],
   "source": [
    "net.train()\n",
    "for epoch in range(epochs):\n",
    "\n",
    "    for lines, ids in tqdm(dataloader, position=0, leave=True):\n",
    "        inputs = Variable(torch.Tensor(lines).long())\n",
    "\n",
    "        if inputs.shape[1] < min_len:\n",
    "            continue\n",
    "\n",
    "        if torch.cuda.is_available():\n",
    "            inputs = inputs.cuda()\n",
    "\n",
    "        out, a_probs = net(inputs)\n",
    "\n",
    "        positives, negatives = net.get_targets()\n",
    "        loss = rec_loss(out, positives, negatives)\n",
    "\n",
    "        if not fix_a_emb:\n",
    "            aspects = net.get_aspects()\n",
    "            loss += l * orth_loss(aspects)\n",
    "\n",
    "        optimizer.zero_grad()\n",
    "        loss.backward()\n",
    "        optimizer.step()"
   ]
  },
  {
   "cell_type": "code",
   "execution_count": 16,
   "metadata": {},
   "outputs": [
    {
     "output_type": "stream",
     "name": "stdout",
     "text": [
      "['sorrow', 'joy', 'passion', 'spirit', 'grief', 'pride', 'glory', 'uplifting', 'delight', 'feelings']\n\n['pharaoh', 'abimelech', 'rameses', 'ahasuerus', 'birthright', 'nebuchadnezzar', 'jewels', 'herod', 'stamps', 'melchizedek']\n\n['fourteen', 'sixty', 'eighty', 'seventeen', 'nineteen', 'sixteen', 'eighteen', 'fifteen', 'seventy', 'thirteen']\n\n['zur', 'acco', 'tob', 'gunite', 'gether', 'sin', 'hesed', '!', 'waste', 'sirs']\n\n['lord', 'garden', 'church', 'gardens', 'altar', 'rooms', 'churches', 'houses', 'worship', 'temple']\n\n['meshullam', 'asher', 'alvan', 'machir', 'paltiel', 'neriah', 'jehoram', 'hanoch', 'jehiel', 'alphaeus']\n\n['everybody', 'thing', 'know', 'look', 'happier', 'looks', 'going', 'things', 'wondering', 'cares']\n\n['rulers', 'syria', 'hilltops', 'neighbours', 'jews', 'lebanon', 'jerusalem', 'persia', 'israel', 'neighbouring']\n\n['stomach', 'chest', 'ear', 'cord', 'neck', 'throat', 'liver', 'mouth', 'bone', 'wound']\n\n['straight', 'fourth', 'sixth', 'seventh', 'eighth', 'fifth', 'round', 'second', 'opening', 'ending']\n\n['increase', 'profits', 'price', 'drop', 'increased', 'profit', 'growth', 'higher', 'sharply', 'rate']\n\n['tenth', 'thirteenth', 'fifteenth', 'eleventh', 'sixth', 'seventh', 'fifth', 'eighth', 'fourteenth', 'twelfth']\n\n['caiaphas', 'golgotha', 'barabbas', 'pilate', 'elim', 'pontius', 'jesus', 'nazarene', 'shaddai', 'enon']\n\n['art', 'writings', 'work', 'music', 'design', 'works', 'teaching', 'managers', 'credited', 'arts']\n\n['lord', 'lords', 'doer', 'asriel', 'beelzebub', 'beasts', 'righteousness', 'sinning', 'swordsmen', 'captains']\n\n['framework', 'supports', 'support', 'agreement', 'israel', 'authority', 'agreements', 'lebanon', 'nations', 'arab']\n\n['beeri', 'weariness', 'delighting', 'uprooting', 'boxwood', 'flowering', 'amalek', 'plantings', 'leavened', 'grasses']\n\n['silver', 'coloured', 'clouds', 'stars', 'robes', 'bright', 'gold', 'images', 'eyes', 'brightly']\n\n['statements', 'copy', 'notes', 'printed', 'letters', 'answering', 'handwriting', 'answers', 'papers', 'requests']\n\n['unwell', 'shiloah', 'addi', 'alush', 'zer', 'menna', 'adiel', 'unwalled', 'troas', 'lystra']\n\n['meats', 'foods', 'milk', 'berries', 'meat', 'drinks', 'spices', 'fruits', 'meal', 'oils']\n\n['bucket', 'soda', 'hagar', 'buckets', 'bela', 'zin', 'abba', 'ishmael', 'oh', 'perez']\n\n['highlands', 'valley', 'lowlands', 'antelope', 'valleys', 'mountains', 'hinnom', 'woodlands', 'arabah', 'fertile']\n\n['pushed', 'forced', 'pulled', 'overcame', 'went', 'forcing', 'stopped', 'sent', 'safely', 'back']\n\n['weasel', 'hare', 'melodies', 'horns', 'cry', 'doves', 'voices', 'watchmen', 'monkeys', '!']\n\n['wounded', 'police', 'fire', 'attacked', 'burned', 'wounding', 'army', 'burning', 'outskirts', 'attack']\n\n['widow', 'daughter', 'widowed', 'wife', 'daughters', 'bride', 'girl', 'husbands', 'wives', 'mother']\n\n['curved', 'curving', 'arched', 'brickwork', 'arches', 'ornamented', 'sloping', 'blade', 'polished', 'piping']\n\n['natural', 'diseases', 'purposes', 'material', 'materials', 'unsafe', 'distribution', 'effects', 'examples', 'amounts']\n\n['dawn', 'earth', 'nightfall', 'jupiter', 'thunderstorm', 'daylight', 'rains', 'sea', 'seas', 'winds']\n\n"
     ]
    }
   ],
   "source": [
    "abae_centers = net.get_aspects().detach().cpu().numpy()\n",
    "\n",
    "for i in range(n_clusters):\n",
    "    print([word for word, _ in wv.similar_by_vector(abae_centers[i])])\n",
    "    print()"
   ]
  },
  {
   "cell_type": "code",
   "execution_count": 17,
   "metadata": {},
   "outputs": [
    {
     "output_type": "execute_result",
     "data": {
      "text/plain": [
       "(0.0012551458268828454, 3.613356302848305e-10)"
      ]
     },
     "metadata": {},
     "execution_count": 17
    }
   ],
   "source": [
    "coverage(centers), coverage(abae_centers)"
   ]
  },
  {
   "cell_type": "code",
   "execution_count": 18,
   "metadata": {},
   "outputs": [
    {
     "output_type": "stream",
     "name": "stdout",
     "text": [
      "15140.088637113571 0.4870858230258846\n[0, 0, 109, 5055, 19324, 27571, 30153, 30816, 30967, 31070]\n[4095, 229, 2151, 385, 3631, 2333, 1218, 736, 458, 698, 275, 371, 1750, 240, 3232, 565, 343, 251, 474, 524, 416, 282, 428, 614, 619, 149, 1127, 2218, 519, 752]\n"
     ]
    }
   ],
   "source": [
    "outs = list()\n",
    "poss = list()\n",
    "aspects = list()\n",
    "recon_embedding = list()\n",
    "orign_embedding = list()\n",
    "for lines, ids in dataloader:\n",
    "    inputs = Variable(torch.Tensor(lines).long())\n",
    "\n",
    "    if inputs.shape[1] < min_len:\n",
    "        continue\n",
    "\n",
    "    if torch.cuda.is_available():\n",
    "        inputs = inputs.cuda()\n",
    "\n",
    "    out, a_probs = net(inputs)\n",
    "\n",
    "    positives, negatives = net.get_targets()\n",
    "\n",
    "    outs.append(out.detach().cpu().numpy())\n",
    "    poss.append(positives.detach().cpu().numpy())\n",
    "    aspects.append(a_probs.detach().cpu().numpy())\n",
    "\n",
    "    recon_embedding.append(out.detach().cpu().numpy())\n",
    "    orign_embedding.append(positives.detach().cpu().numpy())\n",
    "\n",
    "outs = np.concatenate(outs, axis=0)\n",
    "poss = np.concatenate(poss, axis=0)\n",
    "aspects = np.concatenate(aspects, axis=0)\n",
    "\n",
    "cos_dis = list()\n",
    "for a, b in zip(outs, poss):\n",
    "    cos_dis.append(cosine_distances(a.reshape(1, -1), b.reshape(1, -1))[0, 0])\n",
    "print(sum(cos_dis), sum(cos_dis) / len(cos_dis))\n",
    "\n",
    "cos_dis_stat = [np.sum(np.array(cos_dis) <= i * 0.1) for i in range(1, 11)]\n",
    "print(cos_dis_stat)\n",
    "\n",
    "aspects_embedding = aspects.copy()\n",
    "aspects = np.argmax(aspects, axis=1)\n",
    "aspects_stat = [np.sum(aspects == i) for i in range(n_clusters)]\n",
    "print(aspects_stat)\n",
    "\n",
    "recon_embedding = np.concatenate(recon_embedding, axis=0)\n",
    "orign_embedding = np.concatenate(orign_embedding, axis=0)\n",
    "print(f\"Epoch {epoch+1}\", \"recon: \", coverage(recon_embedding, \"cosine\"), \"orign: \", coverage(orign_embedding, \"cosine\"))"
   ]
  },
  {
   "cell_type": "code",
   "execution_count": 19,
   "metadata": {},
   "outputs": [
    {
     "output_type": "display_data",
     "data": {
      "text/plain": "<Figure size 576x288 with 1 Axes>",
      "image/svg+xml": "<?xml version=\"1.0\" encoding=\"utf-8\" standalone=\"no\"?>\n<!DOCTYPE svg PUBLIC \"-//W3C//DTD SVG 1.1//EN\"\n  \"http://www.w3.org/Graphics/SVG/1.1/DTD/svg11.dtd\">\n<!-- Created with matplotlib (https://matplotlib.org/) -->\n<svg height=\"280.8pt\" version=\"1.1\" viewBox=\"0 0 568.8 280.8\" width=\"568.8pt\" xmlns=\"http://www.w3.org/2000/svg\" xmlns:xlink=\"http://www.w3.org/1999/xlink\">\n <metadata>\n  <rdf:RDF xmlns:cc=\"http://creativecommons.org/ns#\" xmlns:dc=\"http://purl.org/dc/elements/1.1/\" xmlns:rdf=\"http://www.w3.org/1999/02/22-rdf-syntax-ns#\">\n   <cc:Work>\n    <dc:type rdf:resource=\"http://purl.org/dc/dcmitype/StillImage\"/>\n    <dc:date>2021-06-12T21:42:49.011199</dc:date>\n    <dc:format>image/svg+xml</dc:format>\n    <dc:creator>\n     <cc:Agent>\n      <dc:title>Matplotlib v3.3.1, https://matplotlib.org/</dc:title>\n     </cc:Agent>\n    </dc:creator>\n   </cc:Work>\n  </rdf:RDF>\n </metadata>\n <defs>\n  <style type=\"text/css\">*{stroke-linecap:butt;stroke-linejoin:round;}</style>\n </defs>\n <g id=\"figure_1\">\n  <g id=\"patch_1\">\n   <path d=\"M 0 280.8 \nL 568.8 280.8 \nL 568.8 0 \nL 0 0 \nz\n\" style=\"fill:none;\"/>\n  </g>\n  <g id=\"axes_1\">\n   <g id=\"patch_2\">\n    <path d=\"M 59.690625 243.24375 \nL 561.6 243.24375 \nL 561.6 22.318125 \nL 59.690625 22.318125 \nz\n\" style=\"fill:#ffffff;\"/>\n   </g>\n   <g id=\"patch_3\">\n    <path clip-path=\"url(#p831763b422)\" d=\"M 82.504688 243.24375 \nL 105.31875 243.24375 \nL 105.31875 243.074521 \nL 82.504688 243.074521 \nz\n\" style=\"fill:#1f77b4;fill-opacity:0.5;stroke:#000000;stroke-linejoin:miter;\"/>\n   </g>\n   <g id=\"patch_4\">\n    <path clip-path=\"url(#p831763b422)\" d=\"M 105.31875 243.24375 \nL 128.132812 243.24375 \nL 128.132812 240.407478 \nL 105.31875 240.407478 \nz\n\" style=\"fill:#1f77b4;fill-opacity:0.5;stroke:#000000;stroke-linejoin:miter;\"/>\n   </g>\n   <g id=\"patch_5\">\n    <path clip-path=\"url(#p831763b422)\" d=\"M 128.132812 243.24375 \nL 150.946875 243.24375 \nL 150.946875 215.023181 \nL 128.132812 215.023181 \nz\n\" style=\"fill:#1f77b4;fill-opacity:0.5;stroke:#000000;stroke-linejoin:miter;\"/>\n   </g>\n   <g id=\"patch_6\">\n    <path clip-path=\"url(#p831763b422)\" d=\"M 150.946875 243.24375 \nL 173.760937 243.24375 \nL 173.760937 155.278701 \nL 150.946875 155.278701 \nz\n\" style=\"fill:#1f77b4;fill-opacity:0.5;stroke:#000000;stroke-linejoin:miter;\"/>\n   </g>\n   <g id=\"patch_7\">\n    <path clip-path=\"url(#p831763b422)\" d=\"M 173.760937 243.24375 \nL 196.575 243.24375 \nL 196.575 99.284327 \nL 173.760937 99.284327 \nz\n\" style=\"fill:#1f77b4;fill-opacity:0.5;stroke:#000000;stroke-linejoin:miter;\"/>\n   </g>\n   <g id=\"patch_8\">\n    <path clip-path=\"url(#p831763b422)\" d=\"M 196.575 243.24375 \nL 219.389062 243.24375 \nL 219.389062 64.206614 \nL 196.575 64.206614 \nz\n\" style=\"fill:#1f77b4;fill-opacity:0.5;stroke:#000000;stroke-linejoin:miter;\"/>\n   </g>\n   <g id=\"patch_9\">\n    <path clip-path=\"url(#p831763b422)\" d=\"M 219.389062 243.24375 \nL 242.203125 243.24375 \nL 242.203125 46.762526 \nL 219.389062 46.762526 \nz\n\" style=\"fill:#1f77b4;fill-opacity:0.5;stroke:#000000;stroke-linejoin:miter;\"/>\n   </g>\n   <g id=\"patch_10\">\n    <path clip-path=\"url(#p831763b422)\" d=\"M 242.203125 243.24375 \nL 265.017187 243.24375 \nL 265.017187 38.808779 \nL 242.203125 38.808779 \nz\n\" style=\"fill:#1f77b4;fill-opacity:0.5;stroke:#000000;stroke-linejoin:miter;\"/>\n   </g>\n   <g id=\"patch_11\">\n    <path clip-path=\"url(#p831763b422)\" d=\"M 265.017187 243.24375 \nL 287.83125 243.24375 \nL 287.83125 35.518975 \nL 265.017187 35.518975 \nz\n\" style=\"fill:#1f77b4;fill-opacity:0.5;stroke:#000000;stroke-linejoin:miter;\"/>\n   </g>\n   <g id=\"patch_12\">\n    <path clip-path=\"url(#p831763b422)\" d=\"M 287.83125 243.24375 \nL 310.645312 243.24375 \nL 310.645312 34.144838 \nL 287.83125 34.144838 \nz\n\" style=\"fill:#1f77b4;fill-opacity:0.5;stroke:#000000;stroke-linejoin:miter;\"/>\n   </g>\n   <g id=\"patch_13\">\n    <path clip-path=\"url(#p831763b422)\" d=\"M 310.645312 243.24375 \nL 333.459375 243.24375 \nL 333.459375 33.664229 \nL 310.645312 33.664229 \nz\n\" style=\"fill:#1f77b4;fill-opacity:0.5;stroke:#000000;stroke-linejoin:miter;\"/>\n   </g>\n   <g id=\"patch_14\">\n    <path clip-path=\"url(#p831763b422)\" d=\"M 333.459375 243.24375 \nL 356.273438 243.24375 \nL 356.273438 33.447616 \nL 333.459375 33.447616 \nz\n\" style=\"fill:#1f77b4;fill-opacity:0.5;stroke:#000000;stroke-linejoin:miter;\"/>\n   </g>\n   <g id=\"patch_15\">\n    <path clip-path=\"url(#p831763b422)\" d=\"M 356.273438 243.24375 \nL 379.0875 243.24375 \nL 379.0875 32.906084 \nL 356.273438 32.906084 \nz\n\" style=\"fill:#1f77b4;fill-opacity:0.5;stroke:#000000;stroke-linejoin:miter;\"/>\n   </g>\n   <g id=\"patch_16\">\n    <path clip-path=\"url(#p831763b422)\" d=\"M 379.0875 243.24375 \nL 401.901563 243.24375 \nL 401.901563 32.872239 \nL 379.0875 32.872239 \nz\n\" style=\"fill:#1f77b4;fill-opacity:0.5;stroke:#000000;stroke-linejoin:miter;\"/>\n   </g>\n   <g id=\"patch_17\">\n    <path clip-path=\"url(#p831763b422)\" d=\"M 401.901563 243.24375 \nL 424.715625 243.24375 \nL 424.715625 32.8587 \nL 401.901563 32.8587 \nz\n\" style=\"fill:#1f77b4;fill-opacity:0.5;stroke:#000000;stroke-linejoin:miter;\"/>\n   </g>\n   <g id=\"patch_18\">\n    <path clip-path=\"url(#p831763b422)\" d=\"M 424.715625 243.24375 \nL 447.529687 243.24375 \nL 447.529687 32.845162 \nL 424.715625 32.845162 \nz\n\" style=\"fill:#1f77b4;fill-opacity:0.5;stroke:#000000;stroke-linejoin:miter;\"/>\n   </g>\n   <g id=\"patch_19\">\n    <path clip-path=\"url(#p831763b422)\" d=\"M 447.529687 243.24375 \nL 470.34375 243.24375 \nL 470.34375 32.845162 \nL 447.529687 32.845162 \nz\n\" style=\"fill:#1f77b4;fill-opacity:0.5;stroke:#000000;stroke-linejoin:miter;\"/>\n   </g>\n   <g id=\"patch_20\">\n    <path clip-path=\"url(#p831763b422)\" d=\"M 470.34375 243.24375 \nL 493.157812 243.24375 \nL 493.157812 32.845162 \nL 470.34375 32.845162 \nz\n\" style=\"fill:#1f77b4;fill-opacity:0.5;stroke:#000000;stroke-linejoin:miter;\"/>\n   </g>\n   <g id=\"patch_21\">\n    <path clip-path=\"url(#p831763b422)\" d=\"M 493.157812 243.24375 \nL 515.971875 243.24375 \nL 515.971875 32.845162 \nL 493.157812 32.845162 \nz\n\" style=\"fill:#1f77b4;fill-opacity:0.5;stroke:#000000;stroke-linejoin:miter;\"/>\n   </g>\n   <g id=\"patch_22\">\n    <path clip-path=\"url(#p831763b422)\" d=\"M 515.971875 243.24375 \nL 538.785938 243.24375 \nL 538.785938 32.838393 \nL 515.971875 32.838393 \nz\n\" style=\"fill:#1f77b4;fill-opacity:0.5;stroke:#000000;stroke-linejoin:miter;\"/>\n   </g>\n   <g id=\"matplotlib.axis_1\">\n    <g id=\"xtick_1\">\n     <g id=\"line2d_1\">\n      <defs>\n       <path d=\"M 0 0 \nL 0 3.5 \n\" id=\"m71ab84d501\" style=\"stroke:#000000;stroke-width:0.8;\"/>\n      </defs>\n      <g>\n       <use style=\"stroke:#000000;stroke-width:0.8;\" x=\"80.680507\" xlink:href=\"#m71ab84d501\" y=\"243.24375\"/>\n      </g>\n     </g>\n     <g id=\"text_1\">\n      <!-- 0.2 -->\n      <g transform=\"translate(72.728945 257.842188)scale(0.1 -0.1)\">\n       <defs>\n        <path d=\"M 31.78125 66.40625 \nQ 24.171875 66.40625 20.328125 58.90625 \nQ 16.5 51.421875 16.5 36.375 \nQ 16.5 21.390625 20.328125 13.890625 \nQ 24.171875 6.390625 31.78125 6.390625 \nQ 39.453125 6.390625 43.28125 13.890625 \nQ 47.125 21.390625 47.125 36.375 \nQ 47.125 51.421875 43.28125 58.90625 \nQ 39.453125 66.40625 31.78125 66.40625 \nz\nM 31.78125 74.21875 \nQ 44.046875 74.21875 50.515625 64.515625 \nQ 56.984375 54.828125 56.984375 36.375 \nQ 56.984375 17.96875 50.515625 8.265625 \nQ 44.046875 -1.421875 31.78125 -1.421875 \nQ 19.53125 -1.421875 13.0625 8.265625 \nQ 6.59375 17.96875 6.59375 36.375 \nQ 6.59375 54.828125 13.0625 64.515625 \nQ 19.53125 74.21875 31.78125 74.21875 \nz\n\" id=\"DejaVuSans-48\"/>\n        <path d=\"M 10.6875 12.40625 \nL 21 12.40625 \nL 21 0 \nL 10.6875 0 \nz\n\" id=\"DejaVuSans-46\"/>\n        <path d=\"M 19.1875 8.296875 \nL 53.609375 8.296875 \nL 53.609375 0 \nL 7.328125 0 \nL 7.328125 8.296875 \nQ 12.9375 14.109375 22.625 23.890625 \nQ 32.328125 33.6875 34.8125 36.53125 \nQ 39.546875 41.84375 41.421875 45.53125 \nQ 43.3125 49.21875 43.3125 52.78125 \nQ 43.3125 58.59375 39.234375 62.25 \nQ 35.15625 65.921875 28.609375 65.921875 \nQ 23.96875 65.921875 18.8125 64.3125 \nQ 13.671875 62.703125 7.8125 59.421875 \nL 7.8125 69.390625 \nQ 13.765625 71.78125 18.9375 73 \nQ 24.125 74.21875 28.421875 74.21875 \nQ 39.75 74.21875 46.484375 68.546875 \nQ 53.21875 62.890625 53.21875 53.421875 \nQ 53.21875 48.921875 51.53125 44.890625 \nQ 49.859375 40.875 45.40625 35.40625 \nQ 44.1875 33.984375 37.640625 27.21875 \nQ 31.109375 20.453125 19.1875 8.296875 \nz\n\" id=\"DejaVuSans-50\"/>\n       </defs>\n       <use xlink:href=\"#DejaVuSans-48\"/>\n       <use x=\"63.623047\" xlink:href=\"#DejaVuSans-46\"/>\n       <use x=\"95.410156\" xlink:href=\"#DejaVuSans-50\"/>\n      </g>\n     </g>\n    </g>\n    <g id=\"xtick_2\">\n     <g id=\"line2d_2\">\n      <g>\n       <use style=\"stroke:#000000;stroke-width:0.8;\" x=\"153.782157\" xlink:href=\"#m71ab84d501\" y=\"243.24375\"/>\n      </g>\n     </g>\n     <g id=\"text_2\">\n      <!-- 0.4 -->\n      <g transform=\"translate(145.830595 257.842188)scale(0.1 -0.1)\">\n       <defs>\n        <path d=\"M 37.796875 64.3125 \nL 12.890625 25.390625 \nL 37.796875 25.390625 \nz\nM 35.203125 72.90625 \nL 47.609375 72.90625 \nL 47.609375 25.390625 \nL 58.015625 25.390625 \nL 58.015625 17.1875 \nL 47.609375 17.1875 \nL 47.609375 0 \nL 37.796875 0 \nL 37.796875 17.1875 \nL 4.890625 17.1875 \nL 4.890625 26.703125 \nz\n\" id=\"DejaVuSans-52\"/>\n       </defs>\n       <use xlink:href=\"#DejaVuSans-48\"/>\n       <use x=\"63.623047\" xlink:href=\"#DejaVuSans-46\"/>\n       <use x=\"95.410156\" xlink:href=\"#DejaVuSans-52\"/>\n      </g>\n     </g>\n    </g>\n    <g id=\"xtick_3\">\n     <g id=\"line2d_3\">\n      <g>\n       <use style=\"stroke:#000000;stroke-width:0.8;\" x=\"226.883807\" xlink:href=\"#m71ab84d501\" y=\"243.24375\"/>\n      </g>\n     </g>\n     <g id=\"text_3\">\n      <!-- 0.6 -->\n      <g transform=\"translate(218.932244 257.842188)scale(0.1 -0.1)\">\n       <defs>\n        <path d=\"M 33.015625 40.375 \nQ 26.375 40.375 22.484375 35.828125 \nQ 18.609375 31.296875 18.609375 23.390625 \nQ 18.609375 15.53125 22.484375 10.953125 \nQ 26.375 6.390625 33.015625 6.390625 \nQ 39.65625 6.390625 43.53125 10.953125 \nQ 47.40625 15.53125 47.40625 23.390625 \nQ 47.40625 31.296875 43.53125 35.828125 \nQ 39.65625 40.375 33.015625 40.375 \nz\nM 52.59375 71.296875 \nL 52.59375 62.3125 \nQ 48.875 64.0625 45.09375 64.984375 \nQ 41.3125 65.921875 37.59375 65.921875 \nQ 27.828125 65.921875 22.671875 59.328125 \nQ 17.53125 52.734375 16.796875 39.40625 \nQ 19.671875 43.65625 24.015625 45.921875 \nQ 28.375 48.1875 33.59375 48.1875 \nQ 44.578125 48.1875 50.953125 41.515625 \nQ 57.328125 34.859375 57.328125 23.390625 \nQ 57.328125 12.15625 50.6875 5.359375 \nQ 44.046875 -1.421875 33.015625 -1.421875 \nQ 20.359375 -1.421875 13.671875 8.265625 \nQ 6.984375 17.96875 6.984375 36.375 \nQ 6.984375 53.65625 15.1875 63.9375 \nQ 23.390625 74.21875 37.203125 74.21875 \nQ 40.921875 74.21875 44.703125 73.484375 \nQ 48.484375 72.75 52.59375 71.296875 \nz\n\" id=\"DejaVuSans-54\"/>\n       </defs>\n       <use xlink:href=\"#DejaVuSans-48\"/>\n       <use x=\"63.623047\" xlink:href=\"#DejaVuSans-46\"/>\n       <use x=\"95.410156\" xlink:href=\"#DejaVuSans-54\"/>\n      </g>\n     </g>\n    </g>\n    <g id=\"xtick_4\">\n     <g id=\"line2d_4\">\n      <g>\n       <use style=\"stroke:#000000;stroke-width:0.8;\" x=\"299.985456\" xlink:href=\"#m71ab84d501\" y=\"243.24375\"/>\n      </g>\n     </g>\n     <g id=\"text_4\">\n      <!-- 0.8 -->\n      <g transform=\"translate(292.033894 257.842188)scale(0.1 -0.1)\">\n       <defs>\n        <path d=\"M 31.78125 34.625 \nQ 24.75 34.625 20.71875 30.859375 \nQ 16.703125 27.09375 16.703125 20.515625 \nQ 16.703125 13.921875 20.71875 10.15625 \nQ 24.75 6.390625 31.78125 6.390625 \nQ 38.8125 6.390625 42.859375 10.171875 \nQ 46.921875 13.96875 46.921875 20.515625 \nQ 46.921875 27.09375 42.890625 30.859375 \nQ 38.875 34.625 31.78125 34.625 \nz\nM 21.921875 38.8125 \nQ 15.578125 40.375 12.03125 44.71875 \nQ 8.5 49.078125 8.5 55.328125 \nQ 8.5 64.0625 14.71875 69.140625 \nQ 20.953125 74.21875 31.78125 74.21875 \nQ 42.671875 74.21875 48.875 69.140625 \nQ 55.078125 64.0625 55.078125 55.328125 \nQ 55.078125 49.078125 51.53125 44.71875 \nQ 48 40.375 41.703125 38.8125 \nQ 48.828125 37.15625 52.796875 32.3125 \nQ 56.78125 27.484375 56.78125 20.515625 \nQ 56.78125 9.90625 50.3125 4.234375 \nQ 43.84375 -1.421875 31.78125 -1.421875 \nQ 19.734375 -1.421875 13.25 4.234375 \nQ 6.78125 9.90625 6.78125 20.515625 \nQ 6.78125 27.484375 10.78125 32.3125 \nQ 14.796875 37.15625 21.921875 38.8125 \nz\nM 18.3125 54.390625 \nQ 18.3125 48.734375 21.84375 45.5625 \nQ 25.390625 42.390625 31.78125 42.390625 \nQ 38.140625 42.390625 41.71875 45.5625 \nQ 45.3125 48.734375 45.3125 54.390625 \nQ 45.3125 60.0625 41.71875 63.234375 \nQ 38.140625 66.40625 31.78125 66.40625 \nQ 25.390625 66.40625 21.84375 63.234375 \nQ 18.3125 60.0625 18.3125 54.390625 \nz\n\" id=\"DejaVuSans-56\"/>\n       </defs>\n       <use xlink:href=\"#DejaVuSans-48\"/>\n       <use x=\"63.623047\" xlink:href=\"#DejaVuSans-46\"/>\n       <use x=\"95.410156\" xlink:href=\"#DejaVuSans-56\"/>\n      </g>\n     </g>\n    </g>\n    <g id=\"xtick_5\">\n     <g id=\"line2d_5\">\n      <g>\n       <use style=\"stroke:#000000;stroke-width:0.8;\" x=\"373.087106\" xlink:href=\"#m71ab84d501\" y=\"243.24375\"/>\n      </g>\n     </g>\n     <g id=\"text_5\">\n      <!-- 1.0 -->\n      <g transform=\"translate(365.135543 257.842188)scale(0.1 -0.1)\">\n       <defs>\n        <path d=\"M 12.40625 8.296875 \nL 28.515625 8.296875 \nL 28.515625 63.921875 \nL 10.984375 60.40625 \nL 10.984375 69.390625 \nL 28.421875 72.90625 \nL 38.28125 72.90625 \nL 38.28125 8.296875 \nL 54.390625 8.296875 \nL 54.390625 0 \nL 12.40625 0 \nz\n\" id=\"DejaVuSans-49\"/>\n       </defs>\n       <use xlink:href=\"#DejaVuSans-49\"/>\n       <use x=\"63.623047\" xlink:href=\"#DejaVuSans-46\"/>\n       <use x=\"95.410156\" xlink:href=\"#DejaVuSans-48\"/>\n      </g>\n     </g>\n    </g>\n    <g id=\"xtick_6\">\n     <g id=\"line2d_6\">\n      <g>\n       <use style=\"stroke:#000000;stroke-width:0.8;\" x=\"446.188756\" xlink:href=\"#m71ab84d501\" y=\"243.24375\"/>\n      </g>\n     </g>\n     <g id=\"text_6\">\n      <!-- 1.2 -->\n      <g transform=\"translate(438.237193 257.842188)scale(0.1 -0.1)\">\n       <use xlink:href=\"#DejaVuSans-49\"/>\n       <use x=\"63.623047\" xlink:href=\"#DejaVuSans-46\"/>\n       <use x=\"95.410156\" xlink:href=\"#DejaVuSans-50\"/>\n      </g>\n     </g>\n    </g>\n    <g id=\"xtick_7\">\n     <g id=\"line2d_7\">\n      <g>\n       <use style=\"stroke:#000000;stroke-width:0.8;\" x=\"519.290405\" xlink:href=\"#m71ab84d501\" y=\"243.24375\"/>\n      </g>\n     </g>\n     <g id=\"text_7\">\n      <!-- 1.4 -->\n      <g transform=\"translate(511.338843 257.842188)scale(0.1 -0.1)\">\n       <use xlink:href=\"#DejaVuSans-49\"/>\n       <use x=\"63.623047\" xlink:href=\"#DejaVuSans-46\"/>\n       <use x=\"95.410156\" xlink:href=\"#DejaVuSans-52\"/>\n      </g>\n     </g>\n    </g>\n    <g id=\"text_8\">\n     <!-- Cosine Distance -->\n     <g transform=\"translate(270.403906 271.520312)scale(0.1 -0.1)\">\n      <defs>\n       <path d=\"M 64.40625 67.28125 \nL 64.40625 56.890625 \nQ 59.421875 61.53125 53.78125 63.8125 \nQ 48.140625 66.109375 41.796875 66.109375 \nQ 29.296875 66.109375 22.65625 58.46875 \nQ 16.015625 50.828125 16.015625 36.375 \nQ 16.015625 21.96875 22.65625 14.328125 \nQ 29.296875 6.6875 41.796875 6.6875 \nQ 48.140625 6.6875 53.78125 8.984375 \nQ 59.421875 11.28125 64.40625 15.921875 \nL 64.40625 5.609375 \nQ 59.234375 2.09375 53.4375 0.328125 \nQ 47.65625 -1.421875 41.21875 -1.421875 \nQ 24.65625 -1.421875 15.125 8.703125 \nQ 5.609375 18.84375 5.609375 36.375 \nQ 5.609375 53.953125 15.125 64.078125 \nQ 24.65625 74.21875 41.21875 74.21875 \nQ 47.75 74.21875 53.53125 72.484375 \nQ 59.328125 70.75 64.40625 67.28125 \nz\n\" id=\"DejaVuSans-67\"/>\n       <path d=\"M 30.609375 48.390625 \nQ 23.390625 48.390625 19.1875 42.75 \nQ 14.984375 37.109375 14.984375 27.296875 \nQ 14.984375 17.484375 19.15625 11.84375 \nQ 23.34375 6.203125 30.609375 6.203125 \nQ 37.796875 6.203125 41.984375 11.859375 \nQ 46.1875 17.53125 46.1875 27.296875 \nQ 46.1875 37.015625 41.984375 42.703125 \nQ 37.796875 48.390625 30.609375 48.390625 \nz\nM 30.609375 56 \nQ 42.328125 56 49.015625 48.375 \nQ 55.71875 40.765625 55.71875 27.296875 \nQ 55.71875 13.875 49.015625 6.21875 \nQ 42.328125 -1.421875 30.609375 -1.421875 \nQ 18.84375 -1.421875 12.171875 6.21875 \nQ 5.515625 13.875 5.515625 27.296875 \nQ 5.515625 40.765625 12.171875 48.375 \nQ 18.84375 56 30.609375 56 \nz\n\" id=\"DejaVuSans-111\"/>\n       <path d=\"M 44.28125 53.078125 \nL 44.28125 44.578125 \nQ 40.484375 46.53125 36.375 47.5 \nQ 32.28125 48.484375 27.875 48.484375 \nQ 21.1875 48.484375 17.84375 46.4375 \nQ 14.5 44.390625 14.5 40.28125 \nQ 14.5 37.15625 16.890625 35.375 \nQ 19.28125 33.59375 26.515625 31.984375 \nL 29.59375 31.296875 \nQ 39.15625 29.25 43.1875 25.515625 \nQ 47.21875 21.78125 47.21875 15.09375 \nQ 47.21875 7.46875 41.1875 3.015625 \nQ 35.15625 -1.421875 24.609375 -1.421875 \nQ 20.21875 -1.421875 15.453125 -0.5625 \nQ 10.6875 0.296875 5.421875 2 \nL 5.421875 11.28125 \nQ 10.40625 8.6875 15.234375 7.390625 \nQ 20.0625 6.109375 24.8125 6.109375 \nQ 31.15625 6.109375 34.5625 8.28125 \nQ 37.984375 10.453125 37.984375 14.40625 \nQ 37.984375 18.0625 35.515625 20.015625 \nQ 33.0625 21.96875 24.703125 23.78125 \nL 21.578125 24.515625 \nQ 13.234375 26.265625 9.515625 29.90625 \nQ 5.8125 33.546875 5.8125 39.890625 \nQ 5.8125 47.609375 11.28125 51.796875 \nQ 16.75 56 26.8125 56 \nQ 31.78125 56 36.171875 55.265625 \nQ 40.578125 54.546875 44.28125 53.078125 \nz\n\" id=\"DejaVuSans-115\"/>\n       <path d=\"M 9.421875 54.6875 \nL 18.40625 54.6875 \nL 18.40625 0 \nL 9.421875 0 \nz\nM 9.421875 75.984375 \nL 18.40625 75.984375 \nL 18.40625 64.59375 \nL 9.421875 64.59375 \nz\n\" id=\"DejaVuSans-105\"/>\n       <path d=\"M 54.890625 33.015625 \nL 54.890625 0 \nL 45.90625 0 \nL 45.90625 32.71875 \nQ 45.90625 40.484375 42.875 44.328125 \nQ 39.84375 48.1875 33.796875 48.1875 \nQ 26.515625 48.1875 22.3125 43.546875 \nQ 18.109375 38.921875 18.109375 30.90625 \nL 18.109375 0 \nL 9.078125 0 \nL 9.078125 54.6875 \nL 18.109375 54.6875 \nL 18.109375 46.1875 \nQ 21.34375 51.125 25.703125 53.5625 \nQ 30.078125 56 35.796875 56 \nQ 45.21875 56 50.046875 50.171875 \nQ 54.890625 44.34375 54.890625 33.015625 \nz\n\" id=\"DejaVuSans-110\"/>\n       <path d=\"M 56.203125 29.59375 \nL 56.203125 25.203125 \nL 14.890625 25.203125 \nQ 15.484375 15.921875 20.484375 11.0625 \nQ 25.484375 6.203125 34.421875 6.203125 \nQ 39.59375 6.203125 44.453125 7.46875 \nQ 49.3125 8.734375 54.109375 11.28125 \nL 54.109375 2.78125 \nQ 49.265625 0.734375 44.1875 -0.34375 \nQ 39.109375 -1.421875 33.890625 -1.421875 \nQ 20.796875 -1.421875 13.15625 6.1875 \nQ 5.515625 13.8125 5.515625 26.8125 \nQ 5.515625 40.234375 12.765625 48.109375 \nQ 20.015625 56 32.328125 56 \nQ 43.359375 56 49.78125 48.890625 \nQ 56.203125 41.796875 56.203125 29.59375 \nz\nM 47.21875 32.234375 \nQ 47.125 39.59375 43.09375 43.984375 \nQ 39.0625 48.390625 32.421875 48.390625 \nQ 24.90625 48.390625 20.390625 44.140625 \nQ 15.875 39.890625 15.1875 32.171875 \nz\n\" id=\"DejaVuSans-101\"/>\n       <path id=\"DejaVuSans-32\"/>\n       <path d=\"M 19.671875 64.796875 \nL 19.671875 8.109375 \nL 31.59375 8.109375 \nQ 46.6875 8.109375 53.6875 14.9375 \nQ 60.6875 21.78125 60.6875 36.53125 \nQ 60.6875 51.171875 53.6875 57.984375 \nQ 46.6875 64.796875 31.59375 64.796875 \nz\nM 9.8125 72.90625 \nL 30.078125 72.90625 \nQ 51.265625 72.90625 61.171875 64.09375 \nQ 71.09375 55.28125 71.09375 36.53125 \nQ 71.09375 17.671875 61.125 8.828125 \nQ 51.171875 0 30.078125 0 \nL 9.8125 0 \nz\n\" id=\"DejaVuSans-68\"/>\n       <path d=\"M 18.3125 70.21875 \nL 18.3125 54.6875 \nL 36.8125 54.6875 \nL 36.8125 47.703125 \nL 18.3125 47.703125 \nL 18.3125 18.015625 \nQ 18.3125 11.328125 20.140625 9.421875 \nQ 21.96875 7.515625 27.59375 7.515625 \nL 36.8125 7.515625 \nL 36.8125 0 \nL 27.59375 0 \nQ 17.1875 0 13.234375 3.875 \nQ 9.28125 7.765625 9.28125 18.015625 \nL 9.28125 47.703125 \nL 2.6875 47.703125 \nL 2.6875 54.6875 \nL 9.28125 54.6875 \nL 9.28125 70.21875 \nz\n\" id=\"DejaVuSans-116\"/>\n       <path d=\"M 34.28125 27.484375 \nQ 23.390625 27.484375 19.1875 25 \nQ 14.984375 22.515625 14.984375 16.5 \nQ 14.984375 11.71875 18.140625 8.90625 \nQ 21.296875 6.109375 26.703125 6.109375 \nQ 34.1875 6.109375 38.703125 11.40625 \nQ 43.21875 16.703125 43.21875 25.484375 \nL 43.21875 27.484375 \nz\nM 52.203125 31.203125 \nL 52.203125 0 \nL 43.21875 0 \nL 43.21875 8.296875 \nQ 40.140625 3.328125 35.546875 0.953125 \nQ 30.953125 -1.421875 24.3125 -1.421875 \nQ 15.921875 -1.421875 10.953125 3.296875 \nQ 6 8.015625 6 15.921875 \nQ 6 25.140625 12.171875 29.828125 \nQ 18.359375 34.515625 30.609375 34.515625 \nL 43.21875 34.515625 \nL 43.21875 35.40625 \nQ 43.21875 41.609375 39.140625 45 \nQ 35.0625 48.390625 27.6875 48.390625 \nQ 23 48.390625 18.546875 47.265625 \nQ 14.109375 46.140625 10.015625 43.890625 \nL 10.015625 52.203125 \nQ 14.9375 54.109375 19.578125 55.046875 \nQ 24.21875 56 28.609375 56 \nQ 40.484375 56 46.34375 49.84375 \nQ 52.203125 43.703125 52.203125 31.203125 \nz\n\" id=\"DejaVuSans-97\"/>\n       <path d=\"M 48.78125 52.59375 \nL 48.78125 44.1875 \nQ 44.96875 46.296875 41.140625 47.34375 \nQ 37.3125 48.390625 33.40625 48.390625 \nQ 24.65625 48.390625 19.8125 42.84375 \nQ 14.984375 37.3125 14.984375 27.296875 \nQ 14.984375 17.28125 19.8125 11.734375 \nQ 24.65625 6.203125 33.40625 6.203125 \nQ 37.3125 6.203125 41.140625 7.25 \nQ 44.96875 8.296875 48.78125 10.40625 \nL 48.78125 2.09375 \nQ 45.015625 0.34375 40.984375 -0.53125 \nQ 36.96875 -1.421875 32.421875 -1.421875 \nQ 20.0625 -1.421875 12.78125 6.34375 \nQ 5.515625 14.109375 5.515625 27.296875 \nQ 5.515625 40.671875 12.859375 48.328125 \nQ 20.21875 56 33.015625 56 \nQ 37.15625 56 41.109375 55.140625 \nQ 45.0625 54.296875 48.78125 52.59375 \nz\n\" id=\"DejaVuSans-99\"/>\n      </defs>\n      <use xlink:href=\"#DejaVuSans-67\"/>\n      <use x=\"69.824219\" xlink:href=\"#DejaVuSans-111\"/>\n      <use x=\"131.005859\" xlink:href=\"#DejaVuSans-115\"/>\n      <use x=\"183.105469\" xlink:href=\"#DejaVuSans-105\"/>\n      <use x=\"210.888672\" xlink:href=\"#DejaVuSans-110\"/>\n      <use x=\"274.267578\" xlink:href=\"#DejaVuSans-101\"/>\n      <use x=\"335.791016\" xlink:href=\"#DejaVuSans-32\"/>\n      <use x=\"367.578125\" xlink:href=\"#DejaVuSans-68\"/>\n      <use x=\"444.580078\" xlink:href=\"#DejaVuSans-105\"/>\n      <use x=\"472.363281\" xlink:href=\"#DejaVuSans-115\"/>\n      <use x=\"524.462891\" xlink:href=\"#DejaVuSans-116\"/>\n      <use x=\"563.671875\" xlink:href=\"#DejaVuSans-97\"/>\n      <use x=\"624.951172\" xlink:href=\"#DejaVuSans-110\"/>\n      <use x=\"688.330078\" xlink:href=\"#DejaVuSans-99\"/>\n      <use x=\"743.310547\" xlink:href=\"#DejaVuSans-101\"/>\n     </g>\n    </g>\n   </g>\n   <g id=\"matplotlib.axis_2\">\n    <g id=\"ytick_1\">\n     <g id=\"line2d_8\">\n      <defs>\n       <path d=\"M 0 0 \nL -3.5 0 \n\" id=\"m41db48827f\" style=\"stroke:#000000;stroke-width:0.8;\"/>\n      </defs>\n      <g>\n       <use style=\"stroke:#000000;stroke-width:0.8;\" x=\"59.690625\" xlink:href=\"#m41db48827f\" y=\"243.24375\"/>\n      </g>\n     </g>\n     <g id=\"text_9\">\n      <!-- 0 -->\n      <g transform=\"translate(46.328125 247.042969)scale(0.1 -0.1)\">\n       <use xlink:href=\"#DejaVuSans-48\"/>\n      </g>\n     </g>\n    </g>\n    <g id=\"ytick_2\">\n     <g id=\"line2d_9\">\n      <g>\n       <use style=\"stroke:#000000;stroke-width:0.8;\" x=\"59.690625\" xlink:href=\"#m41db48827f\" y=\"209.398021\"/>\n      </g>\n     </g>\n     <g id=\"text_10\">\n      <!-- 5000 -->\n      <g transform=\"translate(27.240625 213.19724)scale(0.1 -0.1)\">\n       <defs>\n        <path d=\"M 10.796875 72.90625 \nL 49.515625 72.90625 \nL 49.515625 64.59375 \nL 19.828125 64.59375 \nL 19.828125 46.734375 \nQ 21.96875 47.46875 24.109375 47.828125 \nQ 26.265625 48.1875 28.421875 48.1875 \nQ 40.625 48.1875 47.75 41.5 \nQ 54.890625 34.8125 54.890625 23.390625 \nQ 54.890625 11.625 47.5625 5.09375 \nQ 40.234375 -1.421875 26.90625 -1.421875 \nQ 22.3125 -1.421875 17.546875 -0.640625 \nQ 12.796875 0.140625 7.71875 1.703125 \nL 7.71875 11.625 \nQ 12.109375 9.234375 16.796875 8.0625 \nQ 21.484375 6.890625 26.703125 6.890625 \nQ 35.15625 6.890625 40.078125 11.328125 \nQ 45.015625 15.765625 45.015625 23.390625 \nQ 45.015625 31 40.078125 35.4375 \nQ 35.15625 39.890625 26.703125 39.890625 \nQ 22.75 39.890625 18.8125 39.015625 \nQ 14.890625 38.140625 10.796875 36.28125 \nz\n\" id=\"DejaVuSans-53\"/>\n       </defs>\n       <use xlink:href=\"#DejaVuSans-53\"/>\n       <use x=\"63.623047\" xlink:href=\"#DejaVuSans-48\"/>\n       <use x=\"127.246094\" xlink:href=\"#DejaVuSans-48\"/>\n       <use x=\"190.869141\" xlink:href=\"#DejaVuSans-48\"/>\n      </g>\n     </g>\n    </g>\n    <g id=\"ytick_3\">\n     <g id=\"line2d_10\">\n      <g>\n       <use style=\"stroke:#000000;stroke-width:0.8;\" x=\"59.690625\" xlink:href=\"#m41db48827f\" y=\"175.552293\"/>\n      </g>\n     </g>\n     <g id=\"text_11\">\n      <!-- 10000 -->\n      <g transform=\"translate(20.878125 179.351511)scale(0.1 -0.1)\">\n       <use xlink:href=\"#DejaVuSans-49\"/>\n       <use x=\"63.623047\" xlink:href=\"#DejaVuSans-48\"/>\n       <use x=\"127.246094\" xlink:href=\"#DejaVuSans-48\"/>\n       <use x=\"190.869141\" xlink:href=\"#DejaVuSans-48\"/>\n       <use x=\"254.492188\" xlink:href=\"#DejaVuSans-48\"/>\n      </g>\n     </g>\n    </g>\n    <g id=\"ytick_4\">\n     <g id=\"line2d_11\">\n      <g>\n       <use style=\"stroke:#000000;stroke-width:0.8;\" x=\"59.690625\" xlink:href=\"#m41db48827f\" y=\"141.706564\"/>\n      </g>\n     </g>\n     <g id=\"text_12\">\n      <!-- 15000 -->\n      <g transform=\"translate(20.878125 145.505783)scale(0.1 -0.1)\">\n       <use xlink:href=\"#DejaVuSans-49\"/>\n       <use x=\"63.623047\" xlink:href=\"#DejaVuSans-53\"/>\n       <use x=\"127.246094\" xlink:href=\"#DejaVuSans-48\"/>\n       <use x=\"190.869141\" xlink:href=\"#DejaVuSans-48\"/>\n       <use x=\"254.492188\" xlink:href=\"#DejaVuSans-48\"/>\n      </g>\n     </g>\n    </g>\n    <g id=\"ytick_5\">\n     <g id=\"line2d_12\">\n      <g>\n       <use style=\"stroke:#000000;stroke-width:0.8;\" x=\"59.690625\" xlink:href=\"#m41db48827f\" y=\"107.860835\"/>\n      </g>\n     </g>\n     <g id=\"text_13\">\n      <!-- 20000 -->\n      <g transform=\"translate(20.878125 111.660054)scale(0.1 -0.1)\">\n       <use xlink:href=\"#DejaVuSans-50\"/>\n       <use x=\"63.623047\" xlink:href=\"#DejaVuSans-48\"/>\n       <use x=\"127.246094\" xlink:href=\"#DejaVuSans-48\"/>\n       <use x=\"190.869141\" xlink:href=\"#DejaVuSans-48\"/>\n       <use x=\"254.492188\" xlink:href=\"#DejaVuSans-48\"/>\n      </g>\n     </g>\n    </g>\n    <g id=\"ytick_6\">\n     <g id=\"line2d_13\">\n      <g>\n       <use style=\"stroke:#000000;stroke-width:0.8;\" x=\"59.690625\" xlink:href=\"#m41db48827f\" y=\"74.015106\"/>\n      </g>\n     </g>\n     <g id=\"text_14\">\n      <!-- 25000 -->\n      <g transform=\"translate(20.878125 77.814325)scale(0.1 -0.1)\">\n       <use xlink:href=\"#DejaVuSans-50\"/>\n       <use x=\"63.623047\" xlink:href=\"#DejaVuSans-53\"/>\n       <use x=\"127.246094\" xlink:href=\"#DejaVuSans-48\"/>\n       <use x=\"190.869141\" xlink:href=\"#DejaVuSans-48\"/>\n       <use x=\"254.492188\" xlink:href=\"#DejaVuSans-48\"/>\n      </g>\n     </g>\n    </g>\n    <g id=\"ytick_7\">\n     <g id=\"line2d_14\">\n      <g>\n       <use style=\"stroke:#000000;stroke-width:0.8;\" x=\"59.690625\" xlink:href=\"#m41db48827f\" y=\"40.169378\"/>\n      </g>\n     </g>\n     <g id=\"text_15\">\n      <!-- 30000 -->\n      <g transform=\"translate(20.878125 43.968596)scale(0.1 -0.1)\">\n       <defs>\n        <path d=\"M 40.578125 39.3125 \nQ 47.65625 37.796875 51.625 33 \nQ 55.609375 28.21875 55.609375 21.1875 \nQ 55.609375 10.40625 48.1875 4.484375 \nQ 40.765625 -1.421875 27.09375 -1.421875 \nQ 22.515625 -1.421875 17.65625 -0.515625 \nQ 12.796875 0.390625 7.625 2.203125 \nL 7.625 11.71875 \nQ 11.71875 9.328125 16.59375 8.109375 \nQ 21.484375 6.890625 26.8125 6.890625 \nQ 36.078125 6.890625 40.9375 10.546875 \nQ 45.796875 14.203125 45.796875 21.1875 \nQ 45.796875 27.640625 41.28125 31.265625 \nQ 36.765625 34.90625 28.71875 34.90625 \nL 20.21875 34.90625 \nL 20.21875 43.015625 \nL 29.109375 43.015625 \nQ 36.375 43.015625 40.234375 45.921875 \nQ 44.09375 48.828125 44.09375 54.296875 \nQ 44.09375 59.90625 40.109375 62.90625 \nQ 36.140625 65.921875 28.71875 65.921875 \nQ 24.65625 65.921875 20.015625 65.03125 \nQ 15.375 64.15625 9.8125 62.3125 \nL 9.8125 71.09375 \nQ 15.4375 72.65625 20.34375 73.4375 \nQ 25.25 74.21875 29.59375 74.21875 \nQ 40.828125 74.21875 47.359375 69.109375 \nQ 53.90625 64.015625 53.90625 55.328125 \nQ 53.90625 49.265625 50.4375 45.09375 \nQ 46.96875 40.921875 40.578125 39.3125 \nz\n\" id=\"DejaVuSans-51\"/>\n       </defs>\n       <use xlink:href=\"#DejaVuSans-51\"/>\n       <use x=\"63.623047\" xlink:href=\"#DejaVuSans-48\"/>\n       <use x=\"127.246094\" xlink:href=\"#DejaVuSans-48\"/>\n       <use x=\"190.869141\" xlink:href=\"#DejaVuSans-48\"/>\n       <use x=\"254.492188\" xlink:href=\"#DejaVuSans-48\"/>\n      </g>\n     </g>\n    </g>\n    <g id=\"text_16\">\n     <!-- Count -->\n     <g transform=\"translate(14.798438 147.629375)rotate(-90)scale(0.1 -0.1)\">\n      <defs>\n       <path d=\"M 8.5 21.578125 \nL 8.5 54.6875 \nL 17.484375 54.6875 \nL 17.484375 21.921875 \nQ 17.484375 14.15625 20.5 10.265625 \nQ 23.53125 6.390625 29.59375 6.390625 \nQ 36.859375 6.390625 41.078125 11.03125 \nQ 45.3125 15.671875 45.3125 23.6875 \nL 45.3125 54.6875 \nL 54.296875 54.6875 \nL 54.296875 0 \nL 45.3125 0 \nL 45.3125 8.40625 \nQ 42.046875 3.421875 37.71875 1 \nQ 33.40625 -1.421875 27.6875 -1.421875 \nQ 18.265625 -1.421875 13.375 4.4375 \nQ 8.5 10.296875 8.5 21.578125 \nz\nM 31.109375 56 \nz\n\" id=\"DejaVuSans-117\"/>\n      </defs>\n      <use xlink:href=\"#DejaVuSans-67\"/>\n      <use x=\"69.824219\" xlink:href=\"#DejaVuSans-111\"/>\n      <use x=\"131.005859\" xlink:href=\"#DejaVuSans-117\"/>\n      <use x=\"194.384766\" xlink:href=\"#DejaVuSans-110\"/>\n      <use x=\"257.763672\" xlink:href=\"#DejaVuSans-116\"/>\n     </g>\n    </g>\n   </g>\n   <g id=\"line2d_15\">\n    <path clip-path=\"url(#p831763b422)\" d=\"M 82.504688 243.24375 \nL 100.847652 243.141656 \nL 110.019135 242.886664 \nL 116.897747 242.432339 \nL 121.483488 241.821004 \nL 123.776358 241.343818 \nL 126.069229 240.708703 \nL 128.3621 239.881607 \nL 130.65497 238.827878 \nL 132.947841 237.511 \nL 135.240711 235.890985 \nL 137.533582 233.924486 \nL 139.826453 231.569133 \nL 142.119323 228.793599 \nL 144.412194 225.587903 \nL 146.705064 221.96166 \nL 148.997935 217.928065 \nL 151.290806 213.491157 \nL 153.583676 208.652605 \nL 155.876547 203.428831 \nL 158.169417 197.857353 \nL 162.755159 185.893213 \nL 171.926641 160.593618 \nL 178.805253 141.886534 \nL 183.390994 129.942146 \nL 187.976735 118.570869 \nL 192.562476 108.021885 \nL 197.148218 98.462437 \nL 201.733959 89.897039 \nL 206.3197 82.208363 \nL 210.905441 75.332272 \nL 215.491182 69.188032 \nL 220.076924 63.710926 \nL 222.369794 61.248736 \nL 224.662665 58.989513 \nL 226.955535 56.931 \nL 229.248406 55.054923 \nL 231.541277 53.337778 \nL 236.127018 50.308715 \nL 240.712759 47.710027 \nL 245.2985 45.43681 \nL 249.884242 43.480457 \nL 254.469983 41.811349 \nL 259.055724 40.390509 \nL 263.641465 39.204106 \nL 268.227206 38.21758 \nL 275.105818 37.022537 \nL 281.98443 36.121649 \nL 288.863042 35.465415 \nL 298.034524 34.795006 \nL 307.206007 34.29885 \nL 318.67036 33.918847 \nL 339.306195 33.588111 \nL 359.94203 33.450328 \nL 369.113513 33.337845 \nL 382.870736 32.915497 \nL 428.728149 32.856884 \nL 531.907326 32.848436 \nL 538.785937 32.845469 \nL 538.785937 32.845469 \n\" style=\"fill:none;stroke:#1f77b4;stroke-linecap:square;stroke-width:1.5;\"/>\n   </g>\n   <g id=\"patch_23\">\n    <path d=\"M 59.690625 243.24375 \nL 59.690625 22.318125 \n\" style=\"fill:none;stroke:#000000;stroke-linecap:square;stroke-linejoin:miter;stroke-width:0.8;\"/>\n   </g>\n   <g id=\"patch_24\">\n    <path d=\"M 561.6 243.24375 \nL 561.6 22.318125 \n\" style=\"fill:none;stroke:#000000;stroke-linecap:square;stroke-linejoin:miter;stroke-width:0.8;\"/>\n   </g>\n   <g id=\"patch_25\">\n    <path d=\"M 59.690625 243.24375 \nL 561.6 243.24375 \n\" style=\"fill:none;stroke:#000000;stroke-linecap:square;stroke-linejoin:miter;stroke-width:0.8;\"/>\n   </g>\n   <g id=\"patch_26\">\n    <path d=\"M 59.690625 22.318125 \nL 561.6 22.318125 \n\" style=\"fill:none;stroke:#000000;stroke-linecap:square;stroke-linejoin:miter;stroke-width:0.8;\"/>\n   </g>\n   <g id=\"text_17\">\n    <!-- Cumulative Count -->\n    <g transform=\"translate(256.675312 16.318125)scale(0.12 -0.12)\">\n     <defs>\n      <path d=\"M 52 44.1875 \nQ 55.375 50.25 60.0625 53.125 \nQ 64.75 56 71.09375 56 \nQ 79.640625 56 84.28125 50.015625 \nQ 88.921875 44.046875 88.921875 33.015625 \nL 88.921875 0 \nL 79.890625 0 \nL 79.890625 32.71875 \nQ 79.890625 40.578125 77.09375 44.375 \nQ 74.3125 48.1875 68.609375 48.1875 \nQ 61.625 48.1875 57.5625 43.546875 \nQ 53.515625 38.921875 53.515625 30.90625 \nL 53.515625 0 \nL 44.484375 0 \nL 44.484375 32.71875 \nQ 44.484375 40.625 41.703125 44.40625 \nQ 38.921875 48.1875 33.109375 48.1875 \nQ 26.21875 48.1875 22.15625 43.53125 \nQ 18.109375 38.875 18.109375 30.90625 \nL 18.109375 0 \nL 9.078125 0 \nL 9.078125 54.6875 \nL 18.109375 54.6875 \nL 18.109375 46.1875 \nQ 21.1875 51.21875 25.484375 53.609375 \nQ 29.78125 56 35.6875 56 \nQ 41.65625 56 45.828125 52.96875 \nQ 50 49.953125 52 44.1875 \nz\n\" id=\"DejaVuSans-109\"/>\n      <path d=\"M 9.421875 75.984375 \nL 18.40625 75.984375 \nL 18.40625 0 \nL 9.421875 0 \nz\n\" id=\"DejaVuSans-108\"/>\n      <path d=\"M 2.984375 54.6875 \nL 12.5 54.6875 \nL 29.59375 8.796875 \nL 46.6875 54.6875 \nL 56.203125 54.6875 \nL 35.6875 0 \nL 23.484375 0 \nz\n\" id=\"DejaVuSans-118\"/>\n     </defs>\n     <use xlink:href=\"#DejaVuSans-67\"/>\n     <use x=\"69.824219\" xlink:href=\"#DejaVuSans-117\"/>\n     <use x=\"133.203125\" xlink:href=\"#DejaVuSans-109\"/>\n     <use x=\"230.615234\" xlink:href=\"#DejaVuSans-117\"/>\n     <use x=\"293.994141\" xlink:href=\"#DejaVuSans-108\"/>\n     <use x=\"321.777344\" xlink:href=\"#DejaVuSans-97\"/>\n     <use x=\"383.056641\" xlink:href=\"#DejaVuSans-116\"/>\n     <use x=\"422.265625\" xlink:href=\"#DejaVuSans-105\"/>\n     <use x=\"450.048828\" xlink:href=\"#DejaVuSans-118\"/>\n     <use x=\"509.228516\" xlink:href=\"#DejaVuSans-101\"/>\n     <use x=\"570.751953\" xlink:href=\"#DejaVuSans-32\"/>\n     <use x=\"602.539062\" xlink:href=\"#DejaVuSans-67\"/>\n     <use x=\"672.363281\" xlink:href=\"#DejaVuSans-111\"/>\n     <use x=\"733.544922\" xlink:href=\"#DejaVuSans-117\"/>\n     <use x=\"796.923828\" xlink:href=\"#DejaVuSans-110\"/>\n     <use x=\"860.302734\" xlink:href=\"#DejaVuSans-116\"/>\n    </g>\n   </g>\n  </g>\n </g>\n <defs>\n  <clipPath id=\"p831763b422\">\n   <rect height=\"220.925625\" width=\"501.909375\" x=\"59.690625\" y=\"22.318125\"/>\n  </clipPath>\n </defs>\n</svg>\n",
      "image/png": "[encoded data removed]"
     },
     "metadata": {
      "needs_background": "light"
     }
    }
   ],
   "source": [
    "plt.figure(figsize=(8,4), tight_layout=True)\n",
    "ax = sns.histplot(cos_dis, cumulative=True, bins=20, kde=True)\n",
    "ax.set(title=\"Cumulative Count\", xlabel=\"Cosine Distance\", ylabel=\"Count\")\n",
    "plt.show()"
   ]
  },
  {
   "cell_type": "code",
   "execution_count": null,
   "metadata": {},
   "outputs": [],
   "source": []
  }
 ]
}