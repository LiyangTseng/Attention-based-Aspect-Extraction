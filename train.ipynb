{
 "cells": [
  {
   "cell_type": "code",
   "execution_count": 24,
   "metadata": {},
   "outputs": [
    {
     "name": "stdout",
     "output_type": "stream",
     "text": [
      "The autoreload extension is already loaded. To reload it, use:\n",
      "  %reload_ext autoreload\n"
     ]
    }
   ],
   "source": [
    "%load_ext autoreload\n",
    "%autoreload 2"
   ]
  },
  {
   "cell_type": "code",
   "execution_count": 25,
   "metadata": {},
   "outputs": [],
   "source": [
    "import warnings\n",
    "warnings.filterwarnings(\"ignore\")\n",
    "import numpy as np\n",
    "import pandas as pd\n",
    "import seaborn as sns\n",
    "import matplotlib.pyplot as plt\n",
    "from tqdm.notebook import tqdm\n",
    "\n",
    "\n",
    "import torch\n",
    "from torch.autograd import Variable\n",
    "from torch.utils.data import DataLoader\n",
    "\n",
    "from flair.data import Sentence\n",
    "from flair.embeddings import WordEmbeddings\n",
    "\n",
    "from sklearn.cluster import KMeans\n",
    "from sklearn.metrics.pairwise import cosine_similarity, cosine_distances, euclidean_distances\n",
    "\n",
    "from gensim.models import KeyedVectors, word2vec\n",
    "\n",
    "from dataset import BibleDataset, custom_collate_fn\n",
    "from model import AspectAutoencoder\n",
    "from loss import TripletMarginCosineLoss, OrthogonalityLoss\n",
    "from train_wv import get_wv"
   ]
  },
  {
   "cell_type": "code",
   "execution_count": 26,
   "metadata": {},
   "outputs": [],
   "source": [
    "import nltk\n",
    "home_path = os.path.expanduser('~')\n",
    "if not os.path.exists(os.path.join(home_path, 'nltk_data/corpora/stopwords')):\n",
    "    nltk.download('stopwords')"
   ]
  },
  {
   "cell_type": "code",
   "execution_count": 27,
   "metadata": {},
   "outputs": [],
   "source": [
    "dataset = BibleDataset(\"./t_kjv.csv\", word_to_index=True)\n",
    "dataloader = DataLoader(dataset, batch_size=50, shuffle=True, collate_fn=custom_collate_fn)"
   ]
  },
  {
   "cell_type": "code",
   "execution_count": 28,
   "metadata": {},
   "outputs": [],
   "source": [
    "verses = [verse_tuple[0] for verse_tuple in dataset]"
   ]
  },
  {
   "cell_type": "code",
   "execution_count": 29,
   "metadata": {},
   "outputs": [],
   "source": [
    "bible_kjv_sents = []\n",
    "for verse in verses:\n",
    "    verse_list = [dataset.id2word[verse_idx] for verse_idx in verse]\n",
    "    bible_kjv_sents.append(verse_list)"
   ]
  },
  {
   "cell_type": "code",
   "execution_count": 30,
   "metadata": {},
   "outputs": [
    {
     "name": "stdout",
     "output_type": "stream",
     "text": [
      "Loading pretrained bible embeddings from w2v/bible_word2vec_org ...\n"
     ]
    }
   ],
   "source": [
    "bible_wv = get_wv(bible_kjv_sents)"
   ]
  },
  {
   "cell_type": "code",
   "execution_count": 31,
   "metadata": {},
   "outputs": [
    {
     "data": {
      "text/plain": [
       "(200,)"
      ]
     },
     "execution_count": 31,
     "metadata": {},
     "output_type": "execute_result"
    }
   ],
   "source": [
    "bible_wv['jesus'].shape"
   ]
  },
  {
   "cell_type": "code",
   "execution_count": 32,
   "metadata": {
    "tags": []
   },
   "outputs": [
    {
     "data": {
      "application/vnd.jupyter.widget-view+json": {
       "model_id": "ea8c6ac7e6aa4c29891c4691f69e0b11",
       "version_major": 2,
       "version_minor": 0
      },
      "text/plain": [
       "HBox(children=(HTML(value=''), FloatProgress(value=0.0, max=12530.0), HTML(value='')))"
      ]
     },
     "metadata": {},
     "output_type": "display_data"
    },
    {
     "name": "stdout",
     "output_type": "stream",
     "text": [
      "\n"
     ]
    }
   ],
   "source": [
    "\"\"\" Generate Word Vectors for a Given Dataset \"\"\"\n",
    "\n",
    "embed_size = bible_wv.vector_size\n",
    "vocab_size = len(dataset.word2id.keys())\n",
    "wv = KeyedVectors(vector_size=embed_size)\n",
    "\n",
    "embeddings = torch.empty(vocab_size, embed_size)\n",
    "\n",
    "for word, id in tqdm(dataset.word2id.items()):\n",
    "    embeddings[id] = torch.from_numpy(bible_wv[word]).to(embeddings)\n",
    "\n"
   ]
  },
  {
   "cell_type": "code",
   "execution_count": 33,
   "metadata": {},
   "outputs": [
    {
     "name": "stdout",
     "output_type": "stream",
     "text": [
      "Initial aspects via K means:\n",
      "Aspect 01:  ['trespassed', 'transgressed', 'provoke', 'committed', 'provoked', 'stronger', 'despised', 'reproach', 'rebelled', 'forsaken']\n",
      "Aspect 02:  ['hod', 'pharah', 'remeth', 'shilshah', 'beera', 'shamma', 'avim', 'taralah', 'bethpazzez', 'enhaddah']\n",
      "Aspect 03:  ['asswaged', 'asswage', 'witchcraft', 'strifes', 'wraths', 'answers', 'proclaimeth', 'gender', 'subverted', 'feebleminded']\n",
      "Aspect 04:  ['sheweth', 'saviour', 'longsuffering', 'kindness', 'gentleness', 'goodness', 'glorious', 'unrighteousness', 'mercies', 'salvation']\n",
      "Aspect 05:  ['spoons', 'overlaid', 'hooks', 'dishes', 'fillets', 'skins', 'knops', \"badgers'\", 'filleted', 'bowls']\n",
      "Aspect 06:  ['rebekah', 'rizpah', 'aiah', 'tamar', 'wife', 'naomi', 'companion', 'conceived', 'abigail', 'azubah']\n",
      "Aspect 07:  ['perform', 'worldly', 'hallow', 'accept', 'observe', 'verity', 'ignorance', 'sabbaths', 'confirmation', 'acceptable']\n",
      "Aspect 08:  ['clouds', 'hills', 'descended', 'heavens', 'waves', 'channels', 'top', 'clefts', 'rocks', 'ends']\n",
      "Aspect 09:  ['sopater', 'lucius', 'secundus', 'workfellow', 'sosipater', 'consorted', \"augustus'\", 'libertines', 'cyrenians', 'alexandrians']\n",
      "Aspect 10:  ['morrow', 'season', 'passover', 'latter', 'feast', 'past', 'time', 'year', 'since', 'eighth']\n",
      "Aspect 11:  ['dost', 'mightest', 'wilt', 'mayest', 'wouldest', 'knowest', 'wast', 'didst', 'hadst', 'sayest']\n",
      "Aspect 12:  ['nahath', 'shimri', 'joha', 'shamer', 'asaiah', 'abihud', 'beri', 'addar', 'suah', 'harnepher']\n",
      "Aspect 13:  ['thirtieth', 'evilmerodach', 'year', 'months', 'twentieth', 'month', 'eighteenth', 'eighth', 'years', 'seventh']\n",
      "Aspect 14:  ['plant', 'vineyards', 'fields', 'vine', 'planted', 'increase', 'grape', 'reap', 'fruitful', 'yield']\n",
      "Aspect 15:  ['burning', 'quenched', 'coals', 'kindle', 'flame', 'brimstone', 'consumeth', 'burneth', 'burn', 'burned']\n",
      "Aspect 16:  ['michmash', 'ashdothpisgah', 'bethjeshimoth', 'zemaraim', 'bethpeor', 'betharabah', 'ataroth', 'achshaph', 'hali', 'helkath']\n",
      "Aspect 17:  ['ammihud', 'ahiezer', 'shelumiel', 'pedahzur', 'abidan', 'gideoni', 'joel', 'jezaniah', 'ahira', 'pagiel']\n",
      "Aspect 18:  ['overflowing', 'stormy', 'whirlwind', 'colour', 'spreadeth', 'leaf', 'fountains', 'sprung', 'scattereth', 'storm']\n",
      "Aspect 19:  ['sea', 'calm', 'red', 'waves', 'winds', 'shore', 'isles', 'channels', 'drowned', 'rowing']\n",
      "Aspect 20:  ['letter', 'darius', 'shimshai', 'copy', 'chancellor', 'rabshakeh', 'writing', 'read', 'wrote', 'meshach']\n",
      "Aspect 21:  ['hundred', 'thousand', 'cubits', 'shilhim', 'lebaoth', 'twenty', 'ninety', 'thickness', 'fourscore', 'bullocks']\n",
      "Aspect 22:  ['pedahel', 'zebulunites', 'shuhamites', 'shiloni', 'asherites', 'shuham', 'masrekah', 'dimnah', 'kibzaim', 'resen']\n",
      "Aspect 23:  ['sacrifices', 'offerings', 'sacrifice', 'offer', 'sacrificed', 'offering', 'offered', 'oblations', 'burnt', 'incense']\n",
      "Aspect 24:  ['robe', 'breeches', 'purple', 'girded', 'blue', 'girdle', 'towel', 'girdles', 'hem', 'bonnets']\n",
      "Aspect 25:  ['understanding', 'reproof', 'instruction', 'brutish', 'knowledge', 'prudent', 'wise', 'wisdom', 'fool', 'fools']\n",
      "Aspect 26:  ['high', 'potipherah', 'lurking', 'thankfulness', 'melchisedec', 'noble', 'boiling', 'pestilences', 'famines', 'subdueth']\n",
      "Aspect 27:  ['posts', 'inner', 'door', 'setting', 'keepers', 'porch', 'doors', 'veil', 'street', 'bigthan']\n",
      "Aspect 28:  ['dishes', 'greaves', 'frying', 'headbands', \"badgers'\", 'galbanum', \"potters'\", 'silk', 'embroiderer', 'deer']\n",
      "Aspect 29:  ['wild', 'hoof', 'cheweth', 'pygarg', 'cud', 'firstlings', 'dined', 'cotes', 'unsavoury', 'provideth']\n",
      "Aspect 30:  ['jerusalem', 'gilgal', 'cities', 'babylon', 'chimham', 'samaria', 'dwellers', 'whither', 'brethren', 'hezekiah']\n",
      "Aspect 31:  ['twenty', 'eight', 'fourscore', 'fifteen', 'six', 'nine', 'threescore', 'seventeen', 'eighteen', 'fourteen']\n",
      "Aspect 32:  ['destruction', 'enemy', 'enemies', 'adversaries', 'suddenly', 'bowels', 'grave', 'trouble', 'fury', 'moment']\n",
      "Aspect 33:  ['city', 'place', 'shebarim', 'village', 'wall', 'gate', 'town', 'walls', 'millo', 'palace']\n",
      "Aspect 34:  ['flagon', 'baked', 'sodden', 'milk', 'cakes', 'drank', 'hungry', 'morsel', 'unleavened', 'kneaded']\n",
      "Aspect 35:  ['aziel', 'mattenai', 'uzzi', 'shemiramoth', 'bani', 'hanan', 'hattush', 'mikneiah', 'asaiah', 'adaiah']\n",
      "Aspect 36:  ['glorify', 'magnify', 'nay', 'prosper', 'beseech', 'confess', 'require', 'tell', 'repent', 'pray']\n",
      "Aspect 37:  ['shout', 'skilfully', 'trumpet', 'trumpets', 'cymbals', 'sang', 'shouting', 'sound', 'shouted', 'flute']\n",
      "Aspect 38:  ['rather', 'diviners', 'gender', 'reprove', 'beware', 'questions', 'perverse', 'wrong', 'mischievous', 'envieth']\n",
      "Aspect 39:  ['amalekites', 'hamath', 'hittites', 'ammonites', 'overtook', 'geshurites', 'amorites', 'cappadocia', 'coast', 'coasts']\n",
      "Aspect 40:  ['ran', 'followed', 'arose', 'sat', 'hasted', 'met', 'kissed', 'passed', 'saw', 'stood']\n",
      "Aspect 41:  ['word', 'belief', 'commandment', 'protested', 'circuits', 'prophet', 'gospel', 'messenger', 'spake', 'repentance']\n",
      "Aspect 42:  ['hateth', 'killeth', 'preserveth', 'suretiship', 'whoso', 'pervert', 'person', 'loveth', 'smart', 'robbery']\n",
      "Aspect 43:  ['disciples', 'sailing', 'hall', 'multitudes', 'boats', 'sadducees', 'dangerous', 'pharisees', 'commendeth', 'loaves']\n",
      "Aspect 44:  ['helkath', 'zaanannim', 'nimrah', 'mejarkon', 'nekeb', 'japhleti', 'ashdothpisgah', 'japho', 'adami', 'achshaph']\n",
      "Aspect 45:  ['shuhamites', 'mahali', 'azzan', 'shuham', 'masrekah', 'purses', 'pedahel', 'dimnah', 'sheber', 'hukok']\n",
      "Aspect 46:  ['statutes', 'wickedly', 'doings', 'ways', 'commandments', 'judgments', 'conscience', 'paths', 'laws', 'lewdness']\n",
      "Aspect 47:  ['done', 'sith', 'befallen', 'declared', 'shewed', 'rewarded', 'repented', 'wonderful', 'dealt', 'hurting']\n",
      "Aspect 48:  ['escape', 'depart', 'flee', 'bring', 'get', 'send', 'enter', 'go', 'abide', 'return']\n",
      "Aspect 49:  ['begat', 'obed', 'booz', 'ludim', 'shua', 'lehabim', 'naphtuhim', 'arphaxad', 'hotham', 'anamim']\n",
      "Aspect 50:  ['secundus', 'sopater', 'workfellow', 'sosipater', 'andronicus', 'aristarchus', 'junia', 'lucius', 'fellowlabourers', 'communicated']\n"
     ]
    }
   ],
   "source": [
    "\"\"\" Find K aspects in a Given Dataset using K-Means \"\"\"\n",
    "\n",
    "n_clusters = 30\n",
    "kmeans = KMeans(n_clusters=n_clusters, random_state=0).fit(bible_wv.vectors)\n",
    "centers = kmeans.cluster_centers_\n",
    "print('Initial aspects via K means:')\n",
    "for i in range(n_clusters):\n",
    "    print('Aspect {:02}: '.format(i+1), [word for word, _ in bible_wv.similar_by_vector(centers[i])])"
   ]
  },
  {
   "cell_type": "code",
   "execution_count": 34,
   "metadata": {},
   "outputs": [],
   "source": [
    "def coverage(data, dist=\"cosine\"):\n",
    "    if dist == \"cosine\":\n",
    "        mins = (cosine_distances(data) + np.eye(len(data)) * 1e5).min(axis=1)\n",
    "    elif dist == \"euclidean\":\n",
    "        mins = (euclidean_distances(data) + np.eye(len(data)) * 1e5).min(axis=1)\n",
    "    return np.square(np.var(mins)) / mins.mean()"
   ]
  },
  {
   "cell_type": "code",
   "execution_count": 35,
   "metadata": {},
   "outputs": [],
   "source": [
    "w_emb = torch.from_numpy(bible_wv.vectors)\n",
    "a_emb = torch.from_numpy(centers)\n",
    "seed_w = None\n",
    "num_seeds = None\n",
    "lr = 0.005\n",
    "epochs = 50\n",
    "min_len = 1\n",
    "l = 0.1\n",
    "fix_a_emb = False\n",
    "\n",
    "net = AspectAutoencoder(vocab_size, embed_size, num_aspects=n_clusters, neg_samples=10, w_emb=w_emb, a_emb=a_emb, recon_method=\"centr\", seed_w=seed_w, num_seeds=num_seeds, attention=True, fix_w_emb=True, fix_a_emb=fix_a_emb)\n",
    "\n",
    "if torch.cuda.is_available():\n",
    "    os.environ['CUDA_VISIBLE_DEVICES'] = '0'\n",
    "    net = net.cuda()\n",
    "\n",
    "rec_loss = TripletMarginCosineLoss()\n",
    "orth_loss = OrthogonalityLoss()\n",
    "\n",
    "params = filter(lambda p: p.requires_grad, net.parameters())\n",
    "optimizer = torch.optim.Adam(params, lr=lr)"
   ]
  },
  {
   "cell_type": "code",
   "execution_count": 36,
   "metadata": {},
   "outputs": [
    {
     "data": {
      "application/vnd.jupyter.widget-view+json": {
       "model_id": "740d13e7c9684b6e90b89b27f4d94c27",
       "version_major": 2,
       "version_minor": 0
      },
      "text/plain": [
       "HBox(children=(HTML(value='Total Epoch'), FloatProgress(value=0.0, max=50.0), HTML(value='')))"
      ]
     },
     "metadata": {},
     "output_type": "display_data"
    },
    {
     "data": {
      "application/vnd.jupyter.widget-view+json": {
       "model_id": "244454701daf444082aa6dff6086a85e",
       "version_major": 2,
       "version_minor": 0
      },
      "text/plain": [
       "HBox(children=(HTML(value='Epoch 0'), FloatProgress(value=0.0, max=623.0), HTML(value='')))"
      ]
     },
     "metadata": {},
     "output_type": "display_data"
    },
    {
     "data": {
      "application/vnd.jupyter.widget-view+json": {
       "model_id": "fafb26e3173147f78312c473e622091d",
       "version_major": 2,
       "version_minor": 0
      },
      "text/plain": [
       "HBox(children=(HTML(value='Epoch 1'), FloatProgress(value=0.0, max=623.0), HTML(value='')))"
      ]
     },
     "metadata": {},
     "output_type": "display_data"
    },
    {
     "data": {
      "application/vnd.jupyter.widget-view+json": {
       "model_id": "23adf70ac26d4e0e969fadd6ff598b5f",
       "version_major": 2,
       "version_minor": 0
      },
      "text/plain": [
       "HBox(children=(HTML(value='Epoch 2'), FloatProgress(value=0.0, max=623.0), HTML(value='')))"
      ]
     },
     "metadata": {},
     "output_type": "display_data"
    },
    {
     "data": {
      "application/vnd.jupyter.widget-view+json": {
       "model_id": "da5e0882781e43a69a5067aca0bafd79",
       "version_major": 2,
       "version_minor": 0
      },
      "text/plain": [
       "HBox(children=(HTML(value='Epoch 3'), FloatProgress(value=0.0, max=623.0), HTML(value='')))"
      ]
     },
     "metadata": {},
     "output_type": "display_data"
    },
    {
     "data": {
      "application/vnd.jupyter.widget-view+json": {
       "model_id": "0ab11fef771e47c184f0d0cc78899a97",
       "version_major": 2,
       "version_minor": 0
      },
      "text/plain": [
       "HBox(children=(HTML(value='Epoch 4'), FloatProgress(value=0.0, max=623.0), HTML(value='')))"
      ]
     },
     "metadata": {},
     "output_type": "display_data"
    },
    {
     "data": {
      "application/vnd.jupyter.widget-view+json": {
       "model_id": "48e9ccc256a54ea4897256230985b9f4",
       "version_major": 2,
       "version_minor": 0
      },
      "text/plain": [
       "HBox(children=(HTML(value='Epoch 5'), FloatProgress(value=0.0, max=623.0), HTML(value='')))"
      ]
     },
     "metadata": {},
     "output_type": "display_data"
    },
    {
     "data": {
      "application/vnd.jupyter.widget-view+json": {
       "model_id": "ea209f88dcb848fba24f8c14575f3dd6",
       "version_major": 2,
       "version_minor": 0
      },
      "text/plain": [
       "HBox(children=(HTML(value='Epoch 6'), FloatProgress(value=0.0, max=623.0), HTML(value='')))"
      ]
     },
     "metadata": {},
     "output_type": "display_data"
    },
    {
     "data": {
      "application/vnd.jupyter.widget-view+json": {
       "model_id": "162f77498e46472e99e6d65b349125be",
       "version_major": 2,
       "version_minor": 0
      },
      "text/plain": [
       "HBox(children=(HTML(value='Epoch 7'), FloatProgress(value=0.0, max=623.0), HTML(value='')))"
      ]
     },
     "metadata": {},
     "output_type": "display_data"
    },
    {
     "data": {
      "application/vnd.jupyter.widget-view+json": {
       "model_id": "67d41262fd2d4a839a157c8b7ce1e560",
       "version_major": 2,
       "version_minor": 0
      },
      "text/plain": [
       "HBox(children=(HTML(value='Epoch 8'), FloatProgress(value=0.0, max=623.0), HTML(value='')))"
      ]
     },
     "metadata": {},
     "output_type": "display_data"
    },
    {
     "data": {
      "application/vnd.jupyter.widget-view+json": {
       "model_id": "40a8f57b1e224ed998464740c0375b9b",
       "version_major": 2,
       "version_minor": 0
      },
      "text/plain": [
       "HBox(children=(HTML(value='Epoch 9'), FloatProgress(value=0.0, max=623.0), HTML(value='')))"
      ]
     },
     "metadata": {},
     "output_type": "display_data"
    },
    {
     "data": {
      "application/vnd.jupyter.widget-view+json": {
       "model_id": "2e1f14886f924214908bdc01b401ffcf",
       "version_major": 2,
       "version_minor": 0
      },
      "text/plain": [
       "HBox(children=(HTML(value='Epoch 10'), FloatProgress(value=0.0, max=623.0), HTML(value='')))"
      ]
     },
     "metadata": {},
     "output_type": "display_data"
    },
    {
     "data": {
      "application/vnd.jupyter.widget-view+json": {
       "model_id": "5a5e8c4c9b62427581f48171e4b3e373",
       "version_major": 2,
       "version_minor": 0
      },
      "text/plain": [
       "HBox(children=(HTML(value='Epoch 11'), FloatProgress(value=0.0, max=623.0), HTML(value='')))"
      ]
     },
     "metadata": {},
     "output_type": "display_data"
    },
    {
     "data": {
      "application/vnd.jupyter.widget-view+json": {
       "model_id": "86418e477ba342afba4f6f1d2c508786",
       "version_major": 2,
       "version_minor": 0
      },
      "text/plain": [
       "HBox(children=(HTML(value='Epoch 12'), FloatProgress(value=0.0, max=623.0), HTML(value='')))"
      ]
     },
     "metadata": {},
     "output_type": "display_data"
    },
    {
     "data": {
      "application/vnd.jupyter.widget-view+json": {
       "model_id": "614c02cd7f3d480fa107b4b592803bc2",
       "version_major": 2,
       "version_minor": 0
      },
      "text/plain": [
       "HBox(children=(HTML(value='Epoch 13'), FloatProgress(value=0.0, max=623.0), HTML(value='')))"
      ]
     },
     "metadata": {},
     "output_type": "display_data"
    },
    {
     "data": {
      "application/vnd.jupyter.widget-view+json": {
       "model_id": "15c5681c7d704af8810fea66727bb277",
       "version_major": 2,
       "version_minor": 0
      },
      "text/plain": [
       "HBox(children=(HTML(value='Epoch 14'), FloatProgress(value=0.0, max=623.0), HTML(value='')))"
      ]
     },
     "metadata": {},
     "output_type": "display_data"
    },
    {
     "data": {
      "application/vnd.jupyter.widget-view+json": {
       "model_id": "446b952d2abd4b65bd28db35b1d40701",
       "version_major": 2,
       "version_minor": 0
      },
      "text/plain": [
       "HBox(children=(HTML(value='Epoch 15'), FloatProgress(value=0.0, max=623.0), HTML(value='')))"
      ]
     },
     "metadata": {},
     "output_type": "display_data"
    },
    {
     "data": {
      "application/vnd.jupyter.widget-view+json": {
       "model_id": "b2dc8c5ae7eb474aaa1064fe1440fba4",
       "version_major": 2,
       "version_minor": 0
      },
      "text/plain": [
       "HBox(children=(HTML(value='Epoch 16'), FloatProgress(value=0.0, max=623.0), HTML(value='')))"
      ]
     },
     "metadata": {},
     "output_type": "display_data"
    },
    {
     "data": {
      "application/vnd.jupyter.widget-view+json": {
       "model_id": "7298e27c05af4ff38017598941297795",
       "version_major": 2,
       "version_minor": 0
      },
      "text/plain": [
       "HBox(children=(HTML(value='Epoch 17'), FloatProgress(value=0.0, max=623.0), HTML(value='')))"
      ]
     },
     "metadata": {},
     "output_type": "display_data"
    },
    {
     "data": {
      "application/vnd.jupyter.widget-view+json": {
       "model_id": "6b9e9489d525496ca4f9c20820c83667",
       "version_major": 2,
       "version_minor": 0
      },
      "text/plain": [
       "HBox(children=(HTML(value='Epoch 18'), FloatProgress(value=0.0, max=623.0), HTML(value='')))"
      ]
     },
     "metadata": {},
     "output_type": "display_data"
    },
    {
     "data": {
      "application/vnd.jupyter.widget-view+json": {
       "model_id": "65e35f08f85c4c7ea31c23fbfb3422ec",
       "version_major": 2,
       "version_minor": 0
      },
      "text/plain": [
       "HBox(children=(HTML(value='Epoch 19'), FloatProgress(value=0.0, max=623.0), HTML(value='')))"
      ]
     },
     "metadata": {},
     "output_type": "display_data"
    },
    {
     "data": {
      "application/vnd.jupyter.widget-view+json": {
       "model_id": "844b187a71fc47d3948601ab9f38d19f",
       "version_major": 2,
       "version_minor": 0
      },
      "text/plain": [
       "HBox(children=(HTML(value='Epoch 20'), FloatProgress(value=0.0, max=623.0), HTML(value='')))"
      ]
     },
     "metadata": {},
     "output_type": "display_data"
    },
    {
     "data": {
      "application/vnd.jupyter.widget-view+json": {
       "model_id": "b4c6f3d8a2174178afd508915526f030",
       "version_major": 2,
       "version_minor": 0
      },
      "text/plain": [
       "HBox(children=(HTML(value='Epoch 21'), FloatProgress(value=0.0, max=623.0), HTML(value='')))"
      ]
     },
     "metadata": {},
     "output_type": "display_data"
    },
    {
     "data": {
      "application/vnd.jupyter.widget-view+json": {
       "model_id": "5833c2a93ffa4c2e96b3899357b04fb4",
       "version_major": 2,
       "version_minor": 0
      },
      "text/plain": [
       "HBox(children=(HTML(value='Epoch 22'), FloatProgress(value=0.0, max=623.0), HTML(value='')))"
      ]
     },
     "metadata": {},
     "output_type": "display_data"
    },
    {
     "data": {
      "application/vnd.jupyter.widget-view+json": {
       "model_id": "4fe890d8f36f4254af8fe4a4d85c33af",
       "version_major": 2,
       "version_minor": 0
      },
      "text/plain": [
       "HBox(children=(HTML(value='Epoch 23'), FloatProgress(value=0.0, max=623.0), HTML(value='')))"
      ]
     },
     "metadata": {},
     "output_type": "display_data"
    },
    {
     "data": {
      "application/vnd.jupyter.widget-view+json": {
       "model_id": "0f64361d2e474717b9f60f46e877a2dc",
       "version_major": 2,
       "version_minor": 0
      },
      "text/plain": [
       "HBox(children=(HTML(value='Epoch 24'), FloatProgress(value=0.0, max=623.0), HTML(value='')))"
      ]
     },
     "metadata": {},
     "output_type": "display_data"
    },
    {
     "data": {
      "application/vnd.jupyter.widget-view+json": {
       "model_id": "dbcbd34e4a054be8ad42ecaabd63e66d",
       "version_major": 2,
       "version_minor": 0
      },
      "text/plain": [
       "HBox(children=(HTML(value='Epoch 25'), FloatProgress(value=0.0, max=623.0), HTML(value='')))"
      ]
     },
     "metadata": {},
     "output_type": "display_data"
    },
    {
     "data": {
      "application/vnd.jupyter.widget-view+json": {
       "model_id": "83376492111e496da6325690e3a82437",
       "version_major": 2,
       "version_minor": 0
      },
      "text/plain": [
       "HBox(children=(HTML(value='Epoch 26'), FloatProgress(value=0.0, max=623.0), HTML(value='')))"
      ]
     },
     "metadata": {},
     "output_type": "display_data"
    },
    {
     "data": {
      "application/vnd.jupyter.widget-view+json": {
       "model_id": "64102472b92b4e6dbe9b664c55d1eecd",
       "version_major": 2,
       "version_minor": 0
      },
      "text/plain": [
       "HBox(children=(HTML(value='Epoch 27'), FloatProgress(value=0.0, max=623.0), HTML(value='')))"
      ]
     },
     "metadata": {},
     "output_type": "display_data"
    },
    {
     "data": {
      "application/vnd.jupyter.widget-view+json": {
       "model_id": "735f925f52804197bc066cb891824bc6",
       "version_major": 2,
       "version_minor": 0
      },
      "text/plain": [
       "HBox(children=(HTML(value='Epoch 28'), FloatProgress(value=0.0, max=623.0), HTML(value='')))"
      ]
     },
     "metadata": {},
     "output_type": "display_data"
    },
    {
     "data": {
      "application/vnd.jupyter.widget-view+json": {
       "model_id": "10cbb2d666eb44fab4e3413322eb23d2",
       "version_major": 2,
       "version_minor": 0
      },
      "text/plain": [
       "HBox(children=(HTML(value='Epoch 29'), FloatProgress(value=0.0, max=623.0), HTML(value='')))"
      ]
     },
     "metadata": {},
     "output_type": "display_data"
    },
    {
     "data": {
      "application/vnd.jupyter.widget-view+json": {
       "model_id": "70206f7ab59c4911a42e846b4134ccc4",
       "version_major": 2,
       "version_minor": 0
      },
      "text/plain": [
       "HBox(children=(HTML(value='Epoch 30'), FloatProgress(value=0.0, max=623.0), HTML(value='')))"
      ]
     },
     "metadata": {},
     "output_type": "display_data"
    },
    {
     "data": {
      "application/vnd.jupyter.widget-view+json": {
       "model_id": "6ef1460c21c349778146106f43d1de42",
       "version_major": 2,
       "version_minor": 0
      },
      "text/plain": [
       "HBox(children=(HTML(value='Epoch 31'), FloatProgress(value=0.0, max=623.0), HTML(value='')))"
      ]
     },
     "metadata": {},
     "output_type": "display_data"
    },
    {
     "data": {
      "application/vnd.jupyter.widget-view+json": {
       "model_id": "93358bd872d34919998a389f55e1d349",
       "version_major": 2,
       "version_minor": 0
      },
      "text/plain": [
       "HBox(children=(HTML(value='Epoch 32'), FloatProgress(value=0.0, max=623.0), HTML(value='')))"
      ]
     },
     "metadata": {},
     "output_type": "display_data"
    },
    {
     "data": {
      "application/vnd.jupyter.widget-view+json": {
       "model_id": "9ea9a52091be4f879d461a8b6e24e4de",
       "version_major": 2,
       "version_minor": 0
      },
      "text/plain": [
       "HBox(children=(HTML(value='Epoch 33'), FloatProgress(value=0.0, max=623.0), HTML(value='')))"
      ]
     },
     "metadata": {},
     "output_type": "display_data"
    },
    {
     "data": {
      "application/vnd.jupyter.widget-view+json": {
       "model_id": "7487eed80a9c457aa609425bbcc4791d",
       "version_major": 2,
       "version_minor": 0
      },
      "text/plain": [
       "HBox(children=(HTML(value='Epoch 34'), FloatProgress(value=0.0, max=623.0), HTML(value='')))"
      ]
     },
     "metadata": {},
     "output_type": "display_data"
    },
    {
     "data": {
      "application/vnd.jupyter.widget-view+json": {
       "model_id": "6dade3a905ff478cb61400e78668ae58",
       "version_major": 2,
       "version_minor": 0
      },
      "text/plain": [
       "HBox(children=(HTML(value='Epoch 35'), FloatProgress(value=0.0, max=623.0), HTML(value='')))"
      ]
     },
     "metadata": {},
     "output_type": "display_data"
    },
    {
     "data": {
      "application/vnd.jupyter.widget-view+json": {
       "model_id": "8c40148372ac486d93e35e2723f62272",
       "version_major": 2,
       "version_minor": 0
      },
      "text/plain": [
       "HBox(children=(HTML(value='Epoch 36'), FloatProgress(value=0.0, max=623.0), HTML(value='')))"
      ]
     },
     "metadata": {},
     "output_type": "display_data"
    },
    {
     "data": {
      "application/vnd.jupyter.widget-view+json": {
       "model_id": "a6fba0a30ba2490081abb21de3a415d3",
       "version_major": 2,
       "version_minor": 0
      },
      "text/plain": [
       "HBox(children=(HTML(value='Epoch 37'), FloatProgress(value=0.0, max=623.0), HTML(value='')))"
      ]
     },
     "metadata": {},
     "output_type": "display_data"
    },
    {
     "data": {
      "application/vnd.jupyter.widget-view+json": {
       "model_id": "34d3b8134ed949428a067412b862124a",
       "version_major": 2,
       "version_minor": 0
      },
      "text/plain": [
       "HBox(children=(HTML(value='Epoch 38'), FloatProgress(value=0.0, max=623.0), HTML(value='')))"
      ]
     },
     "metadata": {},
     "output_type": "display_data"
    },
    {
     "data": {
      "application/vnd.jupyter.widget-view+json": {
       "model_id": "3b5f367cf3c84e1bb311e0e0599ccd0c",
       "version_major": 2,
       "version_minor": 0
      },
      "text/plain": [
       "HBox(children=(HTML(value='Epoch 39'), FloatProgress(value=0.0, max=623.0), HTML(value='')))"
      ]
     },
     "metadata": {},
     "output_type": "display_data"
    },
    {
     "data": {
      "application/vnd.jupyter.widget-view+json": {
       "model_id": "476081b82dd646eb9714a8bcab9efa21",
       "version_major": 2,
       "version_minor": 0
      },
      "text/plain": [
       "HBox(children=(HTML(value='Epoch 40'), FloatProgress(value=0.0, max=623.0), HTML(value='')))"
      ]
     },
     "metadata": {},
     "output_type": "display_data"
    },
    {
     "data": {
      "application/vnd.jupyter.widget-view+json": {
       "model_id": "3108c7a81c3241ec97843c558ea732c4",
       "version_major": 2,
       "version_minor": 0
      },
      "text/plain": [
       "HBox(children=(HTML(value='Epoch 41'), FloatProgress(value=0.0, max=623.0), HTML(value='')))"
      ]
     },
     "metadata": {},
     "output_type": "display_data"
    },
    {
     "data": {
      "application/vnd.jupyter.widget-view+json": {
       "model_id": "bad81c1ecc094577ad83599c2ceb3a14",
       "version_major": 2,
       "version_minor": 0
      },
      "text/plain": [
       "HBox(children=(HTML(value='Epoch 42'), FloatProgress(value=0.0, max=623.0), HTML(value='')))"
      ]
     },
     "metadata": {},
     "output_type": "display_data"
    },
    {
     "data": {
      "application/vnd.jupyter.widget-view+json": {
       "model_id": "bcc43c55d12a488eb44452887a5e9f41",
       "version_major": 2,
       "version_minor": 0
      },
      "text/plain": [
       "HBox(children=(HTML(value='Epoch 43'), FloatProgress(value=0.0, max=623.0), HTML(value='')))"
      ]
     },
     "metadata": {},
     "output_type": "display_data"
    },
    {
     "data": {
      "application/vnd.jupyter.widget-view+json": {
       "model_id": "0c30d159bee64679a098057f7a09e8fb",
       "version_major": 2,
       "version_minor": 0
      },
      "text/plain": [
       "HBox(children=(HTML(value='Epoch 44'), FloatProgress(value=0.0, max=623.0), HTML(value='')))"
      ]
     },
     "metadata": {},
     "output_type": "display_data"
    },
    {
     "data": {
      "application/vnd.jupyter.widget-view+json": {
       "model_id": "48044b97006049e2909182fa08c40033",
       "version_major": 2,
       "version_minor": 0
      },
      "text/plain": [
       "HBox(children=(HTML(value='Epoch 45'), FloatProgress(value=0.0, max=623.0), HTML(value='')))"
      ]
     },
     "metadata": {},
     "output_type": "display_data"
    },
    {
     "data": {
      "application/vnd.jupyter.widget-view+json": {
       "model_id": "54961028e4414005a095a47896f4ef60",
       "version_major": 2,
       "version_minor": 0
      },
      "text/plain": [
       "HBox(children=(HTML(value='Epoch 46'), FloatProgress(value=0.0, max=623.0), HTML(value='')))"
      ]
     },
     "metadata": {},
     "output_type": "display_data"
    },
    {
     "data": {
      "application/vnd.jupyter.widget-view+json": {
       "model_id": "27de5c6e1fc44150928d84d0002f91ba",
       "version_major": 2,
       "version_minor": 0
      },
      "text/plain": [
       "HBox(children=(HTML(value='Epoch 47'), FloatProgress(value=0.0, max=623.0), HTML(value='')))"
      ]
     },
     "metadata": {},
     "output_type": "display_data"
    },
    {
     "data": {
      "application/vnd.jupyter.widget-view+json": {
       "model_id": "a53f94e6b5ec47eaa7a6cde1d09c0415",
       "version_major": 2,
       "version_minor": 0
      },
      "text/plain": [
       "HBox(children=(HTML(value='Epoch 48'), FloatProgress(value=0.0, max=623.0), HTML(value='')))"
      ]
     },
     "metadata": {},
     "output_type": "display_data"
    },
    {
     "data": {
      "application/vnd.jupyter.widget-view+json": {
       "model_id": "f96b5b655dc54045bf68ccdc74c0d00b",
       "version_major": 2,
       "version_minor": 0
      },
      "text/plain": [
       "HBox(children=(HTML(value='Epoch 49'), FloatProgress(value=0.0, max=623.0), HTML(value='')))"
      ]
     },
     "metadata": {},
     "output_type": "display_data"
    },
    {
     "name": "stdout",
     "output_type": "stream",
     "text": [
      "\n"
     ]
    }
   ],
   "source": [
    "net.train()\n",
    "for epoch in tqdm(range(epochs), desc='Total Epoch'):\n",
    "\n",
    "    for lines, ids in tqdm(dataloader, position=0, leave=False, desc='Epoch {}'.format(epoch)):\n",
    "        inputs = Variable(torch.Tensor(lines).long())\n",
    "\n",
    "        if inputs.shape[1] < min_len:\n",
    "            continue\n",
    "\n",
    "        if torch.cuda.is_available():\n",
    "            inputs = inputs.cuda()\n",
    "\n",
    "        out, a_probs = net(inputs)\n",
    "\n",
    "        positives, negatives = net.get_targets()\n",
    "        loss = rec_loss(out, positives, negatives)\n",
    "\n",
    "        if not fix_a_emb:\n",
    "            aspects = net.get_aspects()\n",
    "            loss += l * orth_loss(aspects)\n",
    "\n",
    "        optimizer.zero_grad()\n",
    "        loss.backward()\n",
    "        optimizer.step()"
   ]
  },
  {
   "cell_type": "code",
   "execution_count": 37,
   "metadata": {},
   "outputs": [
    {
     "name": "stdout",
     "output_type": "stream",
     "text": [
      "Trained aspects via ABAE:\n",
      "Aspect 01:  ['wanton', 'subtilly', 'scorners', 'hurtful', \"fathers'\", 'servants', 'resteth', 'trespassed', 'fools', 'uncircumcised']\n",
      "Aspect 02:  ['sixteenth', 'bethmarcaboth', 'hazarsusah', 'dumah', 'eltolad', 'sansannah', 'eshean', 'ziklag', 'massa', 'hormah']\n",
      "Aspect 03:  ['plucketh', 'temptation', 'hating', 'vigilant', 'purpose', 'riot', 'thresheth', 'ignorantly', 'fornicator', 'necessary']\n",
      "Aspect 04:  ['holiness', 'gentleness', 'wonders', 'working', 'honour', 'glorious', 'longsuffering', 'shewed', 'kindness', 'beauties']\n",
      "Aspect 05:  ['cedar', 'refined', 'jasper', 'masons', 'timber', 'overlay', 'beams', 'overlaid', 'gold', 'ivory']\n",
      "Aspect 06:  ['daughter', 'sister', 'hadassah', 'maachah', 'mahalath', 'tamar', 'jochebed', 'virgin', 'concubine', 'aiah']\n",
      "Aspect 07:  ['salamis', 'subscribe', 'office', 'according', 'remembered', 'hallow', 'forgotten', 'manifestation', 'levitical', 'satisfiest']\n",
      "Aspect 08:  ['heavens', 'ends', 'wings', 'top', 'dissolved', 'mount', 'cherubims', 'foundations', 'hills', 'channels']\n",
      "Aspect 09:  ['meshach', 'abednego', 'shadrach', 'officers', 'claudius', 'guard', 'council', 'officer', 'sail', 'captain']\n",
      "Aspect 10:  ['visitation', 'abib', 'expired', 'spent', 'ninth', 'hour', 'third', 'month', 'latter', 'hidden']\n",
      "Aspect 11:  ['thine', 'didst', 'wast', 'wilt', 'dost', 'makest', 'thyself', 'hast', 'knowest', 'hadst']\n",
      "Aspect 12:  ['comparable', 'cypress', 'polishing', 'replenish', 'threwest', 'shipwreck', 'daughters', 'disallowed', 'emmor', 'ruddy']\n",
      "Aspect 13:  ['years', 'months', \"years'\", 'days', 'greyheaded', 'age', 'kirjatharim', 'proofs', 'thirtieth', 'preparing']\n",
      "Aspect 14:  ['yield', 'increase', 'fruits', 'vineyard', 'plant', 'planted', 'planteth', 'fruit', 'field', 'vineyards']\n",
      "Aspect 15:  ['devour', 'quenched', 'brimstone', 'kindle', 'burning', 'burned', 'brand', 'flame', 'diggeth', 'consumeth']\n",
      "Aspect 16:  ['jeshimon', 'zair', 'aija', 'gibeon', 'zemaraim', 'ramah', 'kedesh', 'michmash', 'bethpeor', 'geba']\n",
      "Aspect 17:  ['gedaliah', 'ruler', 'mizpah', 'salu', 'azbuk', 'baasha', 'ammihud', 'ginath', 'prince', 'nethaniah']\n",
      "Aspect 18:  ['withered', 'goeth', 'fleeth', 'melteth', 'cold', 'cleanseth', 'whirlwind', 'flower', 'finer', 'spring']\n",
      "Aspect 19:  ['sea', 'waters', 'waves', 'red', 'shore', 'calm', 'kanah', 'drowned', 'euphrates', 'coast']\n",
      "Aspect 20:  ['book', 'read', 'writing', 'achmetha', 'written', 'latin', 'records', 'bigthana', 'copy', 'lamentations']\n",
      "Aspect 21:  ['thousand', 'drams', 'hundred', 'apiece', 'basons', 'talents', 'swords', 'fifty', 'wagons', 'servitor']\n",
      "Aspect 22:  ['curiously', 'stewards', 'lowest', 'nazarenes', 'treasures', 'chests', 'cankered', 'solitarily', 'substance', 'sapphira']\n",
      "Aspect 23:  ['offerings', 'sacrifice', 'burnt', 'offering', 'strongly', 'freewill', 'sacrifices', 'vows', 'priest', 'baal']\n",
      "Aspect 24:  ['girdle', 'breeches', 'fetters', 'robe', 'sackcloth', 'purple', 'towel', 'clothe', 'girdles', 'girded']\n",
      "Aspect 25:  ['understanding', 'brutish', 'reproof', 'prudent', 'fool', 'descendeth', 'skill', 'wisdom', 'instruction', 'devilish']\n",
      "Aspect 26:  ['high', 'subdueth', 'dayspring', 'potipherah', 'noble', 'thankfulness', 'contemned', 'avengeth', 'lurking', 'exalted']\n",
      "Aspect 27:  ['morning', 'thresholds', 'rising', 'tent', 'tabernacle', 'await', 'street', 'evening', 'cause', 'sepulchre']\n",
      "Aspect 28:  ['boasteth', \"sacks'\", 'carefully', 'storehouses', 'plants', 'joppa', 'gathering', 'besom', 'pound', 'horseback']\n",
      "Aspect 29:  ['fatted', 'fowls', 'fat', 'pastures', 'dined', 'air', 'wild', 'beasts', 'lambs', 'rams']\n",
      "Aspect 30:  ['jerusalem', 'dwellers', 'brokenhearted', 'whither', 'macedonia', 'samaria', 'hezekiah', 'cities', 'gilgal', 'publish']\n",
      "Aspect 31:  ['eight', 'nourishing', 'fourscore', 'ten', 'seven', 'three', 'six', 'purifications', 'twenty', 'forty']\n",
      "Aspect 32:  ['hand', 'bowels', 'arm', 'enemy', 'enemies', 'bow', 'trouble', 'paw', 'fury', 'mower']\n",
      "Aspect 33:  ['city', 'shebarim', 'employment', 'shutting', 'entering', 'wall', 'dryshod', 'netophah', 'palace', 'revenger']\n",
      "Aspect 34:  ['wine', 'drank', 'oil', 'ointments', 'bottle', 'drinking', 'freely', 'corn', 'flagon', 'acquainting']\n",
      "Aspect 35:  ['book', 'jozabad', 'purchase', 'hilkiah', 'maaseiah', 'jedaiah', 'chenani', 'deacon', 'shabbethai', 'mushi']\n",
      "Aspect 36:  ['nay', 'answered', 'servant', 'tell', 'else', 'said', 'trust', 'prophesy', 'ashamed', 'command']\n",
      "Aspect 37:  ['sound', 'songs', 'trumpet', 'singing', 'shout', 'feasts', 'joyful', 'shouting', 'melody', 'making']\n",
      "Aspect 38:  ['blasphemies', 'tongues', 'speaketh', 'deceive', 'lips', 'eldad', 'lads', 'speaking', 'speech', 'lies']\n",
      "Aspect 39:  ['amalekites', 'assyria', 'hamath', 'hittites', 'hauran', 'amorites', 'canaan', 'sihon', 'tyre', 'edom']\n",
      "Aspect 40:  ['ran', 'smote', 'saw', 'kissed', 'passed', 'met', 'mistress', 'followed', 'cried', 'babe']\n",
      "Aspect 41:  ['word', 'prayed', 'abraham', 'master', 'messenger', 'maroth', 'gifts', 'long', 'faith', 'testifying']\n",
      "Aspect 42:  ['loveth', 'fatherless', 'murderer', 'hateth', 'perverting', 'useth', 'slayer', 'eateth', 'giver', 'oppressed']\n",
      "Aspect 43:  ['disciples', 'amazement', 'unwashen', 'together', 'peaceably', 'nigh', 'comfortably', 'company', 'perceiving', 'pharisees']\n",
      "Aspect 44:  ['chewed', 'stroke', 'troubling', 'kabzeel', 'departure', 'pitiful', 'natural', 'misery', 'discipline', 'sighs']\n",
      "Aspect 45:  ['tribulations', 'repenteth', 'scatter', 'expectation', 'abase', 'terrible', 'weighty', 'deferreth', 'hypocritical', 'publican']\n",
      "Aspect 46:  ['paths', 'ways', 'conscience', 'path', 'doings', 'commandments', 'statutes', 'laws', 'law', 'thoughts']\n",
      "Aspect 47:  ['done', 'sith', 'miracles', 'failed', 'befallen', 'marvellously', 'already', 'doeth', 'wrought', 'declared']\n",
      "Aspect 48:  ['escape', 'bring', 'send', 'go', 'kill', 'flee', 'get', 'prepare', 'bind', 'tread']\n",
      "Aspect 49:  ['begat', 'booz', 'ludim', 'lehabim', 'shua', 'naphtuhim', 'obed', 'anamim', 'arphaxad', 'hotham']\n",
      "Aspect 50:  ['tertius', 'john', 'crispus', 'urbane', 'lucas', 'epaphroditus', 'baptized', 'stachys', 'gaius', 'andronicus']\n"
     ]
    }
   ],
   "source": [
    "abae_centers = net.get_aspects().detach().cpu().numpy()\n",
    "\n",
    "print('Trained aspects via ABAE:')\n",
    "for i in range(n_clusters):\n",
    "    print('Aspect {:02}: '.format(i+1), [word for word, _ in bible_wv.similar_by_vector(abae_centers[i])])"
   ]
  },
  {
   "cell_type": "code",
   "execution_count": null,
   "metadata": {},
   "outputs": [],
   "source": []
  },
  {
   "cell_type": "code",
   "execution_count": 38,
   "metadata": {},
   "outputs": [
    {
     "data": {
      "text/plain": [
       "(0.003197749656008067, 5.3433333653509236e-11)"
      ]
     },
     "execution_count": 38,
     "metadata": {},
     "output_type": "execute_result"
    }
   ],
   "source": [
    "coverage(centers), coverage(abae_centers)"
   ]
  },
  {
   "cell_type": "code",
   "execution_count": 39,
   "metadata": {},
   "outputs": [
    {
     "name": "stdout",
     "output_type": "stream",
     "text": [
      "6807.2011241316795 0.21885995319202906\n",
      "[423, 12108, 28327, 30972, 31098, 31103, 31103, 31103, 31103, 31103]\n",
      "[653, 157, 62, 650, 779, 2656, 101, 628, 143, 136, 848, 55, 5528, 229, 185, 1315, 623, 176, 656, 1384, 650, 23, 514, 1092, 534, 56, 144, 46, 380, 561, 79, 316, 87, 321, 321, 514, 382, 137, 719, 766, 72, 349, 221, 88, 55, 535, 290, 360, 4443, 84]\n",
      "Epoch 50 recon:  0.0005543461260783153 orign:  0.0004058752201589724\n"
     ]
    }
   ],
   "source": [
    "outs = list()\n",
    "poss = list()\n",
    "aspects = list()\n",
    "recon_embedding = list()\n",
    "orign_embedding = list()\n",
    "for lines, ids in dataloader:\n",
    "    inputs = Variable(torch.Tensor(lines).long())\n",
    "\n",
    "    if inputs.shape[1] < min_len:\n",
    "        continue\n",
    "\n",
    "    if torch.cuda.is_available():\n",
    "        inputs = inputs.cuda()\n",
    "\n",
    "    out, a_probs = net(inputs)\n",
    "\n",
    "    positives, negatives = net.get_targets()\n",
    "\n",
    "    outs.append(out.detach().cpu().numpy())\n",
    "    poss.append(positives.detach().cpu().numpy())\n",
    "    aspects.append(a_probs.detach().cpu().numpy())\n",
    "\n",
    "    recon_embedding.append(out.detach().cpu().numpy())\n",
    "    orign_embedding.append(positives.detach().cpu().numpy())\n",
    "\n",
    "outs = np.concatenate(outs, axis=0)\n",
    "poss = np.concatenate(poss, axis=0)\n",
    "aspects = np.concatenate(aspects, axis=0)\n",
    "\n",
    "cos_dis = list()\n",
    "for a, b in zip(outs, poss):\n",
    "    cos_dis.append(cosine_distances(a.reshape(1, -1), b.reshape(1, -1))[0, 0])\n",
    "print(sum(cos_dis), sum(cos_dis) / len(cos_dis))\n",
    "\n",
    "cos_dis_stat = [np.sum(np.array(cos_dis) <= i * 0.1) for i in range(1, 11)]\n",
    "print(cos_dis_stat)\n",
    "\n",
    "aspects_probs = aspects.copy()\n",
    "aspects = np.argmax(aspects, axis=1)\n",
    "aspects_stat = [np.sum(aspects == i) for i in range(n_clusters)]\n",
    "print(aspects_stat)\n",
    "\n",
    "recon_embedding = np.concatenate(recon_embedding, axis=0)\n",
    "orign_embedding = np.concatenate(orign_embedding, axis=0)\n",
    "print(f\"Epoch {epoch+1}\", \"recon: \", coverage(recon_embedding, \"cosine\"), \"orign: \", coverage(orign_embedding, \"cosine\"))"
   ]
  },
  {
   "cell_type": "code",
   "execution_count": 40,
   "metadata": {},
   "outputs": [
    {
     "data": {
      "image/png": "[encoded data removed]",
      "text/plain": [
       "<Figure size 576x288 with 1 Axes>"
      ]
     },
     "metadata": {
      "needs_background": "light"
     },
     "output_type": "display_data"
    }
   ],
   "source": [
    "plt.figure(figsize=(8,4), tight_layout=True)\n",
    "ax = sns.histplot(cos_dis, cumulative=True, bins=20, kde=True)\n",
    "ax.set(title=\"Cumulative Count\", xlabel=\"Cosine Distance\", ylabel=\"Count\")\n",
    "plt.show()"
   ]
  },
  {
   "cell_type": "code",
   "execution_count": null,
   "metadata": {},
   "outputs": [],
   "source": []
  },
  {
   "cell_type": "code",
   "execution_count": 41,
   "metadata": {},
   "outputs": [],
   "source": [
    "np.save('verse2aspect.npy', aspects)"
   ]
  },
  {
   "cell_type": "code",
   "execution_count": null,
   "metadata": {},
   "outputs": [],
   "source": []
  },
  {
   "cell_type": "code",
   "execution_count": 42,
   "metadata": {},
   "outputs": [],
   "source": [
    "np.save('abae_centers.npy', abae_centers)"
   ]
  },
  {
   "cell_type": "code",
   "execution_count": 43,
   "metadata": {},
   "outputs": [
    {
     "name": "stdout",
     "output_type": "stream",
     "text": [
      "aspects_probs\n",
      "[0.01960069 0.02165938 0.02103798 0.01644352 0.03542759]\n"
     ]
    }
   ],
   "source": [
    "np.save('aspects_probs', aspects_probs)\n",
    "print(f'aspects_probs\\n{aspects_probs[0:5, 22]}')"
   ]
  }
 ],
 "metadata": {
  "interpreter": {
   "hash": "92bfc3548baa6bf47056a68e0b67ae206554386d09af1748009e58de9bd0f0fe"
  },
  "kernelspec": {
   "display_name": "Python 3.8.3 64-bit ('base': conda)",
   "name": "python3"
  },
  "language_info": {
   "codemirror_mode": {
    "name": "ipython",
    "version": 3
   },
   "file_extension": ".py",
   "mimetype": "text/x-python",
   "name": "python",
   "nbconvert_exporter": "python",
   "pygments_lexer": "ipython3",
   "version": "3.8.3"
  },
  "orig_nbformat": 2
 },
 "nbformat": 4,
 "nbformat_minor": 2
}