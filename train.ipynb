{
 "cells": [
  {
   "cell_type": "code",
   "execution_count": 1,
   "metadata": {},
   "outputs": [],
   "source": [
    "%load_ext autoreload\n",
    "%autoreload 2"
   ]
  },
  {
   "cell_type": "code",
   "execution_count": 2,
   "metadata": {},
   "outputs": [],
   "source": [
    "import warnings\n",
    "warnings.filterwarnings(\"ignore\")\n",
    "import numpy as np\n",
    "import pandas as pd\n",
    "import seaborn as sns\n",
    "import matplotlib.pyplot as plt\n",
    "from tqdm.notebook import tqdm\n",
    "\n",
    "\n",
    "import torch\n",
    "from torch.autograd import Variable\n",
    "from torch.utils.data import DataLoader\n",
    "\n",
    "from flair.data import Sentence\n",
    "from flair.embeddings import WordEmbeddings\n",
    "\n",
    "from sklearn.cluster import KMeans\n",
    "from sklearn.metrics.pairwise import cosine_similarity, cosine_distances, euclidean_distances\n",
    "\n",
    "from gensim.models import KeyedVectors, word2vec\n",
    "\n",
    "from dataset import BibleDataset, custom_collate_fn\n",
    "from model import AspectAutoencoder\n",
    "from loss import TripletMarginCosineLoss, OrthogonalityLoss\n",
    "from train_wv import get_wv"
   ]
  },
  {
   "cell_type": "code",
   "execution_count": 3,
   "metadata": {},
   "outputs": [],
   "source": [
    "import nltk\n",
    "home_path = os.path.expanduser('~')\n",
    "if not os.path.exists(os.path.join(home_path, 'nltk_data/corpora/stopwords')):\n",
    "    nltk.download('stopwords')"
   ]
  },
  {
   "cell_type": "code",
   "execution_count": 4,
   "metadata": {},
   "outputs": [],
   "source": [
    "dataset = BibleDataset(\"./t_kjv.csv\", word_to_index=True)\n",
    "dataloader = DataLoader(dataset, batch_size=50, shuffle=True, collate_fn=custom_collate_fn)"
   ]
  },
  {
   "cell_type": "code",
   "execution_count": 5,
   "metadata": {},
   "outputs": [],
   "source": [
    "verses = [verse_tuple[0] for verse_tuple in dataset]"
   ]
  },
  {
   "cell_type": "code",
   "execution_count": 6,
   "metadata": {},
   "outputs": [],
   "source": [
    "bible_kjv_sents = []\n",
    "for verse in verses:\n",
    "    verse_list = [dataset.id2word[verse_idx] for verse_idx in verse]\n",
    "    bible_kjv_sents.append(verse_list)"
   ]
  },
  {
   "cell_type": "code",
   "execution_count": 7,
   "metadata": {},
   "outputs": [
    {
     "output_type": "stream",
     "name": "stdout",
     "text": [
      "Loading pretrained bible embeddings from w2v/bible_word2vec_org ...\n"
     ]
    }
   ],
   "source": [
    "bible_wv = get_wv(bible_kjv_sents)"
   ]
  },
  {
   "cell_type": "code",
   "execution_count": 8,
   "metadata": {},
   "outputs": [
    {
     "output_type": "execute_result",
     "data": {
      "text/plain": [
       "(200,)"
      ]
     },
     "metadata": {},
     "execution_count": 8
    }
   ],
   "source": [
    "bible_wv['jesus'].shape"
   ]
  },
  {
   "cell_type": "code",
   "execution_count": 9,
   "metadata": {
    "tags": []
   },
   "outputs": [
    {
     "output_type": "display_data",
     "data": {
      "text/plain": "  0%|          | 0/12530 [00:00<?, ?it/s]",
      "application/vnd.jupyter.widget-view+json": {
       "version_major": 2,
       "version_minor": 0,
       "model_id": "19bf1e2b26e14169aa9fb2ef49fe9892"
      }
     },
     "metadata": {}
    }
   ],
   "source": [
    "\"\"\" Generate Word Vectors for a Given Dataset \"\"\"\n",
    "\n",
    "embed_size = bible_wv.vector_size\n",
    "vocab_size = len(dataset.word2id.keys())\n",
    "wv = KeyedVectors(vector_size=embed_size)\n",
    "\n",
    "embeddings = torch.empty(vocab_size, embed_size)\n",
    "\n",
    "for word, id in tqdm(dataset.word2id.items()):\n",
    "    embeddings[id] = torch.from_numpy(bible_wv[word]).to(embeddings)\n",
    "\n"
   ]
  },
  {
   "cell_type": "code",
   "execution_count": 10,
   "metadata": {},
   "outputs": [
    {
     "output_type": "stream",
     "name": "stdout",
     "text": [
      "Initial aspects via K means:\nAspect 01:  ['overlaid', 'spoons', 'hooks', 'dishes', 'knops', 'pins', 'hanging', 'skins', 'crisping', 'chapiters']\nAspect 02:  ['shuham', 'kibzaim', 'dimnah', 'mahali', 'shuhamites', 'masrekah', 'camon', 'jezerites', 'nahalal', 'archevites']\nAspect 03:  ['maaseiah', 'aziel', 'asaiah', 'uzzi', 'jashobeam', 'jehonathan', 'azaziah', 'shemiramoth', 'shelemiah', 'shimri']\nAspect 04:  ['jews', 'astrologers', 'paul', 'antioch', 'rehoboam', 'pharisees', 'junia', 'daniel', 'andronicus', 'governor']\nAspect 05:  ['zebina', 'nahath', 'zithri', 'muppim', 'abihud', 'addar', 'rosh', 'jashubites', 'allon', 'sharar']\nAspect 06:  ['year', 'seventh', 'month', 'eighth', 'thirtieth', 'fortieth', 'eighteenth', 'evilmerodach', 'months', 'expired']\nAspect 07:  ['trespassed', 'transgression', 'wickedly', 'punished', 'lewdness', 'erred', 'wickedness', 'witchcraft', 'sinned', 'thefts']\nAspect 08:  ['gave', 'took', 'followed', 'saw', 'slew', 'smote', 'sat', 'arose', 'ran', 'returned']\nAspect 09:  ['grape', 'baked', 'barrel', 'grapes', 'wheat', 'unsavoury', 'vine', 'parched', 'flour', 'butter']\nAspect 10:  ['dishes', 'greaves', 'swan', \"badgers'\", 'deer', 'inflammation', 'gier', 'flanks', 'pygarg', 'pelican']\nAspect 11:  ['ran', 'hasted', 'sat', 'arose', 'beheld', 'passed', 'met', 'kissed', 'returned', 'entered']\nAspect 12:  ['syrians', 'pursued', 'jericho', 'overtook', 'bethshittah', 'hit', 'garrison', 'overturned', 'along', 'landed']\nAspect 13:  ['pedahel', 'zebulunites', 'shuhamites', 'shiloni', 'asherites', 'azzan', 'landing', 'masrekah', 'mahali', 'shuham']\nAspect 14:  ['pharah', 'avim', 'hod', 'shilshah', 'remeth', 'beera', 'shamma', 'enhaddah', 'bethpazzez', 'amam']\nAspect 15:  ['rebekah', 'companion', 'rizpah', 'tamar', 'naomi', 'aiah', 'wife', 'sister', 'conceived', 'abigail']\nAspect 16:  ['escape', 'depart', 'flee', 'abide', 'get', 'enter', 'remain', 'swallow', 'bring', 'drive']\nAspect 17:  ['asswaged', 'interpreting', 'performing', 'wraths', 'shamhuth', 'uncorruptness', 'appeaseth', 'izrahite', 'asswage', 'zebulunites']\nAspect 18:  ['dreams', 'read', 'seer', 'learned', 'sayings', 'prophecy', 'understand', 'misused', 'answer', 'words']\nAspect 19:  ['sheweth', 'gentleness', 'saviour', 'glorious', 'longsuffering', 'unrighteousness', 'majesty', 'salvation', 'goodness', 'honour']\nAspect 20:  ['thirteen', 'zephon', 'phuvah', 'gadites', 'shuni', 'pahathmoab', 'issachar', 'shunites', 'shobai', 'talmon']\nAspect 21:  ['fatherless', 'poor', 'needy', 'widow', 'rich', 'stranger', 'taker', 'oppress', 'widows', 'giver']\nAspect 22:  ['clouds', 'heat', 'cloud', 'floods', 'tempest', 'smoke', 'overflowing', 'dark', 'thunder', 'waterspouts']\nAspect 23:  ['geshurites', 'amalekites', 'overtook', 'archi', 'coast', 'maachathites', 'bethjeshimoth', 'hamath', 'aroer', 'heshbon']\nAspect 24:  ['art', 'doest', 'heardest', 'sayest', 'spakest', 'wast', 'seest', 'sawest', 'saidst', 'knowest']\nAspect 25:  ['solemn', 'feasts', 'sacrifice', 'offer', 'sabbaths', 'hallow', 'thanksgiving', 'ordinance', 'sanctify', 'incense']\nAspect 26:  ['battle', 'war', 'fight', 'armed', 'syrians', 'armies', 'smelleth', 'fought', 'weapons', 'paweth']\nAspect 27:  ['robe', 'girded', 'mantle', 'beard', 'hem', 'fetters', 'towel', 'breeches', 'legs', 'purple']\nAspect 28:  ['magnify', 'prosper', 'rather', 'enemy', 'magnified', 'honor', 'thee', 'ashamed', 'preserve', 'saved']\nAspect 29:  ['killeth', 'hateth', 'gender', 'departeth', 'whoso', 'forecast', 'strifes', 'robbery', 'sinneth', 'brutish']\nAspect 30:  ['ignorance', 'falsely', 'perform', 'accept', 'hearers', 'justify', 'advantage', 'uncircumcision', 'observe', 'scythian']\n"
     ]
    }
   ],
   "source": [
    "\"\"\" Find K aspects in a Given Dataset using K-Means \"\"\"\n",
    "\n",
    "n_clusters = 30\n",
    "kmeans = KMeans(n_clusters=n_clusters, random_state=0).fit(bible_wv.vectors)\n",
    "centers = kmeans.cluster_centers_\n",
    "print('Initial aspects via K means:')\n",
    "for i in range(n_clusters):\n",
    "    print('Aspect {:02}: '.format(i+1), [word for word, _ in bible_wv.similar_by_vector(centers[i])])"
   ]
  },
  {
   "cell_type": "code",
   "execution_count": 11,
   "metadata": {},
   "outputs": [],
   "source": [
    "def coverage(data, dist=\"cosine\"):\n",
    "    if dist == \"cosine\":\n",
    "        mins = (cosine_distances(data) + np.eye(len(data)) * 1e5).min(axis=1)\n",
    "    elif dist == \"euclidean\":\n",
    "        mins = (euclidean_distances(data) + np.eye(len(data)) * 1e5).min(axis=1)\n",
    "    return np.square(np.var(mins)) / mins.mean()"
   ]
  },
  {
   "cell_type": "code",
   "execution_count": 12,
   "metadata": {},
   "outputs": [],
   "source": [
    "w_emb = torch.from_numpy(bible_wv.vectors)\n",
    "a_emb = torch.from_numpy(centers)\n",
    "seed_w = None\n",
    "num_seeds = None\n",
    "lr = 0.01\n",
    "epochs = 50\n",
    "min_len = 1\n",
    "l = 0.1\n",
    "fix_a_emb = False\n",
    "\n",
    "net = AspectAutoencoder(vocab_size, embed_size, num_aspects=n_clusters, neg_samples=10, w_emb=w_emb, a_emb=a_emb, recon_method=\"centr\", seed_w=seed_w, num_seeds=num_seeds, attention=True, fix_w_emb=True, fix_a_emb=fix_a_emb)\n",
    "\n",
    "if torch.cuda.is_available():\n",
    "    os.environ['CUDA_VISIBLE_DEVICES'] = '0'\n",
    "    net = net.cuda()\n",
    "\n",
    "rec_loss = TripletMarginCosineLoss()\n",
    "orth_loss = OrthogonalityLoss()\n",
    "\n",
    "params = filter(lambda p: p.requires_grad, net.parameters())\n",
    "optimizer = torch.optim.Adam(params, lr=lr)"
   ]
  },
  {
   "cell_type": "code",
   "execution_count": 13,
   "metadata": {},
   "outputs": [
    {
     "output_type": "display_data",
     "data": {
      "text/plain": "Total Epoch:   0%|          | 0/50 [00:00<?, ?it/s]",
      "application/vnd.jupyter.widget-view+json": {
       "version_major": 2,
       "version_minor": 0,
       "model_id": "19141bcbb73e4a21849c1028a09e2961"
      }
     },
     "metadata": {}
    },
    {
     "output_type": "display_data",
     "data": {
      "text/plain": "Epoch 0:   0%|          | 0/623 [00:00<?, ?it/s]",
      "application/vnd.jupyter.widget-view+json": {
       "version_major": 2,
       "version_minor": 0,
       "model_id": "1263fdcdbabf4d32bbf75940c4352842"
      }
     },
     "metadata": {}
    },
    {
     "output_type": "display_data",
     "data": {
      "text/plain": "Epoch 1:   0%|          | 0/623 [00:00<?, ?it/s]",
      "application/vnd.jupyter.widget-view+json": {
       "version_major": 2,
       "version_minor": 0,
       "model_id": "40096d1a6eee4c27aeda49fce3fb9f4b"
      }
     },
     "metadata": {}
    },
    {
     "output_type": "display_data",
     "data": {
      "text/plain": "Epoch 2:   0%|          | 0/623 [00:00<?, ?it/s]",
      "application/vnd.jupyter.widget-view+json": {
       "version_major": 2,
       "version_minor": 0,
       "model_id": "356b0064be8e43059afbd77a21a05dc0"
      }
     },
     "metadata": {}
    },
    {
     "output_type": "display_data",
     "data": {
      "text/plain": "Epoch 3:   0%|          | 0/623 [00:00<?, ?it/s]",
      "application/vnd.jupyter.widget-view+json": {
       "version_major": 2,
       "version_minor": 0,
       "model_id": "195748e158e14b9bbb29a27dec6ecb66"
      }
     },
     "metadata": {}
    },
    {
     "output_type": "display_data",
     "data": {
      "text/plain": "Epoch 4:   0%|          | 0/623 [00:00<?, ?it/s]",
      "application/vnd.jupyter.widget-view+json": {
       "version_major": 2,
       "version_minor": 0,
       "model_id": "97dc5bee2b444a8cba31eb739228de8a"
      }
     },
     "metadata": {}
    },
    {
     "output_type": "display_data",
     "data": {
      "text/plain": "Epoch 5:   0%|          | 0/623 [00:00<?, ?it/s]",
      "application/vnd.jupyter.widget-view+json": {
       "version_major": 2,
       "version_minor": 0,
       "model_id": "280dab2281664fe289ba6afb51047805"
      }
     },
     "metadata": {}
    },
    {
     "output_type": "display_data",
     "data": {
      "text/plain": "Epoch 6:   0%|          | 0/623 [00:00<?, ?it/s]",
      "application/vnd.jupyter.widget-view+json": {
       "version_major": 2,
       "version_minor": 0,
       "model_id": "542a8cd15faa4c33b0a758b9d8a72a4f"
      }
     },
     "metadata": {}
    },
    {
     "output_type": "display_data",
     "data": {
      "text/plain": "Epoch 7:   0%|          | 0/623 [00:00<?, ?it/s]",
      "application/vnd.jupyter.widget-view+json": {
       "version_major": 2,
       "version_minor": 0,
       "model_id": "f3404bd1420b412dbcc36edf3c11c169"
      }
     },
     "metadata": {}
    },
    {
     "output_type": "display_data",
     "data": {
      "text/plain": "Epoch 8:   0%|          | 0/623 [00:00<?, ?it/s]",
      "application/vnd.jupyter.widget-view+json": {
       "version_major": 2,
       "version_minor": 0,
       "model_id": "8696422b4868474d824e3312aee5bc18"
      }
     },
     "metadata": {}
    },
    {
     "output_type": "display_data",
     "data": {
      "text/plain": "Epoch 9:   0%|          | 0/623 [00:00<?, ?it/s]",
      "application/vnd.jupyter.widget-view+json": {
       "version_major": 2,
       "version_minor": 0,
       "model_id": "d925561b102a4670a78bf58575ca36df"
      }
     },
     "metadata": {}
    },
    {
     "output_type": "display_data",
     "data": {
      "text/plain": "Epoch 10:   0%|          | 0/623 [00:00<?, ?it/s]",
      "application/vnd.jupyter.widget-view+json": {
       "version_major": 2,
       "version_minor": 0,
       "model_id": "e7c1244b0288430e831f25dbdf9ce629"
      }
     },
     "metadata": {}
    },
    {
     "output_type": "display_data",
     "data": {
      "text/plain": "Epoch 11:   0%|          | 0/623 [00:00<?, ?it/s]",
      "application/vnd.jupyter.widget-view+json": {
       "version_major": 2,
       "version_minor": 0,
       "model_id": "10bab048846a48e2a4b252b04532d5d1"
      }
     },
     "metadata": {}
    },
    {
     "output_type": "display_data",
     "data": {
      "text/plain": "Epoch 12:   0%|          | 0/623 [00:00<?, ?it/s]",
      "application/vnd.jupyter.widget-view+json": {
       "version_major": 2,
       "version_minor": 0,
       "model_id": "624013433b2543a6a5599713cdc2232c"
      }
     },
     "metadata": {}
    },
    {
     "output_type": "display_data",
     "data": {
      "text/plain": "Epoch 13:   0%|          | 0/623 [00:00<?, ?it/s]",
      "application/vnd.jupyter.widget-view+json": {
       "version_major": 2,
       "version_minor": 0,
       "model_id": "21d26885f532436591b237f2fd187103"
      }
     },
     "metadata": {}
    },
    {
     "output_type": "display_data",
     "data": {
      "text/plain": "Epoch 14:   0%|          | 0/623 [00:00<?, ?it/s]",
      "application/vnd.jupyter.widget-view+json": {
       "version_major": 2,
       "version_minor": 0,
       "model_id": "305e6ea0a2c74b90a0fd30d3863be421"
      }
     },
     "metadata": {}
    },
    {
     "output_type": "display_data",
     "data": {
      "text/plain": "Epoch 15:   0%|          | 0/623 [00:00<?, ?it/s]",
      "application/vnd.jupyter.widget-view+json": {
       "version_major": 2,
       "version_minor": 0,
       "model_id": "ac96631b0e364ab8b764cfe52e2fefc6"
      }
     },
     "metadata": {}
    },
    {
     "output_type": "display_data",
     "data": {
      "text/plain": "Epoch 16:   0%|          | 0/623 [00:00<?, ?it/s]",
      "application/vnd.jupyter.widget-view+json": {
       "version_major": 2,
       "version_minor": 0,
       "model_id": "ae2e13831f384dce9b23d6be9aa388b5"
      }
     },
     "metadata": {}
    },
    {
     "output_type": "display_data",
     "data": {
      "text/plain": "Epoch 17:   0%|          | 0/623 [00:00<?, ?it/s]",
      "application/vnd.jupyter.widget-view+json": {
       "version_major": 2,
       "version_minor": 0,
       "model_id": "5edaae400b1042fa81824f9d2df29d79"
      }
     },
     "metadata": {}
    },
    {
     "output_type": "display_data",
     "data": {
      "text/plain": "Epoch 18:   0%|          | 0/623 [00:00<?, ?it/s]",
      "application/vnd.jupyter.widget-view+json": {
       "version_major": 2,
       "version_minor": 0,
       "model_id": "e0f6ecc3c4714b25bcc79534557dbc81"
      }
     },
     "metadata": {}
    },
    {
     "output_type": "display_data",
     "data": {
      "text/plain": "Epoch 19:   0%|          | 0/623 [00:00<?, ?it/s]",
      "application/vnd.jupyter.widget-view+json": {
       "version_major": 2,
       "version_minor": 0,
       "model_id": "985e3502429147b0b7b1f7162d1a70e2"
      }
     },
     "metadata": {}
    },
    {
     "output_type": "display_data",
     "data": {
      "text/plain": "Epoch 20:   0%|          | 0/623 [00:00<?, ?it/s]",
      "application/vnd.jupyter.widget-view+json": {
       "version_major": 2,
       "version_minor": 0,
       "model_id": "36480e8d1e9b4f36924783c96f9dcd6a"
      }
     },
     "metadata": {}
    },
    {
     "output_type": "display_data",
     "data": {
      "text/plain": "Epoch 21:   0%|          | 0/623 [00:00<?, ?it/s]",
      "application/vnd.jupyter.widget-view+json": {
       "version_major": 2,
       "version_minor": 0,
       "model_id": "ef1cf8f0229448c5bb31311fd9915bab"
      }
     },
     "metadata": {}
    },
    {
     "output_type": "display_data",
     "data": {
      "text/plain": "Epoch 22:   0%|          | 0/623 [00:00<?, ?it/s]",
      "application/vnd.jupyter.widget-view+json": {
       "version_major": 2,
       "version_minor": 0,
       "model_id": "6507cb94d30342e78dde02536f6e0432"
      }
     },
     "metadata": {}
    },
    {
     "output_type": "display_data",
     "data": {
      "text/plain": "Epoch 23:   0%|          | 0/623 [00:00<?, ?it/s]",
      "application/vnd.jupyter.widget-view+json": {
       "version_major": 2,
       "version_minor": 0,
       "model_id": "00676c11dca44236bb1963e71563dbfe"
      }
     },
     "metadata": {}
    },
    {
     "output_type": "display_data",
     "data": {
      "text/plain": "Epoch 24:   0%|          | 0/623 [00:00<?, ?it/s]",
      "application/vnd.jupyter.widget-view+json": {
       "version_major": 2,
       "version_minor": 0,
       "model_id": "d240815f5a4941d4a31ebeece75c9713"
      }
     },
     "metadata": {}
    },
    {
     "output_type": "display_data",
     "data": {
      "text/plain": "Epoch 25:   0%|          | 0/623 [00:00<?, ?it/s]",
      "application/vnd.jupyter.widget-view+json": {
       "version_major": 2,
       "version_minor": 0,
       "model_id": "84189a9e90fa40498885c3940581b984"
      }
     },
     "metadata": {}
    },
    {
     "output_type": "display_data",
     "data": {
      "text/plain": "Epoch 26:   0%|          | 0/623 [00:00<?, ?it/s]",
      "application/vnd.jupyter.widget-view+json": {
       "version_major": 2,
       "version_minor": 0,
       "model_id": "8584cb705aee4d6da213b2cd8e7bfb31"
      }
     },
     "metadata": {}
    },
    {
     "output_type": "display_data",
     "data": {
      "text/plain": "Epoch 27:   0%|          | 0/623 [00:00<?, ?it/s]",
      "application/vnd.jupyter.widget-view+json": {
       "version_major": 2,
       "version_minor": 0,
       "model_id": "521945d79bcc4f5584df7813d430e46d"
      }
     },
     "metadata": {}
    },
    {
     "output_type": "display_data",
     "data": {
      "text/plain": "Epoch 28:   0%|          | 0/623 [00:00<?, ?it/s]",
      "application/vnd.jupyter.widget-view+json": {
       "version_major": 2,
       "version_minor": 0,
       "model_id": "893e0839788b44018c659946f7fdd0a0"
      }
     },
     "metadata": {}
    },
    {
     "output_type": "display_data",
     "data": {
      "text/plain": "Epoch 29:   0%|          | 0/623 [00:00<?, ?it/s]",
      "application/vnd.jupyter.widget-view+json": {
       "version_major": 2,
       "version_minor": 0,
       "model_id": "f48377a3612644d5ac05346cd384cdbb"
      }
     },
     "metadata": {}
    },
    {
     "output_type": "display_data",
     "data": {
      "text/plain": "Epoch 30:   0%|          | 0/623 [00:00<?, ?it/s]",
      "application/vnd.jupyter.widget-view+json": {
       "version_major": 2,
       "version_minor": 0,
       "model_id": "6044c34d0ee446c48aeddc809c5f595f"
      }
     },
     "metadata": {}
    },
    {
     "output_type": "display_data",
     "data": {
      "text/plain": "Epoch 31:   0%|          | 0/623 [00:00<?, ?it/s]",
      "application/vnd.jupyter.widget-view+json": {
       "version_major": 2,
       "version_minor": 0,
       "model_id": "5b42cfbd53d040f8947af742f8946ae5"
      }
     },
     "metadata": {}
    },
    {
     "output_type": "display_data",
     "data": {
      "text/plain": "Epoch 32:   0%|          | 0/623 [00:00<?, ?it/s]",
      "application/vnd.jupyter.widget-view+json": {
       "version_major": 2,
       "version_minor": 0,
       "model_id": "159088efd9fa4a16af1ecf06504d77ce"
      }
     },
     "metadata": {}
    },
    {
     "output_type": "display_data",
     "data": {
      "text/plain": "Epoch 33:   0%|          | 0/623 [00:00<?, ?it/s]",
      "application/vnd.jupyter.widget-view+json": {
       "version_major": 2,
       "version_minor": 0,
       "model_id": "a48232219299458493d91986407990cb"
      }
     },
     "metadata": {}
    },
    {
     "output_type": "display_data",
     "data": {
      "text/plain": "Epoch 34:   0%|          | 0/623 [00:00<?, ?it/s]",
      "application/vnd.jupyter.widget-view+json": {
       "version_major": 2,
       "version_minor": 0,
       "model_id": "bdf0a2b6ee634667bb0c2f6dd0d1e295"
      }
     },
     "metadata": {}
    },
    {
     "output_type": "display_data",
     "data": {
      "text/plain": "Epoch 35:   0%|          | 0/623 [00:00<?, ?it/s]",
      "application/vnd.jupyter.widget-view+json": {
       "version_major": 2,
       "version_minor": 0,
       "model_id": "952332ab41ec40b9b9989d6891a45922"
      }
     },
     "metadata": {}
    },
    {
     "output_type": "display_data",
     "data": {
      "text/plain": "Epoch 36:   0%|          | 0/623 [00:00<?, ?it/s]",
      "application/vnd.jupyter.widget-view+json": {
       "version_major": 2,
       "version_minor": 0,
       "model_id": "02bcb292e79e4877b715ac5c621620c0"
      }
     },
     "metadata": {}
    },
    {
     "output_type": "display_data",
     "data": {
      "text/plain": "Epoch 37:   0%|          | 0/623 [00:00<?, ?it/s]",
      "application/vnd.jupyter.widget-view+json": {
       "version_major": 2,
       "version_minor": 0,
       "model_id": "ca45ef60ee1345409ba47d24a2dfcff7"
      }
     },
     "metadata": {}
    },
    {
     "output_type": "display_data",
     "data": {
      "text/plain": "Epoch 38:   0%|          | 0/623 [00:00<?, ?it/s]",
      "application/vnd.jupyter.widget-view+json": {
       "version_major": 2,
       "version_minor": 0,
       "model_id": "462c2c3e558f4ac587cbd80967a1831f"
      }
     },
     "metadata": {}
    },
    {
     "output_type": "display_data",
     "data": {
      "text/plain": "Epoch 39:   0%|          | 0/623 [00:00<?, ?it/s]",
      "application/vnd.jupyter.widget-view+json": {
       "version_major": 2,
       "version_minor": 0,
       "model_id": "4f70e51e52fb4ee38db2287f13fddec5"
      }
     },
     "metadata": {}
    },
    {
     "output_type": "display_data",
     "data": {
      "text/plain": "Epoch 40:   0%|          | 0/623 [00:00<?, ?it/s]",
      "application/vnd.jupyter.widget-view+json": {
       "version_major": 2,
       "version_minor": 0,
       "model_id": "0911e528f7bf4c3f9e81afc9020e2dea"
      }
     },
     "metadata": {}
    },
    {
     "output_type": "display_data",
     "data": {
      "text/plain": "Epoch 41:   0%|          | 0/623 [00:00<?, ?it/s]",
      "application/vnd.jupyter.widget-view+json": {
       "version_major": 2,
       "version_minor": 0,
       "model_id": "c7ad905a4aa84945b55a1adbe2bcd6f0"
      }
     },
     "metadata": {}
    },
    {
     "output_type": "display_data",
     "data": {
      "text/plain": "Epoch 42:   0%|          | 0/623 [00:00<?, ?it/s]",
      "application/vnd.jupyter.widget-view+json": {
       "version_major": 2,
       "version_minor": 0,
       "model_id": "b84b5e88209442c39820bba3c070a449"
      }
     },
     "metadata": {}
    },
    {
     "output_type": "display_data",
     "data": {
      "text/plain": "Epoch 43:   0%|          | 0/623 [00:00<?, ?it/s]",
      "application/vnd.jupyter.widget-view+json": {
       "version_major": 2,
       "version_minor": 0,
       "model_id": "c0f636e173b24b368d14b490c9366c8d"
      }
     },
     "metadata": {}
    },
    {
     "output_type": "display_data",
     "data": {
      "text/plain": "Epoch 44:   0%|          | 0/623 [00:00<?, ?it/s]",
      "application/vnd.jupyter.widget-view+json": {
       "version_major": 2,
       "version_minor": 0,
       "model_id": "4f082a83f3db4f52a33216639df46ad1"
      }
     },
     "metadata": {}
    },
    {
     "output_type": "display_data",
     "data": {
      "text/plain": "Epoch 45:   0%|          | 0/623 [00:00<?, ?it/s]",
      "application/vnd.jupyter.widget-view+json": {
       "version_major": 2,
       "version_minor": 0,
       "model_id": "fce55ab5717646a4b4d1132eaa051548"
      }
     },
     "metadata": {}
    },
    {
     "output_type": "display_data",
     "data": {
      "text/plain": "Epoch 46:   0%|          | 0/623 [00:00<?, ?it/s]",
      "application/vnd.jupyter.widget-view+json": {
       "version_major": 2,
       "version_minor": 0,
       "model_id": "89ab7837ed9c42afba0541bf707b14c7"
      }
     },
     "metadata": {}
    },
    {
     "output_type": "display_data",
     "data": {
      "text/plain": "Epoch 47:   0%|          | 0/623 [00:00<?, ?it/s]",
      "application/vnd.jupyter.widget-view+json": {
       "version_major": 2,
       "version_minor": 0,
       "model_id": "4d9287c9362e45e1918dd72ed1d43bea"
      }
     },
     "metadata": {}
    },
    {
     "output_type": "display_data",
     "data": {
      "text/plain": "Epoch 48:   0%|          | 0/623 [00:00<?, ?it/s]",
      "application/vnd.jupyter.widget-view+json": {
       "version_major": 2,
       "version_minor": 0,
       "model_id": "e87add4cdf754c02bd89defe191dd978"
      }
     },
     "metadata": {}
    },
    {
     "output_type": "display_data",
     "data": {
      "text/plain": "Epoch 49:   0%|          | 0/623 [00:00<?, ?it/s]",
      "application/vnd.jupyter.widget-view+json": {
       "version_major": 2,
       "version_minor": 0,
       "model_id": "ce80f57015584293b744c1f879f49492"
      }
     },
     "metadata": {}
    }
   ],
   "source": [
    "net.train()\n",
    "for epoch in tqdm(range(epochs), desc='Total Epoch'):\n",
    "\n",
    "    for lines, ids in tqdm(dataloader, position=0, leave=False, desc='Epoch {}'.format(epoch)):\n",
    "        inputs = Variable(torch.Tensor(lines).long())\n",
    "\n",
    "        if inputs.shape[1] < min_len:\n",
    "            continue\n",
    "\n",
    "        if torch.cuda.is_available():\n",
    "            inputs = inputs.cuda()\n",
    "\n",
    "        out, a_probs = net(inputs)\n",
    "\n",
    "        positives, negatives = net.get_targets()\n",
    "        loss = rec_loss(out, positives, negatives)\n",
    "\n",
    "        if not fix_a_emb:\n",
    "            aspects = net.get_aspects()\n",
    "            loss += l * orth_loss(aspects)\n",
    "\n",
    "        optimizer.zero_grad()\n",
    "        loss.backward()\n",
    "        optimizer.step()"
   ]
  },
  {
   "cell_type": "code",
   "execution_count": 14,
   "metadata": {},
   "outputs": [
    {
     "output_type": "stream",
     "name": "stdout",
     "text": [
      "Trained aspects via ABAE:\nAspect 01:  ['jasper', 'blue', 'carved', 'beryl', 'timber', 'candlestick', 'spoons', 'fine', 'sapphire', 'overlaid']\nAspect 02:  ['paths', 'path', 'gederite', 'runnest', 'settest', 'fortieth', 'meditate', 'faithfulness', 'lovingkindness', 'goings']\nAspect 03:  ['zimmah', 'maaseiah', 'shiphi', 'galal', 'joah', 'zechariah', 'ahi', 'joel', 'malchiah', 'azriel']\nAspect 04:  ['persecutions', 'pontius', 'revenge', 'tertius', 'decrees', 'hast', 'ministry', 'upbraided', 'derided', 'commendation']\nAspect 05:  ['daughters', 'replenish', 'comparable', \"sons'\", 'wives', 'husbands', 'mahol', 'sorceress', 'madian', 'emmor']\nAspect 06:  ['years', 'months', 'days', \"years'\", 'greyheaded', 'age', 'kirjatharim', 'proofs', 'thirtieth', 'preparing']\nAspect 07:  ['uncleanness', 'villany', 'easily', 'abominations', 'idols', 'fornication', 'lust', 'conscience', 'evil', 'wickedness']\nAspect 08:  ['saw', 'shaked', 'looked', 'sat', 'followed', 'sitting', 'beholding', 'slew', 'arose', 'swollen']\nAspect 09:  ['mingled', 'honey', 'wheat', 'milk', 'cluster', 'sweeter', 'barrel', 'drank', 'flour', 'victual']\nAspect 10:  ['overflowing', 'drinketh', 'wing', 'mire', 'leaf', 'cutteth', 'skin', 'hoof', 'wither', 'cleaveth']\nAspect 11:  ['kept', 'gone', 'transgressed', 'entered', 'passed', 'despised', 'familiar', 'befallen', 'wholesome', 'dealt']\nAspect 12:  ['horseback', 'boasting', 'wedding', 'apace', 'philip', 'penny', 'mordecai', 'arrow', 'cumbered', 'messias']\nAspect 13:  ['require', 'live', 'amos', 'speaking', 'doting', 'sorrowful', 'long', 'inquired', 'answering', 'die']\nAspect 14:  ['pochereth', 'zebaim', 'hattil', 'hizkijah', 'azzur', 'giddel', 'harsha', 'hatipha', 'neziah', 'mehida']\nAspect 15:  ['daughter', 'sister', 'virgin', 'maachah', 'tamar', 'hadassah', 'mahalath', 'wife', 'abi', 'jochebed']\nAspect 16:  ['thine', 'escape', 'fail', 'anointest', 'behold', 'bring', 'tread', 'carry', 'stretch', 'break']\nAspect 17:  ['aristarchus', 'perseverance', 'lucas', 'beseech', 'greet', 'speech', 'render', 'dearly', 'physician', 'watching']\nAspect 18:  ['book', 'teachers', 'learned', 'acts', 'read', 'records', 'note', 'letter', 'persians', 'accusers']\nAspect 19:  ['glorious', 'praised', 'extol', 'whose', 'holiness', 'invisible', 'express', 'formed', 'defence', 'declared']\nAspect 20:  ['family', 'greatest', 'thousand', 'merarites', 'fourscore', 'gadites', 'servitor', 'half', 'threescore', 'demanded']\nAspect 21:  ['usury', \"soldiers'\", 'murder', 'innocent', 'manslayer', 'innocents', 'revenger', 'perjured', 'menstealers', 'fornicator']\nAspect 22:  ['mount', 'pillar', 'angel', 'gerizim', 'jezrahiah', 'notable', 'moon', 'watchtower', 'cloudy', 'incense']\nAspect 23:  ['mount', 'coast', 'plain', 'archi', 'misrephothmaim', 'seir', 'aija', 'border', 'migdol', 'ashkelon']\nAspect 24:  ['hast', 'sayest', 'thou', 'art', 'wouldest', 'didst', 'canst', 'marchedst', 'wast', 'hadst']\nAspect 25:  ['thanksgiving', 'jezrahiah', 'singers', 'levites', 'trumpeters', 'spreadings', 'ordinance', 'sang', 'entries', 'solemn']\nAspect 26:  ['war', 'battle', 'fight', 'sword', 'slaughter', 'discharge', 'smite', 'fought', 'forborn', 'gideon']\nAspect 27:  ['shoulder', 'neck', 'girdle', 'spunge', 'loosed', 'vail', 'bound', 'cart', 'earrings', 'cords']\nAspect 28:  ['trust', 'ashamed', 'reproach', 'roller', 'afraid', 'reason', 'hezekiah', 'surely', 'egyptians', 'grievous']\nAspect 29:  ['understanding', 'wisdom', 'skill', 'prudent', 'descendeth', 'brutish', 'reproof', 'lowly', 'devilish', 'endued']\nAspect 30:  ['shambles', 'state', 'whatsoever', 'else', \"herodias'\", 'lovers', 'withhold', 'beside', 'adversity', 'lodging']\n"
     ]
    }
   ],
   "source": [
    "abae_centers = net.get_aspects().detach().cpu().numpy()\n",
    "\n",
    "print('Trained aspects via ABAE:')\n",
    "for i in range(n_clusters):\n",
    "    print('Aspect {:02}: '.format(i+1), [word for word, _ in bible_wv.similar_by_vector(abae_centers[i])])"
   ]
  },
  {
   "cell_type": "code",
   "execution_count": null,
   "metadata": {},
   "outputs": [],
   "source": []
  },
  {
   "cell_type": "code",
   "execution_count": 15,
   "metadata": {},
   "outputs": [
    {
     "output_type": "execute_result",
     "data": {
      "text/plain": [
       "(0.0024269185946572385, 4.722911900503771e-10)"
      ]
     },
     "metadata": {},
     "execution_count": 15
    }
   ],
   "source": [
    "coverage(centers), coverage(abae_centers)"
   ]
  },
  {
   "cell_type": "code",
   "execution_count": 16,
   "metadata": {},
   "outputs": [
    {
     "output_type": "stream",
     "name": "stdout",
     "text": [
      "9008.769827902317 0.28964311570917006\n",
      "[140, 4939, 17159, 27960, 30813, 31095, 31101, 31103, 31103, 31103]\n",
      "[1545, 339, 1786, 428, 778, 5542, 1157, 813, 953, 1419, 787, 292, 325, 1303, 1979, 565, 774, 428, 1087, 441, 308, 381, 2459, 1216, 937, 327, 769, 364, 1334, 267]\n",
      "Epoch 50 recon:  0.00034049082703413425 orign:  0.00043677103726729474\n"
     ]
    }
   ],
   "source": [
    "outs = list()\n",
    "poss = list()\n",
    "aspects = list()\n",
    "recon_embedding = list()\n",
    "orign_embedding = list()\n",
    "for lines, ids in dataloader:\n",
    "    inputs = Variable(torch.Tensor(lines).long())\n",
    "\n",
    "    if inputs.shape[1] < min_len:\n",
    "        continue\n",
    "\n",
    "    if torch.cuda.is_available():\n",
    "        inputs = inputs.cuda()\n",
    "\n",
    "    out, a_probs = net(inputs)\n",
    "\n",
    "    positives, negatives = net.get_targets()\n",
    "\n",
    "    outs.append(out.detach().cpu().numpy())\n",
    "    poss.append(positives.detach().cpu().numpy())\n",
    "    aspects.append(a_probs.detach().cpu().numpy())\n",
    "\n",
    "    recon_embedding.append(out.detach().cpu().numpy())\n",
    "    orign_embedding.append(positives.detach().cpu().numpy())\n",
    "\n",
    "outs = np.concatenate(outs, axis=0)\n",
    "poss = np.concatenate(poss, axis=0)\n",
    "aspects = np.concatenate(aspects, axis=0)\n",
    "\n",
    "cos_dis = list()\n",
    "for a, b in zip(outs, poss):\n",
    "    cos_dis.append(cosine_distances(a.reshape(1, -1), b.reshape(1, -1))[0, 0])\n",
    "print(sum(cos_dis), sum(cos_dis) / len(cos_dis))\n",
    "\n",
    "cos_dis_stat = [np.sum(np.array(cos_dis) <= i * 0.1) for i in range(1, 11)]\n",
    "print(cos_dis_stat)\n",
    "\n",
    "aspects_probs = aspects.copy()\n",
    "aspects = np.argmax(aspects, axis=1)\n",
    "aspects_stat = [np.sum(aspects == i) for i in range(n_clusters)]\n",
    "print(aspects_stat)\n",
    "\n",
    "recon_embedding = np.concatenate(recon_embedding, axis=0)\n",
    "orign_embedding = np.concatenate(orign_embedding, axis=0)\n",
    "print(f\"Epoch {epoch+1}\", \"recon: \", coverage(recon_embedding, \"cosine\"), \"orign: \", coverage(orign_embedding, \"cosine\"))"
   ]
  },
  {
   "cell_type": "code",
   "execution_count": 17,
   "metadata": {},
   "outputs": [
    {
     "output_type": "display_data",
     "data": {
      "text/plain": "<Figure size 576x288 with 1 Axes>",
      "image/svg+xml": "<?xml version=\"1.0\" encoding=\"utf-8\" standalone=\"no\"?>\n<!DOCTYPE svg PUBLIC \"-//W3C//DTD SVG 1.1//EN\"\n  \"http://www.w3.org/Graphics/SVG/1.1/DTD/svg11.dtd\">\n<!-- Created with matplotlib (https://matplotlib.org/) -->\n<svg height=\"280.8pt\" version=\"1.1\" viewBox=\"0 0 568.8 280.8\" width=\"568.8pt\" xmlns=\"http://www.w3.org/2000/svg\" xmlns:xlink=\"http://www.w3.org/1999/xlink\">\n <metadata>\n  <rdf:RDF xmlns:cc=\"http://creativecommons.org/ns#\" xmlns:dc=\"http://purl.org/dc/elements/1.1/\" xmlns:rdf=\"http://www.w3.org/1999/02/22-rdf-syntax-ns#\">\n   <cc:Work>\n    <dc:type rdf:resource=\"http://purl.org/dc/dcmitype/StillImage\"/>\n    <dc:date>2021-06-18T00:39:03.078793</dc:date>\n    <dc:format>image/svg+xml</dc:format>\n    <dc:creator>\n     <cc:Agent>\n      <dc:title>Matplotlib v3.3.4, https://matplotlib.org/</dc:title>\n     </cc:Agent>\n    </dc:creator>\n   </cc:Work>\n  </rdf:RDF>\n </metadata>\n <defs>\n  <style type=\"text/css\">*{stroke-linecap:butt;stroke-linejoin:round;}</style>\n </defs>\n <g id=\"figure_1\">\n  <g id=\"patch_1\">\n   <path d=\"M 0 280.8 \nL 568.8 280.8 \nL 568.8 0 \nL 0 0 \nz\n\" style=\"fill:none;\"/>\n  </g>\n  <g id=\"axes_1\">\n   <g id=\"patch_2\">\n    <path d=\"M 59.690625 243.24375 \nL 561.6 243.24375 \nL 561.6 22.318125 \nL 59.690625 22.318125 \nz\n\" style=\"fill:#ffffff;\"/>\n   </g>\n   <g id=\"patch_3\">\n    <path clip-path=\"url(#p4ba41ed267)\" d=\"M 82.504688 243.24375 \nL 105.31875 243.24375 \nL 105.31875 242.93257 \nL 82.504688 242.93257 \nz\n\" style=\"fill:#1f77b4;fill-opacity:0.5;stroke:#000000;stroke-linejoin:miter;\"/>\n   </g>\n   <g id=\"patch_4\">\n    <path clip-path=\"url(#p4ba41ed267)\" d=\"M 105.31875 243.24375 \nL 128.132812 243.24375 \nL 128.132812 240.47695 \nL 105.31875 240.47695 \nz\n\" style=\"fill:#1f77b4;fill-opacity:0.5;stroke:#000000;stroke-linejoin:miter;\"/>\n   </g>\n   <g id=\"patch_5\">\n    <path clip-path=\"url(#p4ba41ed267)\" d=\"M 128.132812 243.24375 \nL 150.946875 243.24375 \nL 150.946875 231.96684 \nL 128.132812 231.96684 \nz\n\" style=\"fill:#1f77b4;fill-opacity:0.5;stroke:#000000;stroke-linejoin:miter;\"/>\n   </g>\n   <g id=\"patch_6\">\n    <path clip-path=\"url(#p4ba41ed267)\" d=\"M 150.946875 243.24375 \nL 173.760937 243.24375 \nL 173.760937 215.819279 \nL 150.946875 215.819279 \nz\n\" style=\"fill:#1f77b4;fill-opacity:0.5;stroke:#000000;stroke-linejoin:miter;\"/>\n   </g>\n   <g id=\"patch_7\">\n    <path clip-path=\"url(#p4ba41ed267)\" d=\"M 173.760937 243.24375 \nL 196.575 243.24375 \nL 196.575 192.331918 \nL 173.760937 192.331918 \nz\n\" style=\"fill:#1f77b4;fill-opacity:0.5;stroke:#000000;stroke-linejoin:miter;\"/>\n   </g>\n   <g id=\"patch_8\">\n    <path clip-path=\"url(#p4ba41ed267)\" d=\"M 196.575 243.24375 \nL 219.389062 243.24375 \nL 219.389062 163.432722 \nL 196.575 163.432722 \nz\n\" style=\"fill:#1f77b4;fill-opacity:0.5;stroke:#000000;stroke-linejoin:miter;\"/>\n   </g>\n   <g id=\"patch_9\">\n    <path clip-path=\"url(#p4ba41ed267)\" d=\"M 219.389062 243.24375 \nL 242.203125 243.24375 \nL 242.203125 130.041704 \nL 219.389062 130.041704 \nz\n\" style=\"fill:#1f77b4;fill-opacity:0.5;stroke:#000000;stroke-linejoin:miter;\"/>\n   </g>\n   <g id=\"patch_10\">\n    <path clip-path=\"url(#p4ba41ed267)\" d=\"M 242.203125 243.24375 \nL 265.017187 243.24375 \nL 265.017187 98.091586 \nL 242.203125 98.091586 \nz\n\" style=\"fill:#1f77b4;fill-opacity:0.5;stroke:#000000;stroke-linejoin:miter;\"/>\n   </g>\n   <g id=\"patch_11\">\n    <path clip-path=\"url(#p4ba41ed267)\" d=\"M 265.017187 243.24375 \nL 287.83125 243.24375 \nL 287.83125 70.849765 \nL 265.017187 70.849765 \nz\n\" style=\"fill:#1f77b4;fill-opacity:0.5;stroke:#000000;stroke-linejoin:miter;\"/>\n   </g>\n   <g id=\"patch_12\">\n    <path clip-path=\"url(#p4ba41ed267)\" d=\"M 287.83125 243.24375 \nL 310.645312 243.24375 \nL 310.645312 53.024535 \nL 287.83125 53.024535 \nz\n\" style=\"fill:#1f77b4;fill-opacity:0.5;stroke:#000000;stroke-linejoin:miter;\"/>\n   </g>\n   <g id=\"patch_13\">\n    <path clip-path=\"url(#p4ba41ed267)\" d=\"M 310.645312 243.24375 \nL 333.459375 243.24375 \nL 333.459375 42.072335 \nL 310.645312 42.072335 \nz\n\" style=\"fill:#1f77b4;fill-opacity:0.5;stroke:#000000;stroke-linejoin:miter;\"/>\n   </g>\n   <g id=\"patch_14\">\n    <path clip-path=\"url(#p4ba41ed267)\" d=\"M 333.459375 243.24375 \nL 356.273438 243.24375 \nL 356.273438 36.890504 \nL 333.459375 36.890504 \nz\n\" style=\"fill:#1f77b4;fill-opacity:0.5;stroke:#000000;stroke-linejoin:miter;\"/>\n   </g>\n   <g id=\"patch_15\">\n    <path clip-path=\"url(#p4ba41ed267)\" d=\"M 356.273437 243.24375 \nL 379.0875 243.24375 \nL 379.0875 34.380766 \nL 356.273437 34.380766 \nz\n\" style=\"fill:#1f77b4;fill-opacity:0.5;stroke:#000000;stroke-linejoin:miter;\"/>\n   </g>\n   <g id=\"patch_16\">\n    <path clip-path=\"url(#p4ba41ed267)\" d=\"M 379.0875 243.24375 \nL 401.901562 243.24375 \nL 401.901562 33.284869 \nL 379.0875 33.284869 \nz\n\" style=\"fill:#1f77b4;fill-opacity:0.5;stroke:#000000;stroke-linejoin:miter;\"/>\n   </g>\n   <g id=\"patch_17\">\n    <path clip-path=\"url(#p4ba41ed267)\" d=\"M 401.901562 243.24375 \nL 424.715625 243.24375 \nL 424.715625 32.966924 \nL 401.901562 32.966924 \nz\n\" style=\"fill:#1f77b4;fill-opacity:0.5;stroke:#000000;stroke-linejoin:miter;\"/>\n   </g>\n   <g id=\"patch_18\">\n    <path clip-path=\"url(#p4ba41ed267)\" d=\"M 424.715625 243.24375 \nL 447.529687 243.24375 \nL 447.529687 32.872217 \nL 424.715625 32.872217 \nz\n\" style=\"fill:#1f77b4;fill-opacity:0.5;stroke:#000000;stroke-linejoin:miter;\"/>\n   </g>\n   <g id=\"patch_19\">\n    <path clip-path=\"url(#p4ba41ed267)\" d=\"M 447.529687 243.24375 \nL 470.34375 243.24375 \nL 470.34375 32.865452 \nL 447.529687 32.865452 \nz\n\" style=\"fill:#1f77b4;fill-opacity:0.5;stroke:#000000;stroke-linejoin:miter;\"/>\n   </g>\n   <g id=\"patch_20\">\n    <path clip-path=\"url(#p4ba41ed267)\" d=\"M 470.34375 243.24375 \nL 493.157812 243.24375 \nL 493.157812 32.851922 \nL 470.34375 32.851922 \nz\n\" style=\"fill:#1f77b4;fill-opacity:0.5;stroke:#000000;stroke-linejoin:miter;\"/>\n   </g>\n   <g id=\"patch_21\">\n    <path clip-path=\"url(#p4ba41ed267)\" d=\"M 493.157812 243.24375 \nL 515.971875 243.24375 \nL 515.971875 32.851922 \nL 493.157812 32.851922 \nz\n\" style=\"fill:#1f77b4;fill-opacity:0.5;stroke:#000000;stroke-linejoin:miter;\"/>\n   </g>\n   <g id=\"patch_22\">\n    <path clip-path=\"url(#p4ba41ed267)\" d=\"M 515.971875 243.24375 \nL 538.785938 243.24375 \nL 538.785938 32.838393 \nL 515.971875 32.838393 \nz\n\" style=\"fill:#1f77b4;fill-opacity:0.5;stroke:#000000;stroke-linejoin:miter;\"/>\n   </g>\n   <g id=\"matplotlib.axis_1\">\n    <g id=\"xtick_1\">\n     <g id=\"line2d_1\">\n      <defs>\n       <path d=\"M 0 0 \nL 0 3.5 \n\" id=\"m5284a05dc2\" style=\"stroke:#000000;stroke-width:0.8;\"/>\n      </defs>\n      <g>\n       <use style=\"stroke:#000000;stroke-width:0.8;\" x=\"115.64804\" xlink:href=\"#m5284a05dc2\" y=\"243.24375\"/>\n      </g>\n     </g>\n     <g id=\"text_1\">\n      <!-- 0.1 -->\n      <g transform=\"translate(107.696478 257.842188)scale(0.1 -0.1)\">\n       <defs>\n        <path d=\"M 31.78125 66.40625 \nQ 24.171875 66.40625 20.328125 58.90625 \nQ 16.5 51.421875 16.5 36.375 \nQ 16.5 21.390625 20.328125 13.890625 \nQ 24.171875 6.390625 31.78125 6.390625 \nQ 39.453125 6.390625 43.28125 13.890625 \nQ 47.125 21.390625 47.125 36.375 \nQ 47.125 51.421875 43.28125 58.90625 \nQ 39.453125 66.40625 31.78125 66.40625 \nz\nM 31.78125 74.21875 \nQ 44.046875 74.21875 50.515625 64.515625 \nQ 56.984375 54.828125 56.984375 36.375 \nQ 56.984375 17.96875 50.515625 8.265625 \nQ 44.046875 -1.421875 31.78125 -1.421875 \nQ 19.53125 -1.421875 13.0625 8.265625 \nQ 6.59375 17.96875 6.59375 36.375 \nQ 6.59375 54.828125 13.0625 64.515625 \nQ 19.53125 74.21875 31.78125 74.21875 \nz\n\" id=\"DejaVuSans-48\"/>\n        <path d=\"M 10.6875 12.40625 \nL 21 12.40625 \nL 21 0 \nL 10.6875 0 \nz\n\" id=\"DejaVuSans-46\"/>\n        <path d=\"M 12.40625 8.296875 \nL 28.515625 8.296875 \nL 28.515625 63.921875 \nL 10.984375 60.40625 \nL 10.984375 69.390625 \nL 28.421875 72.90625 \nL 38.28125 72.90625 \nL 38.28125 8.296875 \nL 54.390625 8.296875 \nL 54.390625 0 \nL 12.40625 0 \nz\n\" id=\"DejaVuSans-49\"/>\n       </defs>\n       <use xlink:href=\"#DejaVuSans-48\"/>\n       <use x=\"63.623047\" xlink:href=\"#DejaVuSans-46\"/>\n       <use x=\"95.410156\" xlink:href=\"#DejaVuSans-49\"/>\n      </g>\n     </g>\n    </g>\n    <g id=\"xtick_2\">\n     <g id=\"line2d_2\">\n      <g>\n       <use style=\"stroke:#000000;stroke-width:0.8;\" x=\"180.01256\" xlink:href=\"#m5284a05dc2\" y=\"243.24375\"/>\n      </g>\n     </g>\n     <g id=\"text_2\">\n      <!-- 0.2 -->\n      <g transform=\"translate(172.060997 257.842188)scale(0.1 -0.1)\">\n       <defs>\n        <path d=\"M 19.1875 8.296875 \nL 53.609375 8.296875 \nL 53.609375 0 \nL 7.328125 0 \nL 7.328125 8.296875 \nQ 12.9375 14.109375 22.625 23.890625 \nQ 32.328125 33.6875 34.8125 36.53125 \nQ 39.546875 41.84375 41.421875 45.53125 \nQ 43.3125 49.21875 43.3125 52.78125 \nQ 43.3125 58.59375 39.234375 62.25 \nQ 35.15625 65.921875 28.609375 65.921875 \nQ 23.96875 65.921875 18.8125 64.3125 \nQ 13.671875 62.703125 7.8125 59.421875 \nL 7.8125 69.390625 \nQ 13.765625 71.78125 18.9375 73 \nQ 24.125 74.21875 28.421875 74.21875 \nQ 39.75 74.21875 46.484375 68.546875 \nQ 53.21875 62.890625 53.21875 53.421875 \nQ 53.21875 48.921875 51.53125 44.890625 \nQ 49.859375 40.875 45.40625 35.40625 \nQ 44.1875 33.984375 37.640625 27.21875 \nQ 31.109375 20.453125 19.1875 8.296875 \nz\n\" id=\"DejaVuSans-50\"/>\n       </defs>\n       <use xlink:href=\"#DejaVuSans-48\"/>\n       <use x=\"63.623047\" xlink:href=\"#DejaVuSans-46\"/>\n       <use x=\"95.410156\" xlink:href=\"#DejaVuSans-50\"/>\n      </g>\n     </g>\n    </g>\n    <g id=\"xtick_3\">\n     <g id=\"line2d_3\">\n      <g>\n       <use style=\"stroke:#000000;stroke-width:0.8;\" x=\"244.377079\" xlink:href=\"#m5284a05dc2\" y=\"243.24375\"/>\n      </g>\n     </g>\n     <g id=\"text_3\">\n      <!-- 0.3 -->\n      <g transform=\"translate(236.425516 257.842188)scale(0.1 -0.1)\">\n       <defs>\n        <path d=\"M 40.578125 39.3125 \nQ 47.65625 37.796875 51.625 33 \nQ 55.609375 28.21875 55.609375 21.1875 \nQ 55.609375 10.40625 48.1875 4.484375 \nQ 40.765625 -1.421875 27.09375 -1.421875 \nQ 22.515625 -1.421875 17.65625 -0.515625 \nQ 12.796875 0.390625 7.625 2.203125 \nL 7.625 11.71875 \nQ 11.71875 9.328125 16.59375 8.109375 \nQ 21.484375 6.890625 26.8125 6.890625 \nQ 36.078125 6.890625 40.9375 10.546875 \nQ 45.796875 14.203125 45.796875 21.1875 \nQ 45.796875 27.640625 41.28125 31.265625 \nQ 36.765625 34.90625 28.71875 34.90625 \nL 20.21875 34.90625 \nL 20.21875 43.015625 \nL 29.109375 43.015625 \nQ 36.375 43.015625 40.234375 45.921875 \nQ 44.09375 48.828125 44.09375 54.296875 \nQ 44.09375 59.90625 40.109375 62.90625 \nQ 36.140625 65.921875 28.71875 65.921875 \nQ 24.65625 65.921875 20.015625 65.03125 \nQ 15.375 64.15625 9.8125 62.3125 \nL 9.8125 71.09375 \nQ 15.4375 72.65625 20.34375 73.4375 \nQ 25.25 74.21875 29.59375 74.21875 \nQ 40.828125 74.21875 47.359375 69.109375 \nQ 53.90625 64.015625 53.90625 55.328125 \nQ 53.90625 49.265625 50.4375 45.09375 \nQ 46.96875 40.921875 40.578125 39.3125 \nz\n\" id=\"DejaVuSans-51\"/>\n       </defs>\n       <use xlink:href=\"#DejaVuSans-48\"/>\n       <use x=\"63.623047\" xlink:href=\"#DejaVuSans-46\"/>\n       <use x=\"95.410156\" xlink:href=\"#DejaVuSans-51\"/>\n      </g>\n     </g>\n    </g>\n    <g id=\"xtick_4\">\n     <g id=\"line2d_4\">\n      <g>\n       <use style=\"stroke:#000000;stroke-width:0.8;\" x=\"308.741598\" xlink:href=\"#m5284a05dc2\" y=\"243.24375\"/>\n      </g>\n     </g>\n     <g id=\"text_4\">\n      <!-- 0.4 -->\n      <g transform=\"translate(300.790036 257.842188)scale(0.1 -0.1)\">\n       <defs>\n        <path d=\"M 37.796875 64.3125 \nL 12.890625 25.390625 \nL 37.796875 25.390625 \nz\nM 35.203125 72.90625 \nL 47.609375 72.90625 \nL 47.609375 25.390625 \nL 58.015625 25.390625 \nL 58.015625 17.1875 \nL 47.609375 17.1875 \nL 47.609375 0 \nL 37.796875 0 \nL 37.796875 17.1875 \nL 4.890625 17.1875 \nL 4.890625 26.703125 \nz\n\" id=\"DejaVuSans-52\"/>\n       </defs>\n       <use xlink:href=\"#DejaVuSans-48\"/>\n       <use x=\"63.623047\" xlink:href=\"#DejaVuSans-46\"/>\n       <use x=\"95.410156\" xlink:href=\"#DejaVuSans-52\"/>\n      </g>\n     </g>\n    </g>\n    <g id=\"xtick_5\">\n     <g id=\"line2d_5\">\n      <g>\n       <use style=\"stroke:#000000;stroke-width:0.8;\" x=\"373.106117\" xlink:href=\"#m5284a05dc2\" y=\"243.24375\"/>\n      </g>\n     </g>\n     <g id=\"text_5\">\n      <!-- 0.5 -->\n      <g transform=\"translate(365.154555 257.842188)scale(0.1 -0.1)\">\n       <defs>\n        <path d=\"M 10.796875 72.90625 \nL 49.515625 72.90625 \nL 49.515625 64.59375 \nL 19.828125 64.59375 \nL 19.828125 46.734375 \nQ 21.96875 47.46875 24.109375 47.828125 \nQ 26.265625 48.1875 28.421875 48.1875 \nQ 40.625 48.1875 47.75 41.5 \nQ 54.890625 34.8125 54.890625 23.390625 \nQ 54.890625 11.625 47.5625 5.09375 \nQ 40.234375 -1.421875 26.90625 -1.421875 \nQ 22.3125 -1.421875 17.546875 -0.640625 \nQ 12.796875 0.140625 7.71875 1.703125 \nL 7.71875 11.625 \nQ 12.109375 9.234375 16.796875 8.0625 \nQ 21.484375 6.890625 26.703125 6.890625 \nQ 35.15625 6.890625 40.078125 11.328125 \nQ 45.015625 15.765625 45.015625 23.390625 \nQ 45.015625 31 40.078125 35.4375 \nQ 35.15625 39.890625 26.703125 39.890625 \nQ 22.75 39.890625 18.8125 39.015625 \nQ 14.890625 38.140625 10.796875 36.28125 \nz\n\" id=\"DejaVuSans-53\"/>\n       </defs>\n       <use xlink:href=\"#DejaVuSans-48\"/>\n       <use x=\"63.623047\" xlink:href=\"#DejaVuSans-46\"/>\n       <use x=\"95.410156\" xlink:href=\"#DejaVuSans-53\"/>\n      </g>\n     </g>\n    </g>\n    <g id=\"xtick_6\">\n     <g id=\"line2d_6\">\n      <g>\n       <use style=\"stroke:#000000;stroke-width:0.8;\" x=\"437.470637\" xlink:href=\"#m5284a05dc2\" y=\"243.24375\"/>\n      </g>\n     </g>\n     <g id=\"text_6\">\n      <!-- 0.6 -->\n      <g transform=\"translate(429.519074 257.842188)scale(0.1 -0.1)\">\n       <defs>\n        <path d=\"M 33.015625 40.375 \nQ 26.375 40.375 22.484375 35.828125 \nQ 18.609375 31.296875 18.609375 23.390625 \nQ 18.609375 15.53125 22.484375 10.953125 \nQ 26.375 6.390625 33.015625 6.390625 \nQ 39.65625 6.390625 43.53125 10.953125 \nQ 47.40625 15.53125 47.40625 23.390625 \nQ 47.40625 31.296875 43.53125 35.828125 \nQ 39.65625 40.375 33.015625 40.375 \nz\nM 52.59375 71.296875 \nL 52.59375 62.3125 \nQ 48.875 64.0625 45.09375 64.984375 \nQ 41.3125 65.921875 37.59375 65.921875 \nQ 27.828125 65.921875 22.671875 59.328125 \nQ 17.53125 52.734375 16.796875 39.40625 \nQ 19.671875 43.65625 24.015625 45.921875 \nQ 28.375 48.1875 33.59375 48.1875 \nQ 44.578125 48.1875 50.953125 41.515625 \nQ 57.328125 34.859375 57.328125 23.390625 \nQ 57.328125 12.15625 50.6875 5.359375 \nQ 44.046875 -1.421875 33.015625 -1.421875 \nQ 20.359375 -1.421875 13.671875 8.265625 \nQ 6.984375 17.96875 6.984375 36.375 \nQ 6.984375 53.65625 15.1875 63.9375 \nQ 23.390625 74.21875 37.203125 74.21875 \nQ 40.921875 74.21875 44.703125 73.484375 \nQ 48.484375 72.75 52.59375 71.296875 \nz\n\" id=\"DejaVuSans-54\"/>\n       </defs>\n       <use xlink:href=\"#DejaVuSans-48\"/>\n       <use x=\"63.623047\" xlink:href=\"#DejaVuSans-46\"/>\n       <use x=\"95.410156\" xlink:href=\"#DejaVuSans-54\"/>\n      </g>\n     </g>\n    </g>\n    <g id=\"xtick_7\">\n     <g id=\"line2d_7\">\n      <g>\n       <use style=\"stroke:#000000;stroke-width:0.8;\" x=\"501.835156\" xlink:href=\"#m5284a05dc2\" y=\"243.24375\"/>\n      </g>\n     </g>\n     <g id=\"text_7\">\n      <!-- 0.7 -->\n      <g transform=\"translate(493.883593 257.842188)scale(0.1 -0.1)\">\n       <defs>\n        <path d=\"M 8.203125 72.90625 \nL 55.078125 72.90625 \nL 55.078125 68.703125 \nL 28.609375 0 \nL 18.3125 0 \nL 43.21875 64.59375 \nL 8.203125 64.59375 \nz\n\" id=\"DejaVuSans-55\"/>\n       </defs>\n       <use xlink:href=\"#DejaVuSans-48\"/>\n       <use x=\"63.623047\" xlink:href=\"#DejaVuSans-46\"/>\n       <use x=\"95.410156\" xlink:href=\"#DejaVuSans-55\"/>\n      </g>\n     </g>\n    </g>\n    <g id=\"text_8\">\n     <!-- Cosine Distance -->\n     <g transform=\"translate(270.403906 271.520312)scale(0.1 -0.1)\">\n      <defs>\n       <path d=\"M 64.40625 67.28125 \nL 64.40625 56.890625 \nQ 59.421875 61.53125 53.78125 63.8125 \nQ 48.140625 66.109375 41.796875 66.109375 \nQ 29.296875 66.109375 22.65625 58.46875 \nQ 16.015625 50.828125 16.015625 36.375 \nQ 16.015625 21.96875 22.65625 14.328125 \nQ 29.296875 6.6875 41.796875 6.6875 \nQ 48.140625 6.6875 53.78125 8.984375 \nQ 59.421875 11.28125 64.40625 15.921875 \nL 64.40625 5.609375 \nQ 59.234375 2.09375 53.4375 0.328125 \nQ 47.65625 -1.421875 41.21875 -1.421875 \nQ 24.65625 -1.421875 15.125 8.703125 \nQ 5.609375 18.84375 5.609375 36.375 \nQ 5.609375 53.953125 15.125 64.078125 \nQ 24.65625 74.21875 41.21875 74.21875 \nQ 47.75 74.21875 53.53125 72.484375 \nQ 59.328125 70.75 64.40625 67.28125 \nz\n\" id=\"DejaVuSans-67\"/>\n       <path d=\"M 30.609375 48.390625 \nQ 23.390625 48.390625 19.1875 42.75 \nQ 14.984375 37.109375 14.984375 27.296875 \nQ 14.984375 17.484375 19.15625 11.84375 \nQ 23.34375 6.203125 30.609375 6.203125 \nQ 37.796875 6.203125 41.984375 11.859375 \nQ 46.1875 17.53125 46.1875 27.296875 \nQ 46.1875 37.015625 41.984375 42.703125 \nQ 37.796875 48.390625 30.609375 48.390625 \nz\nM 30.609375 56 \nQ 42.328125 56 49.015625 48.375 \nQ 55.71875 40.765625 55.71875 27.296875 \nQ 55.71875 13.875 49.015625 6.21875 \nQ 42.328125 -1.421875 30.609375 -1.421875 \nQ 18.84375 -1.421875 12.171875 6.21875 \nQ 5.515625 13.875 5.515625 27.296875 \nQ 5.515625 40.765625 12.171875 48.375 \nQ 18.84375 56 30.609375 56 \nz\n\" id=\"DejaVuSans-111\"/>\n       <path d=\"M 44.28125 53.078125 \nL 44.28125 44.578125 \nQ 40.484375 46.53125 36.375 47.5 \nQ 32.28125 48.484375 27.875 48.484375 \nQ 21.1875 48.484375 17.84375 46.4375 \nQ 14.5 44.390625 14.5 40.28125 \nQ 14.5 37.15625 16.890625 35.375 \nQ 19.28125 33.59375 26.515625 31.984375 \nL 29.59375 31.296875 \nQ 39.15625 29.25 43.1875 25.515625 \nQ 47.21875 21.78125 47.21875 15.09375 \nQ 47.21875 7.46875 41.1875 3.015625 \nQ 35.15625 -1.421875 24.609375 -1.421875 \nQ 20.21875 -1.421875 15.453125 -0.5625 \nQ 10.6875 0.296875 5.421875 2 \nL 5.421875 11.28125 \nQ 10.40625 8.6875 15.234375 7.390625 \nQ 20.0625 6.109375 24.8125 6.109375 \nQ 31.15625 6.109375 34.5625 8.28125 \nQ 37.984375 10.453125 37.984375 14.40625 \nQ 37.984375 18.0625 35.515625 20.015625 \nQ 33.0625 21.96875 24.703125 23.78125 \nL 21.578125 24.515625 \nQ 13.234375 26.265625 9.515625 29.90625 \nQ 5.8125 33.546875 5.8125 39.890625 \nQ 5.8125 47.609375 11.28125 51.796875 \nQ 16.75 56 26.8125 56 \nQ 31.78125 56 36.171875 55.265625 \nQ 40.578125 54.546875 44.28125 53.078125 \nz\n\" id=\"DejaVuSans-115\"/>\n       <path d=\"M 9.421875 54.6875 \nL 18.40625 54.6875 \nL 18.40625 0 \nL 9.421875 0 \nz\nM 9.421875 75.984375 \nL 18.40625 75.984375 \nL 18.40625 64.59375 \nL 9.421875 64.59375 \nz\n\" id=\"DejaVuSans-105\"/>\n       <path d=\"M 54.890625 33.015625 \nL 54.890625 0 \nL 45.90625 0 \nL 45.90625 32.71875 \nQ 45.90625 40.484375 42.875 44.328125 \nQ 39.84375 48.1875 33.796875 48.1875 \nQ 26.515625 48.1875 22.3125 43.546875 \nQ 18.109375 38.921875 18.109375 30.90625 \nL 18.109375 0 \nL 9.078125 0 \nL 9.078125 54.6875 \nL 18.109375 54.6875 \nL 18.109375 46.1875 \nQ 21.34375 51.125 25.703125 53.5625 \nQ 30.078125 56 35.796875 56 \nQ 45.21875 56 50.046875 50.171875 \nQ 54.890625 44.34375 54.890625 33.015625 \nz\n\" id=\"DejaVuSans-110\"/>\n       <path d=\"M 56.203125 29.59375 \nL 56.203125 25.203125 \nL 14.890625 25.203125 \nQ 15.484375 15.921875 20.484375 11.0625 \nQ 25.484375 6.203125 34.421875 6.203125 \nQ 39.59375 6.203125 44.453125 7.46875 \nQ 49.3125 8.734375 54.109375 11.28125 \nL 54.109375 2.78125 \nQ 49.265625 0.734375 44.1875 -0.34375 \nQ 39.109375 -1.421875 33.890625 -1.421875 \nQ 20.796875 -1.421875 13.15625 6.1875 \nQ 5.515625 13.8125 5.515625 26.8125 \nQ 5.515625 40.234375 12.765625 48.109375 \nQ 20.015625 56 32.328125 56 \nQ 43.359375 56 49.78125 48.890625 \nQ 56.203125 41.796875 56.203125 29.59375 \nz\nM 47.21875 32.234375 \nQ 47.125 39.59375 43.09375 43.984375 \nQ 39.0625 48.390625 32.421875 48.390625 \nQ 24.90625 48.390625 20.390625 44.140625 \nQ 15.875 39.890625 15.1875 32.171875 \nz\n\" id=\"DejaVuSans-101\"/>\n       <path id=\"DejaVuSans-32\"/>\n       <path d=\"M 19.671875 64.796875 \nL 19.671875 8.109375 \nL 31.59375 8.109375 \nQ 46.6875 8.109375 53.6875 14.9375 \nQ 60.6875 21.78125 60.6875 36.53125 \nQ 60.6875 51.171875 53.6875 57.984375 \nQ 46.6875 64.796875 31.59375 64.796875 \nz\nM 9.8125 72.90625 \nL 30.078125 72.90625 \nQ 51.265625 72.90625 61.171875 64.09375 \nQ 71.09375 55.28125 71.09375 36.53125 \nQ 71.09375 17.671875 61.125 8.828125 \nQ 51.171875 0 30.078125 0 \nL 9.8125 0 \nz\n\" id=\"DejaVuSans-68\"/>\n       <path d=\"M 18.3125 70.21875 \nL 18.3125 54.6875 \nL 36.8125 54.6875 \nL 36.8125 47.703125 \nL 18.3125 47.703125 \nL 18.3125 18.015625 \nQ 18.3125 11.328125 20.140625 9.421875 \nQ 21.96875 7.515625 27.59375 7.515625 \nL 36.8125 7.515625 \nL 36.8125 0 \nL 27.59375 0 \nQ 17.1875 0 13.234375 3.875 \nQ 9.28125 7.765625 9.28125 18.015625 \nL 9.28125 47.703125 \nL 2.6875 47.703125 \nL 2.6875 54.6875 \nL 9.28125 54.6875 \nL 9.28125 70.21875 \nz\n\" id=\"DejaVuSans-116\"/>\n       <path d=\"M 34.28125 27.484375 \nQ 23.390625 27.484375 19.1875 25 \nQ 14.984375 22.515625 14.984375 16.5 \nQ 14.984375 11.71875 18.140625 8.90625 \nQ 21.296875 6.109375 26.703125 6.109375 \nQ 34.1875 6.109375 38.703125 11.40625 \nQ 43.21875 16.703125 43.21875 25.484375 \nL 43.21875 27.484375 \nz\nM 52.203125 31.203125 \nL 52.203125 0 \nL 43.21875 0 \nL 43.21875 8.296875 \nQ 40.140625 3.328125 35.546875 0.953125 \nQ 30.953125 -1.421875 24.3125 -1.421875 \nQ 15.921875 -1.421875 10.953125 3.296875 \nQ 6 8.015625 6 15.921875 \nQ 6 25.140625 12.171875 29.828125 \nQ 18.359375 34.515625 30.609375 34.515625 \nL 43.21875 34.515625 \nL 43.21875 35.40625 \nQ 43.21875 41.609375 39.140625 45 \nQ 35.0625 48.390625 27.6875 48.390625 \nQ 23 48.390625 18.546875 47.265625 \nQ 14.109375 46.140625 10.015625 43.890625 \nL 10.015625 52.203125 \nQ 14.9375 54.109375 19.578125 55.046875 \nQ 24.21875 56 28.609375 56 \nQ 40.484375 56 46.34375 49.84375 \nQ 52.203125 43.703125 52.203125 31.203125 \nz\n\" id=\"DejaVuSans-97\"/>\n       <path d=\"M 48.78125 52.59375 \nL 48.78125 44.1875 \nQ 44.96875 46.296875 41.140625 47.34375 \nQ 37.3125 48.390625 33.40625 48.390625 \nQ 24.65625 48.390625 19.8125 42.84375 \nQ 14.984375 37.3125 14.984375 27.296875 \nQ 14.984375 17.28125 19.8125 11.734375 \nQ 24.65625 6.203125 33.40625 6.203125 \nQ 37.3125 6.203125 41.140625 7.25 \nQ 44.96875 8.296875 48.78125 10.40625 \nL 48.78125 2.09375 \nQ 45.015625 0.34375 40.984375 -0.53125 \nQ 36.96875 -1.421875 32.421875 -1.421875 \nQ 20.0625 -1.421875 12.78125 6.34375 \nQ 5.515625 14.109375 5.515625 27.296875 \nQ 5.515625 40.671875 12.859375 48.328125 \nQ 20.21875 56 33.015625 56 \nQ 37.15625 56 41.109375 55.140625 \nQ 45.0625 54.296875 48.78125 52.59375 \nz\n\" id=\"DejaVuSans-99\"/>\n      </defs>\n      <use xlink:href=\"#DejaVuSans-67\"/>\n      <use x=\"69.824219\" xlink:href=\"#DejaVuSans-111\"/>\n      <use x=\"131.005859\" xlink:href=\"#DejaVuSans-115\"/>\n      <use x=\"183.105469\" xlink:href=\"#DejaVuSans-105\"/>\n      <use x=\"210.888672\" xlink:href=\"#DejaVuSans-110\"/>\n      <use x=\"274.267578\" xlink:href=\"#DejaVuSans-101\"/>\n      <use x=\"335.791016\" xlink:href=\"#DejaVuSans-32\"/>\n      <use x=\"367.578125\" xlink:href=\"#DejaVuSans-68\"/>\n      <use x=\"444.580078\" xlink:href=\"#DejaVuSans-105\"/>\n      <use x=\"472.363281\" xlink:href=\"#DejaVuSans-115\"/>\n      <use x=\"524.462891\" xlink:href=\"#DejaVuSans-116\"/>\n      <use x=\"563.671875\" xlink:href=\"#DejaVuSans-97\"/>\n      <use x=\"624.951172\" xlink:href=\"#DejaVuSans-110\"/>\n      <use x=\"688.330078\" xlink:href=\"#DejaVuSans-99\"/>\n      <use x=\"743.310547\" xlink:href=\"#DejaVuSans-101\"/>\n     </g>\n    </g>\n   </g>\n   <g id=\"matplotlib.axis_2\">\n    <g id=\"ytick_1\">\n     <g id=\"line2d_8\">\n      <defs>\n       <path d=\"M 0 0 \nL -3.5 0 \n\" id=\"m40252b4b6f\" style=\"stroke:#000000;stroke-width:0.8;\"/>\n      </defs>\n      <g>\n       <use style=\"stroke:#000000;stroke-width:0.8;\" x=\"59.690625\" xlink:href=\"#m40252b4b6f\" y=\"243.24375\"/>\n      </g>\n     </g>\n     <g id=\"text_9\">\n      <!-- 0 -->\n      <g transform=\"translate(46.328125 247.042969)scale(0.1 -0.1)\">\n       <use xlink:href=\"#DejaVuSans-48\"/>\n      </g>\n     </g>\n    </g>\n    <g id=\"ytick_2\">\n     <g id=\"line2d_9\">\n      <g>\n       <use style=\"stroke:#000000;stroke-width:0.8;\" x=\"59.690625\" xlink:href=\"#m40252b4b6f\" y=\"209.419785\"/>\n      </g>\n     </g>\n     <g id=\"text_10\">\n      <!-- 5000 -->\n      <g transform=\"translate(27.240625 213.219004)scale(0.1 -0.1)\">\n       <use xlink:href=\"#DejaVuSans-53\"/>\n       <use x=\"63.623047\" xlink:href=\"#DejaVuSans-48\"/>\n       <use x=\"127.246094\" xlink:href=\"#DejaVuSans-48\"/>\n       <use x=\"190.869141\" xlink:href=\"#DejaVuSans-48\"/>\n      </g>\n     </g>\n    </g>\n    <g id=\"ytick_3\">\n     <g id=\"line2d_10\">\n      <g>\n       <use style=\"stroke:#000000;stroke-width:0.8;\" x=\"59.690625\" xlink:href=\"#m40252b4b6f\" y=\"175.59582\"/>\n      </g>\n     </g>\n     <g id=\"text_11\">\n      <!-- 10000 -->\n      <g transform=\"translate(20.878125 179.395039)scale(0.1 -0.1)\">\n       <use xlink:href=\"#DejaVuSans-49\"/>\n       <use x=\"63.623047\" xlink:href=\"#DejaVuSans-48\"/>\n       <use x=\"127.246094\" xlink:href=\"#DejaVuSans-48\"/>\n       <use x=\"190.869141\" xlink:href=\"#DejaVuSans-48\"/>\n       <use x=\"254.492188\" xlink:href=\"#DejaVuSans-48\"/>\n      </g>\n     </g>\n    </g>\n    <g id=\"ytick_4\">\n     <g id=\"line2d_11\">\n      <g>\n       <use style=\"stroke:#000000;stroke-width:0.8;\" x=\"59.690625\" xlink:href=\"#m40252b4b6f\" y=\"141.771855\"/>\n      </g>\n     </g>\n     <g id=\"text_12\">\n      <!-- 15000 -->\n      <g transform=\"translate(20.878125 145.571074)scale(0.1 -0.1)\">\n       <use xlink:href=\"#DejaVuSans-49\"/>\n       <use x=\"63.623047\" xlink:href=\"#DejaVuSans-53\"/>\n       <use x=\"127.246094\" xlink:href=\"#DejaVuSans-48\"/>\n       <use x=\"190.869141\" xlink:href=\"#DejaVuSans-48\"/>\n       <use x=\"254.492188\" xlink:href=\"#DejaVuSans-48\"/>\n      </g>\n     </g>\n    </g>\n    <g id=\"ytick_5\">\n     <g id=\"line2d_12\">\n      <g>\n       <use style=\"stroke:#000000;stroke-width:0.8;\" x=\"59.690625\" xlink:href=\"#m40252b4b6f\" y=\"107.94789\"/>\n      </g>\n     </g>\n     <g id=\"text_13\">\n      <!-- 20000 -->\n      <g transform=\"translate(20.878125 111.747108)scale(0.1 -0.1)\">\n       <use xlink:href=\"#DejaVuSans-50\"/>\n       <use x=\"63.623047\" xlink:href=\"#DejaVuSans-48\"/>\n       <use x=\"127.246094\" xlink:href=\"#DejaVuSans-48\"/>\n       <use x=\"190.869141\" xlink:href=\"#DejaVuSans-48\"/>\n       <use x=\"254.492188\" xlink:href=\"#DejaVuSans-48\"/>\n      </g>\n     </g>\n    </g>\n    <g id=\"ytick_6\">\n     <g id=\"line2d_13\">\n      <g>\n       <use style=\"stroke:#000000;stroke-width:0.8;\" x=\"59.690625\" xlink:href=\"#m40252b4b6f\" y=\"74.123925\"/>\n      </g>\n     </g>\n     <g id=\"text_14\">\n      <!-- 25000 -->\n      <g transform=\"translate(20.878125 77.923143)scale(0.1 -0.1)\">\n       <use xlink:href=\"#DejaVuSans-50\"/>\n       <use x=\"63.623047\" xlink:href=\"#DejaVuSans-53\"/>\n       <use x=\"127.246094\" xlink:href=\"#DejaVuSans-48\"/>\n       <use x=\"190.869141\" xlink:href=\"#DejaVuSans-48\"/>\n       <use x=\"254.492188\" xlink:href=\"#DejaVuSans-48\"/>\n      </g>\n     </g>\n    </g>\n    <g id=\"ytick_7\">\n     <g id=\"line2d_14\">\n      <g>\n       <use style=\"stroke:#000000;stroke-width:0.8;\" x=\"59.690625\" xlink:href=\"#m40252b4b6f\" y=\"40.29996\"/>\n      </g>\n     </g>\n     <g id=\"text_15\">\n      <!-- 30000 -->\n      <g transform=\"translate(20.878125 44.099178)scale(0.1 -0.1)\">\n       <use xlink:href=\"#DejaVuSans-51\"/>\n       <use x=\"63.623047\" xlink:href=\"#DejaVuSans-48\"/>\n       <use x=\"127.246094\" xlink:href=\"#DejaVuSans-48\"/>\n       <use x=\"190.869141\" xlink:href=\"#DejaVuSans-48\"/>\n       <use x=\"254.492188\" xlink:href=\"#DejaVuSans-48\"/>\n      </g>\n     </g>\n    </g>\n    <g id=\"text_16\">\n     <!-- Count -->\n     <g transform=\"translate(14.798438 147.629375)rotate(-90)scale(0.1 -0.1)\">\n      <defs>\n       <path d=\"M 8.5 21.578125 \nL 8.5 54.6875 \nL 17.484375 54.6875 \nL 17.484375 21.921875 \nQ 17.484375 14.15625 20.5 10.265625 \nQ 23.53125 6.390625 29.59375 6.390625 \nQ 36.859375 6.390625 41.078125 11.03125 \nQ 45.3125 15.671875 45.3125 23.6875 \nL 45.3125 54.6875 \nL 54.296875 54.6875 \nL 54.296875 0 \nL 45.3125 0 \nL 45.3125 8.40625 \nQ 42.046875 3.421875 37.71875 1 \nQ 33.40625 -1.421875 27.6875 -1.421875 \nQ 18.265625 -1.421875 13.375 4.4375 \nQ 8.5 10.296875 8.5 21.578125 \nz\nM 31.109375 56 \nz\n\" id=\"DejaVuSans-117\"/>\n      </defs>\n      <use xlink:href=\"#DejaVuSans-67\"/>\n      <use x=\"69.824219\" xlink:href=\"#DejaVuSans-111\"/>\n      <use x=\"131.005859\" xlink:href=\"#DejaVuSans-117\"/>\n      <use x=\"194.384766\" xlink:href=\"#DejaVuSans-110\"/>\n      <use x=\"257.763672\" xlink:href=\"#DejaVuSans-116\"/>\n     </g>\n    </g>\n   </g>\n   <g id=\"line2d_15\">\n    <path clip-path=\"url(#p4ba41ed267)\" d=\"M 82.504688 243.24375 \nL 98.554782 243.071876 \nL 107.726264 242.728675 \nL 114.604876 242.233946 \nL 119.190617 241.729224 \nL 123.776358 241.027716 \nL 128.3621 240.081155 \nL 132.947841 238.869913 \nL 137.533582 237.406446 \nL 142.119323 235.696559 \nL 146.705064 233.712626 \nL 151.290806 231.418767 \nL 155.876547 228.800617 \nL 160.462288 225.858783 \nL 165.048029 222.588111 \nL 169.63377 218.975578 \nL 174.219512 215.02394 \nL 178.805253 210.771196 \nL 183.390994 206.271125 \nL 190.269606 199.119 \nL 194.855347 194.081179 \nL 199.441088 188.819103 \nL 204.026829 183.328054 \nL 210.905441 174.656486 \nL 217.784053 165.496848 \nL 224.662665 155.928945 \nL 233.834147 142.676813 \nL 249.884242 119.237661 \nL 259.055724 106.375122 \nL 265.934336 97.072761 \nL 272.812948 88.170124 \nL 277.398689 82.579304 \nL 281.98443 77.378398 \nL 286.570171 72.622235 \nL 291.155912 68.294942 \nL 295.741654 64.323314 \nL 300.327395 60.635646 \nL 304.913136 57.214156 \nL 309.498877 54.082118 \nL 314.084618 51.25413 \nL 318.67036 48.715936 \nL 323.256101 46.446228 \nL 327.841842 44.438213 \nL 332.427583 42.693548 \nL 337.013324 41.204354 \nL 341.599066 39.94693 \nL 346.184807 38.882845 \nL 353.063419 37.545399 \nL 359.94203 36.429779 \nL 366.820642 35.53083 \nL 373.699254 34.84835 \nL 382.870736 34.177638 \nL 394.33509 33.588871 \nL 405.799443 33.248983 \nL 424.142407 33.009266 \nL 447.071113 32.895071 \nL 538.785937 32.862473 \nL 538.785937 32.862473 \n\" style=\"fill:none;stroke:#1f77b4;stroke-linecap:square;stroke-width:1.5;\"/>\n   </g>\n   <g id=\"patch_23\">\n    <path d=\"M 59.690625 243.24375 \nL 59.690625 22.318125 \n\" style=\"fill:none;stroke:#000000;stroke-linecap:square;stroke-linejoin:miter;stroke-width:0.8;\"/>\n   </g>\n   <g id=\"patch_24\">\n    <path d=\"M 561.6 243.24375 \nL 561.6 22.318125 \n\" style=\"fill:none;stroke:#000000;stroke-linecap:square;stroke-linejoin:miter;stroke-width:0.8;\"/>\n   </g>\n   <g id=\"patch_25\">\n    <path d=\"M 59.690625 243.24375 \nL 561.6 243.24375 \n\" style=\"fill:none;stroke:#000000;stroke-linecap:square;stroke-linejoin:miter;stroke-width:0.8;\"/>\n   </g>\n   <g id=\"patch_26\">\n    <path d=\"M 59.690625 22.318125 \nL 561.6 22.318125 \n\" style=\"fill:none;stroke:#000000;stroke-linecap:square;stroke-linejoin:miter;stroke-width:0.8;\"/>\n   </g>\n   <g id=\"text_17\">\n    <!-- Cumulative Count -->\n    <g transform=\"translate(256.675312 16.318125)scale(0.12 -0.12)\">\n     <defs>\n      <path d=\"M 52 44.1875 \nQ 55.375 50.25 60.0625 53.125 \nQ 64.75 56 71.09375 56 \nQ 79.640625 56 84.28125 50.015625 \nQ 88.921875 44.046875 88.921875 33.015625 \nL 88.921875 0 \nL 79.890625 0 \nL 79.890625 32.71875 \nQ 79.890625 40.578125 77.09375 44.375 \nQ 74.3125 48.1875 68.609375 48.1875 \nQ 61.625 48.1875 57.5625 43.546875 \nQ 53.515625 38.921875 53.515625 30.90625 \nL 53.515625 0 \nL 44.484375 0 \nL 44.484375 32.71875 \nQ 44.484375 40.625 41.703125 44.40625 \nQ 38.921875 48.1875 33.109375 48.1875 \nQ 26.21875 48.1875 22.15625 43.53125 \nQ 18.109375 38.875 18.109375 30.90625 \nL 18.109375 0 \nL 9.078125 0 \nL 9.078125 54.6875 \nL 18.109375 54.6875 \nL 18.109375 46.1875 \nQ 21.1875 51.21875 25.484375 53.609375 \nQ 29.78125 56 35.6875 56 \nQ 41.65625 56 45.828125 52.96875 \nQ 50 49.953125 52 44.1875 \nz\n\" id=\"DejaVuSans-109\"/>\n      <path d=\"M 9.421875 75.984375 \nL 18.40625 75.984375 \nL 18.40625 0 \nL 9.421875 0 \nz\n\" id=\"DejaVuSans-108\"/>\n      <path d=\"M 2.984375 54.6875 \nL 12.5 54.6875 \nL 29.59375 8.796875 \nL 46.6875 54.6875 \nL 56.203125 54.6875 \nL 35.6875 0 \nL 23.484375 0 \nz\n\" id=\"DejaVuSans-118\"/>\n     </defs>\n     <use xlink:href=\"#DejaVuSans-67\"/>\n     <use x=\"69.824219\" xlink:href=\"#DejaVuSans-117\"/>\n     <use x=\"133.203125\" xlink:href=\"#DejaVuSans-109\"/>\n     <use x=\"230.615234\" xlink:href=\"#DejaVuSans-117\"/>\n     <use x=\"293.994141\" xlink:href=\"#DejaVuSans-108\"/>\n     <use x=\"321.777344\" xlink:href=\"#DejaVuSans-97\"/>\n     <use x=\"383.056641\" xlink:href=\"#DejaVuSans-116\"/>\n     <use x=\"422.265625\" xlink:href=\"#DejaVuSans-105\"/>\n     <use x=\"450.048828\" xlink:href=\"#DejaVuSans-118\"/>\n     <use x=\"509.228516\" xlink:href=\"#DejaVuSans-101\"/>\n     <use x=\"570.751953\" xlink:href=\"#DejaVuSans-32\"/>\n     <use x=\"602.539062\" xlink:href=\"#DejaVuSans-67\"/>\n     <use x=\"672.363281\" xlink:href=\"#DejaVuSans-111\"/>\n     <use x=\"733.544922\" xlink:href=\"#DejaVuSans-117\"/>\n     <use x=\"796.923828\" xlink:href=\"#DejaVuSans-110\"/>\n     <use x=\"860.302734\" xlink:href=\"#DejaVuSans-116\"/>\n    </g>\n   </g>\n  </g>\n </g>\n <defs>\n  <clipPath id=\"p4ba41ed267\">\n   <rect height=\"220.925625\" width=\"501.909375\" x=\"59.690625\" y=\"22.318125\"/>\n  </clipPath>\n </defs>\n</svg>\n",
      "image/png": "[encoded data removed]"
     },
     "metadata": {
      "needs_background": "light"
     }
    }
   ],
   "source": [
    "plt.figure(figsize=(8,4), tight_layout=True)\n",
    "ax = sns.histplot(cos_dis, cumulative=True, bins=20, kde=True)\n",
    "ax.set(title=\"Cumulative Count\", xlabel=\"Cosine Distance\", ylabel=\"Count\")\n",
    "plt.show()"
   ]
  },
  {
   "cell_type": "code",
   "execution_count": null,
   "metadata": {},
   "outputs": [],
   "source": []
  },
  {
   "cell_type": "code",
   "execution_count": 18,
   "metadata": {},
   "outputs": [],
   "source": [
    "np.save('verse2aspect.npy', aspects)"
   ]
  },
  {
   "cell_type": "code",
   "execution_count": null,
   "metadata": {},
   "outputs": [],
   "source": []
  },
  {
   "cell_type": "code",
   "execution_count": 19,
   "metadata": {},
   "outputs": [],
   "source": [
    "np.save('abae_centers.npy', abae_centers)"
   ]
  },
  {
   "cell_type": "code",
   "execution_count": 20,
   "metadata": {},
   "outputs": [
    {
     "output_type": "stream",
     "name": "stdout",
     "text": [
      "aspects_probs\n[0.02486793 0.05383529 0.02298556 0.06883367 0.02225251]\n"
     ]
    }
   ],
   "source": [
    "np.save('aspects_probs', aspects_probs)\n",
    "print(f'aspects_probs\\n{aspects_probs[0:5, 22]}')"
   ]
  }
 ],
 "metadata": {
  "interpreter": {
   "hash": "92bfc3548baa6bf47056a68e0b67ae206554386d09af1748009e58de9bd0f0fe"
  },
  "kernelspec": {
   "name": "python3",
   "display_name": "Python 3.8.3 64-bit ('base': conda)"
  },
  "language_info": {
   "name": "python",
   "version": "3.8.3"
  },
  "orig_nbformat": 2
 },
 "nbformat": 4,
 "nbformat_minor": 2
}